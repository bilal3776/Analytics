{
 "cells": [
  {
   "cell_type": "code",
   "execution_count": 2,
   "metadata": {},
   "outputs": [],
   "source": [
    "import numpy as np\n",
    "import pandas as pd\n",
    "import matplotlib.pyplot as plt\n",
    "import seaborn as sns"
   ]
  },
  {
   "cell_type": "code",
   "execution_count": 3,
   "metadata": {},
   "outputs": [],
   "source": [
    "df = pd.read_csv(r'C:\\Users\\Admin\\Downloads\\8. Netflix Dataset.csv')"
   ]
  },
  {
   "cell_type": "code",
   "execution_count": 4,
   "metadata": {},
   "outputs": [
    {
     "data": {
      "text/html": [
       "<div>\n",
       "<style scoped>\n",
       "    .dataframe tbody tr th:only-of-type {\n",
       "        vertical-align: middle;\n",
       "    }\n",
       "\n",
       "    .dataframe tbody tr th {\n",
       "        vertical-align: top;\n",
       "    }\n",
       "\n",
       "    .dataframe thead th {\n",
       "        text-align: right;\n",
       "    }\n",
       "</style>\n",
       "<table border=\"1\" class=\"dataframe\">\n",
       "  <thead>\n",
       "    <tr style=\"text-align: right;\">\n",
       "      <th></th>\n",
       "      <th>Show_Id</th>\n",
       "      <th>Category</th>\n",
       "      <th>Title</th>\n",
       "      <th>Director</th>\n",
       "      <th>Cast</th>\n",
       "      <th>Country</th>\n",
       "      <th>Release_Date</th>\n",
       "      <th>Rating</th>\n",
       "      <th>Duration</th>\n",
       "      <th>Type</th>\n",
       "      <th>Description</th>\n",
       "    </tr>\n",
       "  </thead>\n",
       "  <tbody>\n",
       "    <tr>\n",
       "      <th>0</th>\n",
       "      <td>s1</td>\n",
       "      <td>TV Show</td>\n",
       "      <td>3%</td>\n",
       "      <td>NaN</td>\n",
       "      <td>João Miguel, Bianca Comparato, Michel Gomes, R...</td>\n",
       "      <td>Brazil</td>\n",
       "      <td>August 14, 2020</td>\n",
       "      <td>TV-MA</td>\n",
       "      <td>4 Seasons</td>\n",
       "      <td>International TV Shows, TV Dramas, TV Sci-Fi &amp;...</td>\n",
       "      <td>In a future where the elite inhabit an island ...</td>\n",
       "    </tr>\n",
       "    <tr>\n",
       "      <th>1</th>\n",
       "      <td>s2</td>\n",
       "      <td>Movie</td>\n",
       "      <td>07:19</td>\n",
       "      <td>Jorge Michel Grau</td>\n",
       "      <td>Demián Bichir, Héctor Bonilla, Oscar Serrano, ...</td>\n",
       "      <td>Mexico</td>\n",
       "      <td>December 23, 2016</td>\n",
       "      <td>TV-MA</td>\n",
       "      <td>93 min</td>\n",
       "      <td>Dramas, International Movies</td>\n",
       "      <td>After a devastating earthquake hits Mexico Cit...</td>\n",
       "    </tr>\n",
       "  </tbody>\n",
       "</table>\n",
       "</div>"
      ],
      "text/plain": [
       "  Show_Id Category  Title           Director  \\\n",
       "0      s1  TV Show     3%                NaN   \n",
       "1      s2    Movie  07:19  Jorge Michel Grau   \n",
       "\n",
       "                                                Cast Country  \\\n",
       "0  João Miguel, Bianca Comparato, Michel Gomes, R...  Brazil   \n",
       "1  Demián Bichir, Héctor Bonilla, Oscar Serrano, ...  Mexico   \n",
       "\n",
       "        Release_Date Rating   Duration  \\\n",
       "0    August 14, 2020  TV-MA  4 Seasons   \n",
       "1  December 23, 2016  TV-MA     93 min   \n",
       "\n",
       "                                                Type  \\\n",
       "0  International TV Shows, TV Dramas, TV Sci-Fi &...   \n",
       "1                       Dramas, International Movies   \n",
       "\n",
       "                                         Description  \n",
       "0  In a future where the elite inhabit an island ...  \n",
       "1  After a devastating earthquake hits Mexico Cit...  "
      ]
     },
     "execution_count": 4,
     "metadata": {},
     "output_type": "execute_result"
    }
   ],
   "source": [
    "df.head(2)"
   ]
  },
  {
   "cell_type": "code",
   "execution_count": 5,
   "metadata": {},
   "outputs": [
    {
     "data": {
      "text/plain": [
       "Show_Id            0\n",
       "Category           0\n",
       "Title              0\n",
       "Director        2388\n",
       "Cast             718\n",
       "Country          507\n",
       "Release_Date      10\n",
       "Rating             7\n",
       "Duration           0\n",
       "Type               0\n",
       "Description        0\n",
       "dtype: int64"
      ]
     },
     "execution_count": 5,
     "metadata": {},
     "output_type": "execute_result"
    }
   ],
   "source": [
    "#for checking is there any null values or not\n",
    "df.isnull().sum()"
   ]
  },
  {
   "cell_type": "code",
   "execution_count": 6,
   "metadata": {},
   "outputs": [
    {
     "data": {
      "text/html": [
       "<div>\n",
       "<style scoped>\n",
       "    .dataframe tbody tr th:only-of-type {\n",
       "        vertical-align: middle;\n",
       "    }\n",
       "\n",
       "    .dataframe tbody tr th {\n",
       "        vertical-align: top;\n",
       "    }\n",
       "\n",
       "    .dataframe thead th {\n",
       "        text-align: right;\n",
       "    }\n",
       "</style>\n",
       "<table border=\"1\" class=\"dataframe\">\n",
       "  <thead>\n",
       "    <tr style=\"text-align: right;\">\n",
       "      <th></th>\n",
       "      <th>Show_Id</th>\n",
       "      <th>Category</th>\n",
       "      <th>Title</th>\n",
       "      <th>Director</th>\n",
       "      <th>Cast</th>\n",
       "      <th>Country</th>\n",
       "      <th>Release_Date</th>\n",
       "      <th>Rating</th>\n",
       "      <th>Duration</th>\n",
       "      <th>Type</th>\n",
       "      <th>Description</th>\n",
       "    </tr>\n",
       "  </thead>\n",
       "  <tbody>\n",
       "    <tr>\n",
       "      <th>0</th>\n",
       "      <td>s1</td>\n",
       "      <td>TV Show</td>\n",
       "      <td>3%</td>\n",
       "      <td>NaN</td>\n",
       "      <td>João Miguel, Bianca Comparato, Michel Gomes, R...</td>\n",
       "      <td>Brazil</td>\n",
       "      <td>August 14, 2020</td>\n",
       "      <td>TV-MA</td>\n",
       "      <td>4 Seasons</td>\n",
       "      <td>International TV Shows, TV Dramas, TV Sci-Fi &amp;...</td>\n",
       "      <td>In a future where the elite inhabit an island ...</td>\n",
       "    </tr>\n",
       "    <tr>\n",
       "      <th>1</th>\n",
       "      <td>s2</td>\n",
       "      <td>Movie</td>\n",
       "      <td>07:19</td>\n",
       "      <td>Jorge Michel Grau</td>\n",
       "      <td>Demián Bichir, Héctor Bonilla, Oscar Serrano, ...</td>\n",
       "      <td>Mexico</td>\n",
       "      <td>December 23, 2016</td>\n",
       "      <td>TV-MA</td>\n",
       "      <td>93 min</td>\n",
       "      <td>Dramas, International Movies</td>\n",
       "      <td>After a devastating earthquake hits Mexico Cit...</td>\n",
       "    </tr>\n",
       "    <tr>\n",
       "      <th>2</th>\n",
       "      <td>s3</td>\n",
       "      <td>Movie</td>\n",
       "      <td>23:59</td>\n",
       "      <td>Gilbert Chan</td>\n",
       "      <td>Tedd Chan, Stella Chung, Henley Hii, Lawrence ...</td>\n",
       "      <td>Singapore</td>\n",
       "      <td>December 20, 2018</td>\n",
       "      <td>R</td>\n",
       "      <td>78 min</td>\n",
       "      <td>Horror Movies, International Movies</td>\n",
       "      <td>When an army recruit is found dead, his fellow...</td>\n",
       "    </tr>\n",
       "    <tr>\n",
       "      <th>3</th>\n",
       "      <td>s4</td>\n",
       "      <td>Movie</td>\n",
       "      <td>9</td>\n",
       "      <td>Shane Acker</td>\n",
       "      <td>Elijah Wood, John C. Reilly, Jennifer Connelly...</td>\n",
       "      <td>United States</td>\n",
       "      <td>November 16, 2017</td>\n",
       "      <td>PG-13</td>\n",
       "      <td>80 min</td>\n",
       "      <td>Action &amp; Adventure, Independent Movies, Sci-Fi...</td>\n",
       "      <td>In a postapocalyptic world, rag-doll robots hi...</td>\n",
       "    </tr>\n",
       "    <tr>\n",
       "      <th>4</th>\n",
       "      <td>s5</td>\n",
       "      <td>Movie</td>\n",
       "      <td>21</td>\n",
       "      <td>Robert Luketic</td>\n",
       "      <td>Jim Sturgess, Kevin Spacey, Kate Bosworth, Aar...</td>\n",
       "      <td>United States</td>\n",
       "      <td>January 1, 2020</td>\n",
       "      <td>PG-13</td>\n",
       "      <td>123 min</td>\n",
       "      <td>Dramas</td>\n",
       "      <td>A brilliant group of students become card-coun...</td>\n",
       "    </tr>\n",
       "  </tbody>\n",
       "</table>\n",
       "</div>"
      ],
      "text/plain": [
       "  Show_Id Category  Title           Director  \\\n",
       "0      s1  TV Show     3%                NaN   \n",
       "1      s2    Movie  07:19  Jorge Michel Grau   \n",
       "2      s3    Movie  23:59       Gilbert Chan   \n",
       "3      s4    Movie      9        Shane Acker   \n",
       "4      s5    Movie     21     Robert Luketic   \n",
       "\n",
       "                                                Cast        Country  \\\n",
       "0  João Miguel, Bianca Comparato, Michel Gomes, R...         Brazil   \n",
       "1  Demián Bichir, Héctor Bonilla, Oscar Serrano, ...         Mexico   \n",
       "2  Tedd Chan, Stella Chung, Henley Hii, Lawrence ...      Singapore   \n",
       "3  Elijah Wood, John C. Reilly, Jennifer Connelly...  United States   \n",
       "4  Jim Sturgess, Kevin Spacey, Kate Bosworth, Aar...  United States   \n",
       "\n",
       "        Release_Date Rating   Duration  \\\n",
       "0    August 14, 2020  TV-MA  4 Seasons   \n",
       "1  December 23, 2016  TV-MA     93 min   \n",
       "2  December 20, 2018      R     78 min   \n",
       "3  November 16, 2017  PG-13     80 min   \n",
       "4    January 1, 2020  PG-13    123 min   \n",
       "\n",
       "                                                Type  \\\n",
       "0  International TV Shows, TV Dramas, TV Sci-Fi &...   \n",
       "1                       Dramas, International Movies   \n",
       "2                Horror Movies, International Movies   \n",
       "3  Action & Adventure, Independent Movies, Sci-Fi...   \n",
       "4                                             Dramas   \n",
       "\n",
       "                                         Description  \n",
       "0  In a future where the elite inhabit an island ...  \n",
       "1  After a devastating earthquake hits Mexico Cit...  \n",
       "2  When an army recruit is found dead, his fellow...  \n",
       "3  In a postapocalyptic world, rag-doll robots hi...  \n",
       "4  A brilliant group of students become card-coun...  "
      ]
     },
     "execution_count": 6,
     "metadata": {},
     "output_type": "execute_result"
    }
   ],
   "source": [
    "# 1. head\n",
    "df.head()"
   ]
  },
  {
   "cell_type": "code",
   "execution_count": 7,
   "metadata": {},
   "outputs": [
    {
     "data": {
      "text/html": [
       "<div>\n",
       "<style scoped>\n",
       "    .dataframe tbody tr th:only-of-type {\n",
       "        vertical-align: middle;\n",
       "    }\n",
       "\n",
       "    .dataframe tbody tr th {\n",
       "        vertical-align: top;\n",
       "    }\n",
       "\n",
       "    .dataframe thead th {\n",
       "        text-align: right;\n",
       "    }\n",
       "</style>\n",
       "<table border=\"1\" class=\"dataframe\">\n",
       "  <thead>\n",
       "    <tr style=\"text-align: right;\">\n",
       "      <th></th>\n",
       "      <th>Show_Id</th>\n",
       "      <th>Category</th>\n",
       "      <th>Title</th>\n",
       "      <th>Director</th>\n",
       "      <th>Cast</th>\n",
       "      <th>Country</th>\n",
       "      <th>Release_Date</th>\n",
       "      <th>Rating</th>\n",
       "      <th>Duration</th>\n",
       "      <th>Type</th>\n",
       "      <th>Description</th>\n",
       "    </tr>\n",
       "  </thead>\n",
       "  <tbody>\n",
       "    <tr>\n",
       "      <th>7784</th>\n",
       "      <td>s7783</td>\n",
       "      <td>Movie</td>\n",
       "      <td>Zozo</td>\n",
       "      <td>Josef Fares</td>\n",
       "      <td>Imad Creidi, Antoinette Turk, Elias Gergi, Car...</td>\n",
       "      <td>Sweden, Czech Republic, United Kingdom, Denmar...</td>\n",
       "      <td>October 19, 2020</td>\n",
       "      <td>TV-MA</td>\n",
       "      <td>99 min</td>\n",
       "      <td>Dramas, International Movies</td>\n",
       "      <td>When Lebanon's Civil War deprives Zozo of his ...</td>\n",
       "    </tr>\n",
       "    <tr>\n",
       "      <th>7785</th>\n",
       "      <td>s7784</td>\n",
       "      <td>Movie</td>\n",
       "      <td>Zubaan</td>\n",
       "      <td>Mozez Singh</td>\n",
       "      <td>Vicky Kaushal, Sarah-Jane Dias, Raaghav Chanan...</td>\n",
       "      <td>India</td>\n",
       "      <td>March 2, 2019</td>\n",
       "      <td>TV-14</td>\n",
       "      <td>111 min</td>\n",
       "      <td>Dramas, International Movies, Music &amp; Musicals</td>\n",
       "      <td>A scrappy but poor boy worms his way into a ty...</td>\n",
       "    </tr>\n",
       "    <tr>\n",
       "      <th>7786</th>\n",
       "      <td>s7785</td>\n",
       "      <td>Movie</td>\n",
       "      <td>Zulu Man in Japan</td>\n",
       "      <td>NaN</td>\n",
       "      <td>Nasty C</td>\n",
       "      <td>NaN</td>\n",
       "      <td>September 25, 2020</td>\n",
       "      <td>TV-MA</td>\n",
       "      <td>44 min</td>\n",
       "      <td>Documentaries, International Movies, Music &amp; M...</td>\n",
       "      <td>In this documentary, South African rapper Nast...</td>\n",
       "    </tr>\n",
       "    <tr>\n",
       "      <th>7787</th>\n",
       "      <td>s7786</td>\n",
       "      <td>TV Show</td>\n",
       "      <td>Zumbo's Just Desserts</td>\n",
       "      <td>NaN</td>\n",
       "      <td>Adriano Zumbo, Rachel Khoo</td>\n",
       "      <td>Australia</td>\n",
       "      <td>October 31, 2020</td>\n",
       "      <td>TV-PG</td>\n",
       "      <td>1 Season</td>\n",
       "      <td>International TV Shows, Reality TV</td>\n",
       "      <td>Dessert wizard Adriano Zumbo looks for the nex...</td>\n",
       "    </tr>\n",
       "    <tr>\n",
       "      <th>7788</th>\n",
       "      <td>s7787</td>\n",
       "      <td>Movie</td>\n",
       "      <td>ZZ TOP: THAT LITTLE OL' BAND FROM TEXAS</td>\n",
       "      <td>Sam Dunn</td>\n",
       "      <td>NaN</td>\n",
       "      <td>United Kingdom, Canada, United States</td>\n",
       "      <td>March 1, 2020</td>\n",
       "      <td>TV-MA</td>\n",
       "      <td>90 min</td>\n",
       "      <td>Documentaries, Music &amp; Musicals</td>\n",
       "      <td>This documentary delves into the mystique behi...</td>\n",
       "    </tr>\n",
       "  </tbody>\n",
       "</table>\n",
       "</div>"
      ],
      "text/plain": [
       "     Show_Id Category                                    Title     Director  \\\n",
       "7784   s7783    Movie                                     Zozo  Josef Fares   \n",
       "7785   s7784    Movie                                   Zubaan  Mozez Singh   \n",
       "7786   s7785    Movie                        Zulu Man in Japan          NaN   \n",
       "7787   s7786  TV Show                    Zumbo's Just Desserts          NaN   \n",
       "7788   s7787    Movie  ZZ TOP: THAT LITTLE OL' BAND FROM TEXAS     Sam Dunn   \n",
       "\n",
       "                                                   Cast  \\\n",
       "7784  Imad Creidi, Antoinette Turk, Elias Gergi, Car...   \n",
       "7785  Vicky Kaushal, Sarah-Jane Dias, Raaghav Chanan...   \n",
       "7786                                            Nasty C   \n",
       "7787                         Adriano Zumbo, Rachel Khoo   \n",
       "7788                                                NaN   \n",
       "\n",
       "                                                Country        Release_Date  \\\n",
       "7784  Sweden, Czech Republic, United Kingdom, Denmar...    October 19, 2020   \n",
       "7785                                              India       March 2, 2019   \n",
       "7786                                                NaN  September 25, 2020   \n",
       "7787                                          Australia    October 31, 2020   \n",
       "7788              United Kingdom, Canada, United States       March 1, 2020   \n",
       "\n",
       "     Rating  Duration                                               Type  \\\n",
       "7784  TV-MA    99 min                       Dramas, International Movies   \n",
       "7785  TV-14   111 min     Dramas, International Movies, Music & Musicals   \n",
       "7786  TV-MA    44 min  Documentaries, International Movies, Music & M...   \n",
       "7787  TV-PG  1 Season                 International TV Shows, Reality TV   \n",
       "7788  TV-MA    90 min                    Documentaries, Music & Musicals   \n",
       "\n",
       "                                            Description  \n",
       "7784  When Lebanon's Civil War deprives Zozo of his ...  \n",
       "7785  A scrappy but poor boy worms his way into a ty...  \n",
       "7786  In this documentary, South African rapper Nast...  \n",
       "7787  Dessert wizard Adriano Zumbo looks for the nex...  \n",
       "7788  This documentary delves into the mystique behi...  "
      ]
     },
     "execution_count": 7,
     "metadata": {},
     "output_type": "execute_result"
    }
   ],
   "source": [
    "# 2.tail\n",
    "df.tail()"
   ]
  },
  {
   "cell_type": "code",
   "execution_count": 8,
   "metadata": {},
   "outputs": [
    {
     "data": {
      "text/plain": [
       "(7789, 11)"
      ]
     },
     "execution_count": 8,
     "metadata": {},
     "output_type": "execute_result"
    }
   ],
   "source": [
    "df.shape"
   ]
  },
  {
   "cell_type": "code",
   "execution_count": 9,
   "metadata": {},
   "outputs": [
    {
     "data": {
      "text/plain": [
       "85679"
      ]
     },
     "execution_count": 9,
     "metadata": {},
     "output_type": "execute_result"
    }
   ],
   "source": [
    "df.size"
   ]
  },
  {
   "cell_type": "code",
   "execution_count": 10,
   "metadata": {},
   "outputs": [
    {
     "data": {
      "text/plain": [
       "Index(['Show_Id', 'Category', 'Title', 'Director', 'Cast', 'Country',\n",
       "       'Release_Date', 'Rating', 'Duration', 'Type', 'Description'],\n",
       "      dtype='object')"
      ]
     },
     "execution_count": 10,
     "metadata": {},
     "output_type": "execute_result"
    }
   ],
   "source": [
    "df.columns"
   ]
  },
  {
   "cell_type": "code",
   "execution_count": 11,
   "metadata": {},
   "outputs": [
    {
     "data": {
      "text/plain": [
       "Show_Id         object\n",
       "Category        object\n",
       "Title           object\n",
       "Director        object\n",
       "Cast            object\n",
       "Country         object\n",
       "Release_Date    object\n",
       "Rating          object\n",
       "Duration        object\n",
       "Type            object\n",
       "Description     object\n",
       "dtype: object"
      ]
     },
     "execution_count": 11,
     "metadata": {},
     "output_type": "execute_result"
    }
   ],
   "source": [
    "df.dtypes"
   ]
  },
  {
   "cell_type": "code",
   "execution_count": 12,
   "metadata": {},
   "outputs": [
    {
     "name": "stdout",
     "output_type": "stream",
     "text": [
      "<class 'pandas.core.frame.DataFrame'>\n",
      "RangeIndex: 7789 entries, 0 to 7788\n",
      "Data columns (total 11 columns):\n",
      " #   Column        Non-Null Count  Dtype \n",
      "---  ------        --------------  ----- \n",
      " 0   Show_Id       7789 non-null   object\n",
      " 1   Category      7789 non-null   object\n",
      " 2   Title         7789 non-null   object\n",
      " 3   Director      5401 non-null   object\n",
      " 4   Cast          7071 non-null   object\n",
      " 5   Country       7282 non-null   object\n",
      " 6   Release_Date  7779 non-null   object\n",
      " 7   Rating        7782 non-null   object\n",
      " 8   Duration      7789 non-null   object\n",
      " 9   Type          7789 non-null   object\n",
      " 10  Description   7789 non-null   object\n",
      "dtypes: object(11)\n",
      "memory usage: 669.5+ KB\n"
     ]
    }
   ],
   "source": [
    "df.info()\n"
   ]
  },
  {
   "cell_type": "code",
   "execution_count": 13,
   "metadata": {},
   "outputs": [
    {
     "data": {
      "text/html": [
       "<div>\n",
       "<style scoped>\n",
       "    .dataframe tbody tr th:only-of-type {\n",
       "        vertical-align: middle;\n",
       "    }\n",
       "\n",
       "    .dataframe tbody tr th {\n",
       "        vertical-align: top;\n",
       "    }\n",
       "\n",
       "    .dataframe thead th {\n",
       "        text-align: right;\n",
       "    }\n",
       "</style>\n",
       "<table border=\"1\" class=\"dataframe\">\n",
       "  <thead>\n",
       "    <tr style=\"text-align: right;\">\n",
       "      <th></th>\n",
       "      <th>Show_Id</th>\n",
       "      <th>Category</th>\n",
       "      <th>Title</th>\n",
       "      <th>Director</th>\n",
       "      <th>Cast</th>\n",
       "      <th>Country</th>\n",
       "      <th>Release_Date</th>\n",
       "      <th>Rating</th>\n",
       "      <th>Duration</th>\n",
       "      <th>Type</th>\n",
       "      <th>Description</th>\n",
       "    </tr>\n",
       "  </thead>\n",
       "  <tbody>\n",
       "    <tr>\n",
       "      <th>6300</th>\n",
       "      <td>s684</td>\n",
       "      <td>Movie</td>\n",
       "      <td>Backfire</td>\n",
       "      <td>Dave Patten</td>\n",
       "      <td>Black Deniro, Byron \"Squally\" Vinson, Dominic ...</td>\n",
       "      <td>United States</td>\n",
       "      <td>April 5, 2019</td>\n",
       "      <td>TV-MA</td>\n",
       "      <td>97 min</td>\n",
       "      <td>Dramas, Independent Movies, Thrillers</td>\n",
       "      <td>When two would-be robbers accidentally kill a ...</td>\n",
       "    </tr>\n",
       "    <tr>\n",
       "      <th>6622</th>\n",
       "      <td>s6621</td>\n",
       "      <td>Movie</td>\n",
       "      <td>The Lost Okoroshi</td>\n",
       "      <td>Abba T. Makama</td>\n",
       "      <td>Seun Ajayi, Judith Audu, Tope Tedela, Ifu Enna...</td>\n",
       "      <td>Nigeria</td>\n",
       "      <td>September 4, 2020</td>\n",
       "      <td>TV-MA</td>\n",
       "      <td>94 min</td>\n",
       "      <td>Comedies, Dramas, Independent Movies</td>\n",
       "      <td>A disillusioned security guard transforms into...</td>\n",
       "    </tr>\n",
       "  </tbody>\n",
       "</table>\n",
       "</div>"
      ],
      "text/plain": [
       "     Show_Id Category              Title        Director  \\\n",
       "6300    s684    Movie           Backfire     Dave Patten   \n",
       "6622   s6621    Movie  The Lost Okoroshi  Abba T. Makama   \n",
       "\n",
       "                                                   Cast        Country  \\\n",
       "6300  Black Deniro, Byron \"Squally\" Vinson, Dominic ...  United States   \n",
       "6622  Seun Ajayi, Judith Audu, Tope Tedela, Ifu Enna...        Nigeria   \n",
       "\n",
       "           Release_Date Rating Duration  \\\n",
       "6300      April 5, 2019  TV-MA   97 min   \n",
       "6622  September 4, 2020  TV-MA   94 min   \n",
       "\n",
       "                                       Type  \\\n",
       "6300  Dramas, Independent Movies, Thrillers   \n",
       "6622   Comedies, Dramas, Independent Movies   \n",
       "\n",
       "                                            Description  \n",
       "6300  When two would-be robbers accidentally kill a ...  \n",
       "6622  A disillusioned security guard transforms into...  "
      ]
     },
     "execution_count": 13,
     "metadata": {},
     "output_type": "execute_result"
    }
   ],
   "source": [
    "df[df.duplicated()]\n",
    "# show the duplicated values"
   ]
  },
  {
   "cell_type": "code",
   "execution_count": 14,
   "metadata": {},
   "outputs": [],
   "source": [
    "df.drop_duplicates()\n",
    "#to make the changes permanenet we can use inplace argument \n",
    "df.drop_duplicates(inplace=True)"
   ]
  },
  {
   "cell_type": "code",
   "execution_count": 15,
   "metadata": {},
   "outputs": [
    {
     "data": {
      "text/plain": [
       "0"
      ]
     },
     "execution_count": 15,
     "metadata": {},
     "output_type": "execute_result"
    }
   ],
   "source": [
    "df.duplicated().sum()\n",
    "#to check whether any duplicate values are there or not"
   ]
  },
  {
   "cell_type": "code",
   "execution_count": 16,
   "metadata": {},
   "outputs": [
    {
     "data": {
      "text/plain": [
       "(7787, 11)"
      ]
     },
     "execution_count": 16,
     "metadata": {},
     "output_type": "execute_result"
    }
   ],
   "source": [
    "df.shape"
   ]
  },
  {
   "cell_type": "code",
   "execution_count": 17,
   "metadata": {},
   "outputs": [
    {
     "data": {
      "image/png": "[encoded data removed]",
      "text/plain": [
       "<Figure size 640x480 with 2 Axes>"
      ]
     },
     "metadata": {},
     "output_type": "display_data"
    }
   ],
   "source": [
    "# check the null values by using heat map\n",
    "sns.heatmap(df.isnull())\n",
    "sns.set(rc = {'figure.figsize':(10,4)})   # to change the shape and size of a heatmap function"
   ]
  },
  {
   "cell_type": "code",
   "execution_count": 18,
   "metadata": {},
   "outputs": [
    {
     "data": {
      "text/plain": [
       "2832    s2833\n",
       "Name: Show_Id, dtype: object"
      ]
     },
     "execution_count": 18,
     "metadata": {},
     "output_type": "execute_result"
    }
   ],
   "source": [
    "#to get the director and showid of house of cards\n",
    "\n",
    "df[df['Title']=='House of Cards']['Show_Id']"
   ]
  },
  {
   "cell_type": "code",
   "execution_count": 19,
   "metadata": {},
   "outputs": [
    {
     "data": {
      "text/plain": [
       "2832    Robin Wright, David Fincher, Gerald McRaney, J...\n",
       "Name: Director, dtype: object"
      ]
     },
     "execution_count": 19,
     "metadata": {},
     "output_type": "execute_result"
    }
   ],
   "source": [
    "df[df['Title']=='House of Cards']['Director']"
   ]
  },
  {
   "cell_type": "code",
   "execution_count": 20,
   "metadata": {},
   "outputs": [
    {
     "data": {
      "text/html": [
       "<div>\n",
       "<style scoped>\n",
       "    .dataframe tbody tr th:only-of-type {\n",
       "        vertical-align: middle;\n",
       "    }\n",
       "\n",
       "    .dataframe tbody tr th {\n",
       "        vertical-align: top;\n",
       "    }\n",
       "\n",
       "    .dataframe thead th {\n",
       "        text-align: right;\n",
       "    }\n",
       "</style>\n",
       "<table border=\"1\" class=\"dataframe\">\n",
       "  <thead>\n",
       "    <tr style=\"text-align: right;\">\n",
       "      <th></th>\n",
       "      <th>Show_Id</th>\n",
       "      <th>Category</th>\n",
       "      <th>Title</th>\n",
       "      <th>Director</th>\n",
       "      <th>Cast</th>\n",
       "      <th>Country</th>\n",
       "      <th>Release_Date</th>\n",
       "      <th>Rating</th>\n",
       "      <th>Duration</th>\n",
       "      <th>Type</th>\n",
       "      <th>Description</th>\n",
       "    </tr>\n",
       "  </thead>\n",
       "  <tbody>\n",
       "    <tr>\n",
       "      <th>2832</th>\n",
       "      <td>s2833</td>\n",
       "      <td>TV Show</td>\n",
       "      <td>House of Cards</td>\n",
       "      <td>Robin Wright, David Fincher, Gerald McRaney, J...</td>\n",
       "      <td>Kevin Spacey, Robin Wright, Kate Mara, Corey S...</td>\n",
       "      <td>United States</td>\n",
       "      <td>November 2, 2018</td>\n",
       "      <td>TV-MA</td>\n",
       "      <td>6 Seasons</td>\n",
       "      <td>TV Dramas, TV Thrillers</td>\n",
       "      <td>A ruthless politician will stop at nothing to ...</td>\n",
       "    </tr>\n",
       "  </tbody>\n",
       "</table>\n",
       "</div>"
      ],
      "text/plain": [
       "     Show_Id Category           Title  \\\n",
       "2832   s2833  TV Show  House of Cards   \n",
       "\n",
       "                                               Director  \\\n",
       "2832  Robin Wright, David Fincher, Gerald McRaney, J...   \n",
       "\n",
       "                                                   Cast        Country  \\\n",
       "2832  Kevin Spacey, Robin Wright, Kate Mara, Corey S...  United States   \n",
       "\n",
       "          Release_Date Rating   Duration                     Type  \\\n",
       "2832  November 2, 2018  TV-MA  6 Seasons  TV Dramas, TV Thrillers   \n",
       "\n",
       "                                            Description  \n",
       "2832  A ruthless politician will stop at nothing to ...  "
      ]
     },
     "execution_count": 20,
     "metadata": {},
     "output_type": "execute_result"
    }
   ],
   "source": [
    "#other methods to get the same details using isin\n",
    "df[df['Title'].isin(['House of Cards'])]"
   ]
  },
  {
   "cell_type": "code",
   "execution_count": 21,
   "metadata": {},
   "outputs": [
    {
     "data": {
      "text/html": [
       "<div>\n",
       "<style scoped>\n",
       "    .dataframe tbody tr th:only-of-type {\n",
       "        vertical-align: middle;\n",
       "    }\n",
       "\n",
       "    .dataframe tbody tr th {\n",
       "        vertical-align: top;\n",
       "    }\n",
       "\n",
       "    .dataframe thead th {\n",
       "        text-align: right;\n",
       "    }\n",
       "</style>\n",
       "<table border=\"1\" class=\"dataframe\">\n",
       "  <thead>\n",
       "    <tr style=\"text-align: right;\">\n",
       "      <th></th>\n",
       "      <th>Show_Id</th>\n",
       "      <th>Category</th>\n",
       "      <th>Title</th>\n",
       "      <th>Director</th>\n",
       "      <th>Cast</th>\n",
       "      <th>Country</th>\n",
       "      <th>Release_Date</th>\n",
       "      <th>Rating</th>\n",
       "      <th>Duration</th>\n",
       "      <th>Type</th>\n",
       "      <th>Description</th>\n",
       "    </tr>\n",
       "  </thead>\n",
       "  <tbody>\n",
       "    <tr>\n",
       "      <th>2832</th>\n",
       "      <td>s2833</td>\n",
       "      <td>TV Show</td>\n",
       "      <td>House of Cards</td>\n",
       "      <td>Robin Wright, David Fincher, Gerald McRaney, J...</td>\n",
       "      <td>Kevin Spacey, Robin Wright, Kate Mara, Corey S...</td>\n",
       "      <td>United States</td>\n",
       "      <td>November 2, 2018</td>\n",
       "      <td>TV-MA</td>\n",
       "      <td>6 Seasons</td>\n",
       "      <td>TV Dramas, TV Thrillers</td>\n",
       "      <td>A ruthless politician will stop at nothing to ...</td>\n",
       "    </tr>\n",
       "  </tbody>\n",
       "</table>\n",
       "</div>"
      ],
      "text/plain": [
       "     Show_Id Category           Title  \\\n",
       "2832   s2833  TV Show  House of Cards   \n",
       "\n",
       "                                               Director  \\\n",
       "2832  Robin Wright, David Fincher, Gerald McRaney, J...   \n",
       "\n",
       "                                                   Cast        Country  \\\n",
       "2832  Kevin Spacey, Robin Wright, Kate Mara, Corey S...  United States   \n",
       "\n",
       "          Release_Date Rating   Duration                     Type  \\\n",
       "2832  November 2, 2018  TV-MA  6 Seasons  TV Dramas, TV Thrillers   \n",
       "\n",
       "                                            Description  \n",
       "2832  A ruthless politician will stop at nothing to ...  "
      ]
     },
     "execution_count": 21,
     "metadata": {},
     "output_type": "execute_result"
    }
   ],
   "source": [
    "#str contains\n",
    "df[df.Title.str.contains('House of Cards')]"
   ]
  },
  {
   "cell_type": "code",
   "execution_count": 23,
   "metadata": {},
   "outputs": [
    {
     "data": {
      "text/plain": [
       "Show_Id         object\n",
       "Category        object\n",
       "Title           object\n",
       "Director        object\n",
       "Cast            object\n",
       "Country         object\n",
       "Release_Date    object\n",
       "Rating          object\n",
       "Duration        object\n",
       "Type            object\n",
       "Description     object\n",
       "dtype: object"
      ]
     },
     "execution_count": 23,
     "metadata": {},
     "output_type": "execute_result"
    }
   ],
   "source": [
    "# IN which year the highest number of TV shows & movies were released. show in bar graph\n",
    "# at first we have to check the data type\n",
    "df.dtypes\n",
    "#all are object now need to convert date one"
   ]
  },
  {
   "cell_type": "code",
   "execution_count": null,
   "metadata": {},
   "outputs": [],
   "source": [
    "df['year'] = pd.to_datetime(df['Release_Date'])"
   ]
  },
  {
   "cell_type": "code",
   "execution_count": null,
   "metadata": {},
   "outputs": [
    {
     "data": {
      "text/plain": [
       "2019.0    2153\n",
       "2020.0    2009\n",
       "2018.0    1685\n",
       "2017.0    1225\n",
       "2016.0     443\n",
       "Name: year, dtype: int64"
      ]
     },
     "execution_count": 86,
     "metadata": {},
     "output_type": "execute_result"
    }
   ],
   "source": [
    "df['year'].dt.year.value_counts().sort_values(ascending=False).head()\n",
    "#as we can see the highest number of movies released in the year 2019\n",
    "# in this we have fetched the data for the year then counted the values and at last done sorting "
   ]
  },
  {
   "cell_type": "code",
   "execution_count": null,
   "metadata": {},
   "outputs": [
    {
     "data": {
      "text/plain": [
       "<AxesSubplot: >"
      ]
     },
     "execution_count": 98,
     "metadata": {},
     "output_type": "execute_result"
    },
    {
     "data": {
      "image/png": "[encoded data removed]",
      "text/plain": [
       "<Figure size 1000x400 with 1 Axes>"
      ]
     },
     "metadata": {},
     "output_type": "display_data"
    }
   ],
   "source": [
    "df['year'].dt.year.value_counts().plot(kind='bar')"
   ]
  },
  {
   "cell_type": "code",
   "execution_count": null,
   "metadata": {},
   "outputs": [
    {
     "data": {
      "text/plain": [
       "Index(['Show_Id', 'Category', 'Title', 'Director', 'Cast', 'Country',\n",
       "       'Release_Date', 'Rating', 'Duration', 'Type', 'Description', 'year'],\n",
       "      dtype='object')"
      ]
     },
     "execution_count": 100,
     "metadata": {},
     "output_type": "execute_result"
    }
   ],
   "source": [
    "df.columns"
   ]
  },
  {
   "cell_type": "code",
   "execution_count": null,
   "metadata": {},
   "outputs": [
    {
     "data": {
      "text/plain": [
       "Category\n",
       "Movie      5377\n",
       "TV Show    2410\n",
       "Name: Category, dtype: int64"
      ]
     },
     "execution_count": 132,
     "metadata": {},
     "output_type": "execute_result"
    }
   ],
   "source": [
    "#how many movies and tv shows is there in this dataset\n",
    "#df[df['Category']=='TV Show'].count()\n",
    "#df[df['Category'].str.contains('TV Show')].count()\n",
    "df.groupby('Category')['Category'].count()   # this one is the best to get the result"
   ]
  },
  {
   "cell_type": "code",
   "execution_count": null,
   "metadata": {},
   "outputs": [],
   "source": [
    "#plot in the bar graph\n",
    "# this below formula is not working to show in the graph reason unable to convert into the int values for counting\n",
    "#sns.boxplot(df['Category'])"
   ]
  },
  {
   "cell_type": "code",
   "execution_count": null,
   "metadata": {},
   "outputs": [],
   "source": [
    "#show all the movies which released in year 2000\n",
    "df['Year']= df.year.dt.year\n"
   ]
  },
  {
   "cell_type": "code",
   "execution_count": null,
   "metadata": {},
   "outputs": [
    {
     "data": {
      "text/html": [
       "<div>\n",
       "<style scoped>\n",
       "    .dataframe tbody tr th:only-of-type {\n",
       "        vertical-align: middle;\n",
       "    }\n",
       "\n",
       "    .dataframe tbody tr th {\n",
       "        vertical-align: top;\n",
       "    }\n",
       "\n",
       "    .dataframe thead th {\n",
       "        text-align: right;\n",
       "    }\n",
       "</style>\n",
       "<table border=\"1\" class=\"dataframe\">\n",
       "  <thead>\n",
       "    <tr style=\"text-align: right;\">\n",
       "      <th></th>\n",
       "      <th>Show_Id</th>\n",
       "      <th>Category</th>\n",
       "      <th>Title</th>\n",
       "      <th>Director</th>\n",
       "      <th>Cast</th>\n",
       "      <th>Country</th>\n",
       "      <th>Release_Date</th>\n",
       "      <th>Rating</th>\n",
       "      <th>Duration</th>\n",
       "      <th>Type</th>\n",
       "      <th>Description</th>\n",
       "      <th>year</th>\n",
       "      <th>Year</th>\n",
       "    </tr>\n",
       "  </thead>\n",
       "  <tbody>\n",
       "    <tr>\n",
       "      <th>4</th>\n",
       "      <td>s5</td>\n",
       "      <td>Movie</td>\n",
       "      <td>21</td>\n",
       "      <td>Robert Luketic</td>\n",
       "      <td>Jim Sturgess, Kevin Spacey, Kate Bosworth, Aar...</td>\n",
       "      <td>United States</td>\n",
       "      <td>January 1, 2020</td>\n",
       "      <td>PG-13</td>\n",
       "      <td>123 min</td>\n",
       "      <td>Dramas</td>\n",
       "      <td>A brilliant group of students become card-coun...</td>\n",
       "      <td>2020-01-01</td>\n",
       "      <td>2020.0</td>\n",
       "    </tr>\n",
       "    <tr>\n",
       "      <th>6</th>\n",
       "      <td>s7</td>\n",
       "      <td>Movie</td>\n",
       "      <td>122</td>\n",
       "      <td>Yasir Al Yasiri</td>\n",
       "      <td>Amina Khalil, Ahmed Dawood, Tarek Lotfy, Ahmed...</td>\n",
       "      <td>Egypt</td>\n",
       "      <td>June 1, 2020</td>\n",
       "      <td>TV-MA</td>\n",
       "      <td>95 min</td>\n",
       "      <td>Horror Movies, International Movies</td>\n",
       "      <td>After an awful accident, a couple admitted to ...</td>\n",
       "      <td>2020-06-01</td>\n",
       "      <td>2020.0</td>\n",
       "    </tr>\n",
       "    <tr>\n",
       "      <th>14</th>\n",
       "      <td>s15</td>\n",
       "      <td>Movie</td>\n",
       "      <td>3022</td>\n",
       "      <td>John Suits</td>\n",
       "      <td>Omar Epps, Kate Walsh, Miranda Cosgrove, Angus...</td>\n",
       "      <td>United States</td>\n",
       "      <td>March 19, 2020</td>\n",
       "      <td>R</td>\n",
       "      <td>91 min</td>\n",
       "      <td>Independent Movies, Sci-Fi &amp; Fantasy, Thrillers</td>\n",
       "      <td>Stranded when the Earth is suddenly destroyed ...</td>\n",
       "      <td>2020-03-19</td>\n",
       "      <td>2020.0</td>\n",
       "    </tr>\n",
       "  </tbody>\n",
       "</table>\n",
       "</div>"
      ],
      "text/plain": [
       "   Show_Id Category Title         Director  \\\n",
       "4       s5    Movie    21   Robert Luketic   \n",
       "6       s7    Movie   122  Yasir Al Yasiri   \n",
       "14     s15    Movie  3022       John Suits   \n",
       "\n",
       "                                                 Cast        Country  \\\n",
       "4   Jim Sturgess, Kevin Spacey, Kate Bosworth, Aar...  United States   \n",
       "6   Amina Khalil, Ahmed Dawood, Tarek Lotfy, Ahmed...          Egypt   \n",
       "14  Omar Epps, Kate Walsh, Miranda Cosgrove, Angus...  United States   \n",
       "\n",
       "       Release_Date Rating Duration  \\\n",
       "4   January 1, 2020  PG-13  123 min   \n",
       "6      June 1, 2020  TV-MA   95 min   \n",
       "14   March 19, 2020      R   91 min   \n",
       "\n",
       "                                               Type  \\\n",
       "4                                            Dramas   \n",
       "6               Horror Movies, International Movies   \n",
       "14  Independent Movies, Sci-Fi & Fantasy, Thrillers   \n",
       "\n",
       "                                          Description       year    Year  \n",
       "4   A brilliant group of students become card-coun... 2020-01-01  2020.0  \n",
       "6   After an awful accident, a couple admitted to ... 2020-06-01  2020.0  \n",
       "14  Stranded when the Earth is suddenly destroyed ... 2020-03-19  2020.0  "
      ]
     },
     "execution_count": 162,
     "metadata": {},
     "output_type": "execute_result"
    }
   ],
   "source": [
    "df[(df.Category=='Movie') & (df.Year==2020)].head(3)"
   ]
  },
  {
   "cell_type": "code",
   "execution_count": null,
   "metadata": {},
   "outputs": [
    {
     "name": "stderr",
     "output_type": "stream",
     "text": [
      "C:\\Users\\Admin\\AppData\\Local\\Temp\\ipykernel_3268\\1988746281.py:2: FutureWarning: Indexing with multiple keys (implicitly converted to a tuple of keys) will be deprecated, use a list instead.\n",
      "  df1= df.groupby('Country')[('Country', 'Title')]\n"
     ]
    }
   ],
   "source": [
    "#show only the titles of the movies that were released in India\n",
    "df1= df.groupby('Country')[('Country', 'Title')]\n"
   ]
  },
  {
   "cell_type": "code",
   "execution_count": null,
   "metadata": {},
   "outputs": [
    {
     "data": {
      "text/html": [
       "<div>\n",
       "<style scoped>\n",
       "    .dataframe tbody tr th:only-of-type {\n",
       "        vertical-align: middle;\n",
       "    }\n",
       "\n",
       "    .dataframe tbody tr th {\n",
       "        vertical-align: top;\n",
       "    }\n",
       "\n",
       "    .dataframe thead th {\n",
       "        text-align: right;\n",
       "    }\n",
       "</style>\n",
       "<table border=\"1\" class=\"dataframe\">\n",
       "  <thead>\n",
       "    <tr style=\"text-align: right;\">\n",
       "      <th></th>\n",
       "      <th>Show_Id</th>\n",
       "      <th>Category</th>\n",
       "      <th>Title</th>\n",
       "      <th>Director</th>\n",
       "      <th>Cast</th>\n",
       "      <th>Country</th>\n",
       "      <th>Release_Date</th>\n",
       "      <th>Rating</th>\n",
       "      <th>Duration</th>\n",
       "      <th>Type</th>\n",
       "      <th>Description</th>\n",
       "      <th>year</th>\n",
       "      <th>Year</th>\n",
       "    </tr>\n",
       "  </thead>\n",
       "  <tbody>\n",
       "    <tr>\n",
       "      <th>8</th>\n",
       "      <td>s9</td>\n",
       "      <td>Movie</td>\n",
       "      <td>706</td>\n",
       "      <td>Shravan Kumar</td>\n",
       "      <td>Divya Dutta, Atul Kulkarni, Mohan Agashe, Anup...</td>\n",
       "      <td>India</td>\n",
       "      <td>April 1, 2019</td>\n",
       "      <td>TV-14</td>\n",
       "      <td>118 min</td>\n",
       "      <td>Horror Movies, International Movies</td>\n",
       "      <td>When a doctor goes missing, his psychiatrist w...</td>\n",
       "      <td>2019-04-01</td>\n",
       "      <td>2019.0</td>\n",
       "    </tr>\n",
       "    <tr>\n",
       "      <th>9</th>\n",
       "      <td>s10</td>\n",
       "      <td>Movie</td>\n",
       "      <td>1920</td>\n",
       "      <td>Vikram Bhatt</td>\n",
       "      <td>Rajneesh Duggal, Adah Sharma, Indraneil Sengup...</td>\n",
       "      <td>India</td>\n",
       "      <td>December 15, 2017</td>\n",
       "      <td>TV-MA</td>\n",
       "      <td>143 min</td>\n",
       "      <td>Horror Movies, International Movies, Thrillers</td>\n",
       "      <td>An architect and his wife move into a castle t...</td>\n",
       "      <td>2017-12-15</td>\n",
       "      <td>2017.0</td>\n",
       "    </tr>\n",
       "    <tr>\n",
       "      <th>18</th>\n",
       "      <td>s19</td>\n",
       "      <td>Movie</td>\n",
       "      <td>15-Aug</td>\n",
       "      <td>Swapnaneel Jayakar</td>\n",
       "      <td>Rahul Pethe, Mrunmayee Deshpande, Adinath Koth...</td>\n",
       "      <td>India</td>\n",
       "      <td>March 29, 2019</td>\n",
       "      <td>TV-14</td>\n",
       "      <td>124 min</td>\n",
       "      <td>Comedies, Dramas, Independent Movies</td>\n",
       "      <td>On India's Independence Day, a zany mishap in ...</td>\n",
       "      <td>2019-03-29</td>\n",
       "      <td>2019.0</td>\n",
       "    </tr>\n",
       "    <tr>\n",
       "      <th>20</th>\n",
       "      <td>s21</td>\n",
       "      <td>Movie</td>\n",
       "      <td>​​Kuch Bheege Alfaaz</td>\n",
       "      <td>Onir</td>\n",
       "      <td>Geetanjali Thapa, Zain Khan Durrani, Shray Rai...</td>\n",
       "      <td>India</td>\n",
       "      <td>September 1, 2018</td>\n",
       "      <td>TV-14</td>\n",
       "      <td>110 min</td>\n",
       "      <td>Dramas, Independent Movies, International Movies</td>\n",
       "      <td>After accidentally connecting over the Interne...</td>\n",
       "      <td>2018-09-01</td>\n",
       "      <td>2018.0</td>\n",
       "    </tr>\n",
       "    <tr>\n",
       "      <th>21</th>\n",
       "      <td>s22</td>\n",
       "      <td>Movie</td>\n",
       "      <td>​Goli Soda 2</td>\n",
       "      <td>Vijay Milton</td>\n",
       "      <td>Samuthirakani, Bharath Seeni, Vinoth, Esakki B...</td>\n",
       "      <td>India</td>\n",
       "      <td>September 15, 2018</td>\n",
       "      <td>TV-14</td>\n",
       "      <td>128 min</td>\n",
       "      <td>Action &amp; Adventure, Dramas, International Movies</td>\n",
       "      <td>A taxi driver, a gangster and an athlete strug...</td>\n",
       "      <td>2018-09-15</td>\n",
       "      <td>2018.0</td>\n",
       "    </tr>\n",
       "    <tr>\n",
       "      <th>...</th>\n",
       "      <td>...</td>\n",
       "      <td>...</td>\n",
       "      <td>...</td>\n",
       "      <td>...</td>\n",
       "      <td>...</td>\n",
       "      <td>...</td>\n",
       "      <td>...</td>\n",
       "      <td>...</td>\n",
       "      <td>...</td>\n",
       "      <td>...</td>\n",
       "      <td>...</td>\n",
       "      <td>...</td>\n",
       "      <td>...</td>\n",
       "    </tr>\n",
       "    <tr>\n",
       "      <th>7766</th>\n",
       "      <td>s7765</td>\n",
       "      <td>Movie</td>\n",
       "      <td>Zero</td>\n",
       "      <td>Aanand Rai</td>\n",
       "      <td>Shah Rukh Khan, Anushka Sharma, Katrina Kaif, ...</td>\n",
       "      <td>India</td>\n",
       "      <td>May 21, 2019</td>\n",
       "      <td>TV-14</td>\n",
       "      <td>159 min</td>\n",
       "      <td>Comedies, Dramas, International Movies</td>\n",
       "      <td>Through his relationships with two wildly diff...</td>\n",
       "      <td>2019-05-21</td>\n",
       "      <td>2019.0</td>\n",
       "    </tr>\n",
       "    <tr>\n",
       "      <th>7771</th>\n",
       "      <td>s7770</td>\n",
       "      <td>Movie</td>\n",
       "      <td>Zindagi Na Milegi Dobara</td>\n",
       "      <td>Zoya Akhtar</td>\n",
       "      <td>Hrithik Roshan, Abhay Deol, Farhan Akhtar, Kat...</td>\n",
       "      <td>India</td>\n",
       "      <td>December 15, 2019</td>\n",
       "      <td>TV-14</td>\n",
       "      <td>154 min</td>\n",
       "      <td>Comedies, Dramas, International Movies</td>\n",
       "      <td>Three friends on an adventurous road trip/bach...</td>\n",
       "      <td>2019-12-15</td>\n",
       "      <td>2019.0</td>\n",
       "    </tr>\n",
       "    <tr>\n",
       "      <th>7778</th>\n",
       "      <td>s7777</td>\n",
       "      <td>Movie</td>\n",
       "      <td>Zokkomon</td>\n",
       "      <td>Satyajit Bhatkal</td>\n",
       "      <td>Darsheel Safary, Anupam Kher, Manjari Fadnis, ...</td>\n",
       "      <td>India</td>\n",
       "      <td>November 1, 2018</td>\n",
       "      <td>PG</td>\n",
       "      <td>104 min</td>\n",
       "      <td>Children &amp; Family Movies, Dramas</td>\n",
       "      <td>When his cruel uncle abandons him, a young orp...</td>\n",
       "      <td>2018-11-01</td>\n",
       "      <td>2018.0</td>\n",
       "    </tr>\n",
       "    <tr>\n",
       "      <th>7782</th>\n",
       "      <td>s7781</td>\n",
       "      <td>Movie</td>\n",
       "      <td>Zoo</td>\n",
       "      <td>Shlok Sharma</td>\n",
       "      <td>Shashank Arora, Shweta Tripathi, Rahul Kumar, ...</td>\n",
       "      <td>India</td>\n",
       "      <td>July 1, 2018</td>\n",
       "      <td>TV-MA</td>\n",
       "      <td>94 min</td>\n",
       "      <td>Dramas, Independent Movies, International Movies</td>\n",
       "      <td>A drug dealer starts having doubts about his t...</td>\n",
       "      <td>2018-07-01</td>\n",
       "      <td>2018.0</td>\n",
       "    </tr>\n",
       "    <tr>\n",
       "      <th>7785</th>\n",
       "      <td>s7784</td>\n",
       "      <td>Movie</td>\n",
       "      <td>Zubaan</td>\n",
       "      <td>Mozez Singh</td>\n",
       "      <td>Vicky Kaushal, Sarah-Jane Dias, Raaghav Chanan...</td>\n",
       "      <td>India</td>\n",
       "      <td>March 2, 2019</td>\n",
       "      <td>TV-14</td>\n",
       "      <td>111 min</td>\n",
       "      <td>Dramas, International Movies, Music &amp; Musicals</td>\n",
       "      <td>A scrappy but poor boy worms his way into a ty...</td>\n",
       "      <td>2019-03-02</td>\n",
       "      <td>2019.0</td>\n",
       "    </tr>\n",
       "  </tbody>\n",
       "</table>\n",
       "<p>852 rows × 13 columns</p>\n",
       "</div>"
      ],
      "text/plain": [
       "     Show_Id Category                     Title            Director  \\\n",
       "8         s9    Movie                       706       Shravan Kumar   \n",
       "9        s10    Movie                      1920        Vikram Bhatt   \n",
       "18       s19    Movie                    15-Aug  Swapnaneel Jayakar   \n",
       "20       s21    Movie      ​​Kuch Bheege Alfaaz                Onir   \n",
       "21       s22    Movie              ​Goli Soda 2        Vijay Milton   \n",
       "...      ...      ...                       ...                 ...   \n",
       "7766   s7765    Movie                      Zero          Aanand Rai   \n",
       "7771   s7770    Movie  Zindagi Na Milegi Dobara         Zoya Akhtar   \n",
       "7778   s7777    Movie                  Zokkomon    Satyajit Bhatkal   \n",
       "7782   s7781    Movie                       Zoo        Shlok Sharma   \n",
       "7785   s7784    Movie                    Zubaan         Mozez Singh   \n",
       "\n",
       "                                                   Cast Country  \\\n",
       "8     Divya Dutta, Atul Kulkarni, Mohan Agashe, Anup...   India   \n",
       "9     Rajneesh Duggal, Adah Sharma, Indraneil Sengup...   India   \n",
       "18    Rahul Pethe, Mrunmayee Deshpande, Adinath Koth...   India   \n",
       "20    Geetanjali Thapa, Zain Khan Durrani, Shray Rai...   India   \n",
       "21    Samuthirakani, Bharath Seeni, Vinoth, Esakki B...   India   \n",
       "...                                                 ...     ...   \n",
       "7766  Shah Rukh Khan, Anushka Sharma, Katrina Kaif, ...   India   \n",
       "7771  Hrithik Roshan, Abhay Deol, Farhan Akhtar, Kat...   India   \n",
       "7778  Darsheel Safary, Anupam Kher, Manjari Fadnis, ...   India   \n",
       "7782  Shashank Arora, Shweta Tripathi, Rahul Kumar, ...   India   \n",
       "7785  Vicky Kaushal, Sarah-Jane Dias, Raaghav Chanan...   India   \n",
       "\n",
       "            Release_Date Rating Duration  \\\n",
       "8          April 1, 2019  TV-14  118 min   \n",
       "9      December 15, 2017  TV-MA  143 min   \n",
       "18        March 29, 2019  TV-14  124 min   \n",
       "20     September 1, 2018  TV-14  110 min   \n",
       "21    September 15, 2018  TV-14  128 min   \n",
       "...                  ...    ...      ...   \n",
       "7766        May 21, 2019  TV-14  159 min   \n",
       "7771   December 15, 2019  TV-14  154 min   \n",
       "7778    November 1, 2018     PG  104 min   \n",
       "7782        July 1, 2018  TV-MA   94 min   \n",
       "7785       March 2, 2019  TV-14  111 min   \n",
       "\n",
       "                                                  Type  \\\n",
       "8                  Horror Movies, International Movies   \n",
       "9       Horror Movies, International Movies, Thrillers   \n",
       "18                Comedies, Dramas, Independent Movies   \n",
       "20    Dramas, Independent Movies, International Movies   \n",
       "21    Action & Adventure, Dramas, International Movies   \n",
       "...                                                ...   \n",
       "7766            Comedies, Dramas, International Movies   \n",
       "7771            Comedies, Dramas, International Movies   \n",
       "7778                  Children & Family Movies, Dramas   \n",
       "7782  Dramas, Independent Movies, International Movies   \n",
       "7785    Dramas, International Movies, Music & Musicals   \n",
       "\n",
       "                                            Description       year    Year  \n",
       "8     When a doctor goes missing, his psychiatrist w... 2019-04-01  2019.0  \n",
       "9     An architect and his wife move into a castle t... 2017-12-15  2017.0  \n",
       "18    On India's Independence Day, a zany mishap in ... 2019-03-29  2019.0  \n",
       "20    After accidentally connecting over the Interne... 2018-09-01  2018.0  \n",
       "21    A taxi driver, a gangster and an athlete strug... 2018-09-15  2018.0  \n",
       "...                                                 ...        ...     ...  \n",
       "7766  Through his relationships with two wildly diff... 2019-05-21  2019.0  \n",
       "7771  Three friends on an adventurous road trip/bach... 2019-12-15  2019.0  \n",
       "7778  When his cruel uncle abandons him, a young orp... 2018-11-01  2018.0  \n",
       "7782  A drug dealer starts having doubts about his t... 2018-07-01  2018.0  \n",
       "7785  A scrappy but poor boy worms his way into a ty... 2019-03-02  2019.0  \n",
       "\n",
       "[852 rows x 13 columns]"
      ]
     },
     "execution_count": 174,
     "metadata": {},
     "output_type": "execute_result"
    }
   ],
   "source": [
    "#df1.Country.str.contains('India')\n",
    "#using two conditions filteration\n",
    "df[(df['Country']=='India')& (df['Category']=='Movie')]"
   ]
  },
  {
   "cell_type": "code",
   "execution_count": 31,
   "metadata": {},
   "outputs": [
    {
     "data": {
      "text/html": [
       "<div>\n",
       "<style scoped>\n",
       "    .dataframe tbody tr th:only-of-type {\n",
       "        vertical-align: middle;\n",
       "    }\n",
       "\n",
       "    .dataframe tbody tr th {\n",
       "        vertical-align: top;\n",
       "    }\n",
       "\n",
       "    .dataframe thead th {\n",
       "        text-align: right;\n",
       "    }\n",
       "</style>\n",
       "<table border=\"1\" class=\"dataframe\">\n",
       "  <thead>\n",
       "    <tr style=\"text-align: right;\">\n",
       "      <th></th>\n",
       "      <th>Show_Id</th>\n",
       "      <th>Category</th>\n",
       "      <th>Title</th>\n",
       "      <th>Director</th>\n",
       "      <th>Cast</th>\n",
       "      <th>Country</th>\n",
       "      <th>Release_Date</th>\n",
       "      <th>Rating</th>\n",
       "      <th>Duration</th>\n",
       "      <th>Type</th>\n",
       "      <th>Description</th>\n",
       "    </tr>\n",
       "  </thead>\n",
       "  <tbody>\n",
       "    <tr>\n",
       "      <th>7788</th>\n",
       "      <td>s7787</td>\n",
       "      <td>Movie</td>\n",
       "      <td>ZZ TOP: THAT LITTLE OL' BAND FROM TEXAS</td>\n",
       "      <td>Sam Dunn</td>\n",
       "      <td>NaN</td>\n",
       "      <td>United Kingdom, Canada, United States</td>\n",
       "      <td>March 1, 2020</td>\n",
       "      <td>TV-MA</td>\n",
       "      <td>90 min</td>\n",
       "      <td>Documentaries, Music &amp; Musicals</td>\n",
       "      <td>This documentary delves into the mystique behi...</td>\n",
       "    </tr>\n",
       "    <tr>\n",
       "      <th>7786</th>\n",
       "      <td>s7785</td>\n",
       "      <td>Movie</td>\n",
       "      <td>Zulu Man in Japan</td>\n",
       "      <td>NaN</td>\n",
       "      <td>Nasty C</td>\n",
       "      <td>NaN</td>\n",
       "      <td>September 25, 2020</td>\n",
       "      <td>TV-MA</td>\n",
       "      <td>44 min</td>\n",
       "      <td>Documentaries, International Movies, Music &amp; M...</td>\n",
       "      <td>In this documentary, South African rapper Nast...</td>\n",
       "    </tr>\n",
       "    <tr>\n",
       "      <th>7785</th>\n",
       "      <td>s7784</td>\n",
       "      <td>Movie</td>\n",
       "      <td>Zubaan</td>\n",
       "      <td>Mozez Singh</td>\n",
       "      <td>Vicky Kaushal, Sarah-Jane Dias, Raaghav Chanan...</td>\n",
       "      <td>India</td>\n",
       "      <td>March 2, 2019</td>\n",
       "      <td>TV-14</td>\n",
       "      <td>111 min</td>\n",
       "      <td>Dramas, International Movies, Music &amp; Musicals</td>\n",
       "      <td>A scrappy but poor boy worms his way into a ty...</td>\n",
       "    </tr>\n",
       "    <tr>\n",
       "      <th>7784</th>\n",
       "      <td>s7783</td>\n",
       "      <td>Movie</td>\n",
       "      <td>Zozo</td>\n",
       "      <td>Josef Fares</td>\n",
       "      <td>Imad Creidi, Antoinette Turk, Elias Gergi, Car...</td>\n",
       "      <td>Sweden, Czech Republic, United Kingdom, Denmar...</td>\n",
       "      <td>October 19, 2020</td>\n",
       "      <td>TV-MA</td>\n",
       "      <td>99 min</td>\n",
       "      <td>Dramas, International Movies</td>\n",
       "      <td>When Lebanon's Civil War deprives Zozo of his ...</td>\n",
       "    </tr>\n",
       "    <tr>\n",
       "      <th>7783</th>\n",
       "      <td>s7782</td>\n",
       "      <td>Movie</td>\n",
       "      <td>Zoom</td>\n",
       "      <td>Peter Hewitt</td>\n",
       "      <td>Tim Allen, Courteney Cox, Chevy Chase, Kate Ma...</td>\n",
       "      <td>United States</td>\n",
       "      <td>January 11, 2020</td>\n",
       "      <td>PG</td>\n",
       "      <td>88 min</td>\n",
       "      <td>Children &amp; Family Movies, Comedies</td>\n",
       "      <td>Dragged from civilian life, a former superhero...</td>\n",
       "    </tr>\n",
       "  </tbody>\n",
       "</table>\n",
       "</div>"
      ],
      "text/plain": [
       "     Show_Id Category                                    Title      Director  \\\n",
       "7788   s7787    Movie  ZZ TOP: THAT LITTLE OL' BAND FROM TEXAS      Sam Dunn   \n",
       "7786   s7785    Movie                        Zulu Man in Japan           NaN   \n",
       "7785   s7784    Movie                                   Zubaan   Mozez Singh   \n",
       "7784   s7783    Movie                                     Zozo   Josef Fares   \n",
       "7783   s7782    Movie                                     Zoom  Peter Hewitt   \n",
       "\n",
       "                                                   Cast  \\\n",
       "7788                                                NaN   \n",
       "7786                                            Nasty C   \n",
       "7785  Vicky Kaushal, Sarah-Jane Dias, Raaghav Chanan...   \n",
       "7784  Imad Creidi, Antoinette Turk, Elias Gergi, Car...   \n",
       "7783  Tim Allen, Courteney Cox, Chevy Chase, Kate Ma...   \n",
       "\n",
       "                                                Country        Release_Date  \\\n",
       "7788              United Kingdom, Canada, United States       March 1, 2020   \n",
       "7786                                                NaN  September 25, 2020   \n",
       "7785                                              India       March 2, 2019   \n",
       "7784  Sweden, Czech Republic, United Kingdom, Denmar...    October 19, 2020   \n",
       "7783                                      United States    January 11, 2020   \n",
       "\n",
       "     Rating Duration                                               Type  \\\n",
       "7788  TV-MA   90 min                    Documentaries, Music & Musicals   \n",
       "7786  TV-MA   44 min  Documentaries, International Movies, Music & M...   \n",
       "7785  TV-14  111 min     Dramas, International Movies, Music & Musicals   \n",
       "7784  TV-MA   99 min                       Dramas, International Movies   \n",
       "7783     PG   88 min                 Children & Family Movies, Comedies   \n",
       "\n",
       "                                            Description  \n",
       "7788  This documentary delves into the mystique behi...  \n",
       "7786  In this documentary, South African rapper Nast...  \n",
       "7785  A scrappy but poor boy worms his way into a ty...  \n",
       "7784  When Lebanon's Civil War deprives Zozo of his ...  \n",
       "7783  Dragged from civilian life, a former superhero...  "
      ]
     },
     "execution_count": 31,
     "metadata": {},
     "output_type": "execute_result"
    }
   ],
   "source": [
    "df[df['Category']=='Movie'].sort_index(ascending=False).head(5)"
   ]
  },
  {
   "cell_type": "code",
   "execution_count": 45,
   "metadata": {},
   "outputs": [
    {
     "data": {
      "text/plain": [
       "Country\n",
       "United States     2555\n",
       "India              923\n",
       "United Kingdom     397\n",
       "Name: Country, dtype: int64"
      ]
     },
     "execution_count": 45,
     "metadata": {},
     "output_type": "execute_result"
    }
   ],
   "source": [
    "df.groupby('Country')['Country'].count().sort_values(ascending=False).head(3)"
   ]
  },
  {
   "cell_type": "code",
   "execution_count": 48,
   "metadata": {},
   "outputs": [
    {
     "data": {
      "text/html": [
       "<div>\n",
       "<style scoped>\n",
       "    .dataframe tbody tr th:only-of-type {\n",
       "        vertical-align: middle;\n",
       "    }\n",
       "\n",
       "    .dataframe tbody tr th {\n",
       "        vertical-align: top;\n",
       "    }\n",
       "\n",
       "    .dataframe thead th {\n",
       "        text-align: right;\n",
       "    }\n",
       "</style>\n",
       "<table border=\"1\" class=\"dataframe\">\n",
       "  <thead>\n",
       "    <tr style=\"text-align: right;\">\n",
       "      <th></th>\n",
       "      <th>Show_Id</th>\n",
       "      <th>Category</th>\n",
       "      <th>Title</th>\n",
       "      <th>Director</th>\n",
       "      <th>Cast</th>\n",
       "      <th>Country</th>\n",
       "      <th>Release_Date</th>\n",
       "      <th>Rating</th>\n",
       "      <th>Duration</th>\n",
       "      <th>Type</th>\n",
       "      <th>Description</th>\n",
       "    </tr>\n",
       "  </thead>\n",
       "  <tbody>\n",
       "    <tr>\n",
       "      <th>1368</th>\n",
       "      <td>s1369</td>\n",
       "      <td>Movie</td>\n",
       "      <td>Christmas Survival</td>\n",
       "      <td>James Dearden</td>\n",
       "      <td>Julian Ovenden, Gemma Whelan, Joely Richardson...</td>\n",
       "      <td>United Kingdom</td>\n",
       "      <td>November 1, 2019</td>\n",
       "      <td>TV-MA</td>\n",
       "      <td>101 min</td>\n",
       "      <td>Comedies</td>\n",
       "      <td>With Christmas just around the corner, sisters...</td>\n",
       "    </tr>\n",
       "    <tr>\n",
       "      <th>1650</th>\n",
       "      <td>s1651</td>\n",
       "      <td>Movie</td>\n",
       "      <td>Dead in a Week (Or Your Money Back)</td>\n",
       "      <td>Tom Edmunds</td>\n",
       "      <td>Tom Wilkinson, Aneurin Barnard, Freya Mavor, M...</td>\n",
       "      <td>United Kingdom</td>\n",
       "      <td>March 1, 2019</td>\n",
       "      <td>TV-MA</td>\n",
       "      <td>90 min</td>\n",
       "      <td>Comedies</td>\n",
       "      <td>After several failed attempts at taking his ow...</td>\n",
       "    </tr>\n",
       "    <tr>\n",
       "      <th>2225</th>\n",
       "      <td>s2226</td>\n",
       "      <td>Movie</td>\n",
       "      <td>For Love or Money</td>\n",
       "      <td>Mark Murphy</td>\n",
       "      <td>Robert Kazinsky, Samantha Barks, Ed Speleers, ...</td>\n",
       "      <td>United Kingdom</td>\n",
       "      <td>August 16, 2019</td>\n",
       "      <td>TV-MA</td>\n",
       "      <td>95 min</td>\n",
       "      <td>Comedies</td>\n",
       "      <td>When a goofy but likable millionaire discovers...</td>\n",
       "    </tr>\n",
       "    <tr>\n",
       "      <th>4210</th>\n",
       "      <td>s4211</td>\n",
       "      <td>Movie</td>\n",
       "      <td>Monty Python Live (Mostly): One Down, Five to Go</td>\n",
       "      <td>Eric Idle</td>\n",
       "      <td>John Cleese, Terry Gilliam, Eric Idle, Terry J...</td>\n",
       "      <td>United Kingdom</td>\n",
       "      <td>October 2, 2018</td>\n",
       "      <td>TV-MA</td>\n",
       "      <td>137 min</td>\n",
       "      <td>Comedies</td>\n",
       "      <td>Live from London in a sold-out final show, sur...</td>\n",
       "    </tr>\n",
       "    <tr>\n",
       "      <th>4213</th>\n",
       "      <td>s4214</td>\n",
       "      <td>Movie</td>\n",
       "      <td>Monty Python: Live at The Hollywood Bowl</td>\n",
       "      <td>Terry Hughes, Ian MacNaughton</td>\n",
       "      <td>Graham Chapman, John Cleese, Terry Gilliam, Er...</td>\n",
       "      <td>United Kingdom</td>\n",
       "      <td>October 2, 2018</td>\n",
       "      <td>R</td>\n",
       "      <td>80 min</td>\n",
       "      <td>Comedies</td>\n",
       "      <td>Film clips and Terry Gilliam animations featur...</td>\n",
       "    </tr>\n",
       "    <tr>\n",
       "      <th>4781</th>\n",
       "      <td>s4782</td>\n",
       "      <td>Movie</td>\n",
       "      <td>Parrot Sketch Not Included: Twenty Years of Mo...</td>\n",
       "      <td>Ian MacNaughton</td>\n",
       "      <td>Steve Martin, John Cleese, Graham Chapman, Ter...</td>\n",
       "      <td>United Kingdom</td>\n",
       "      <td>October 2, 2018</td>\n",
       "      <td>TV-14</td>\n",
       "      <td>72 min</td>\n",
       "      <td>Comedies</td>\n",
       "      <td>Presented by Steve Martin, this anthology draw...</td>\n",
       "    </tr>\n",
       "    <tr>\n",
       "      <th>4792</th>\n",
       "      <td>s4793</td>\n",
       "      <td>Movie</td>\n",
       "      <td>PATRICK (2019)</td>\n",
       "      <td>Mandie Fletcher</td>\n",
       "      <td>Beattie Edmondson, Ed Skrein, Tom Bennett, Jen...</td>\n",
       "      <td>United Kingdom</td>\n",
       "      <td>May 16, 2019</td>\n",
       "      <td>TV-PG</td>\n",
       "      <td>94 min</td>\n",
       "      <td>Comedies</td>\n",
       "      <td>When a schoolteacher inherits an adorable pug,...</td>\n",
       "    </tr>\n",
       "    <tr>\n",
       "      <th>6109</th>\n",
       "      <td>s6109</td>\n",
       "      <td>Movie</td>\n",
       "      <td>The Bad Education Movie</td>\n",
       "      <td>Elliot Hegarty</td>\n",
       "      <td>Jack Whitehall, Joanna Scanlan, Iain Glen, Eth...</td>\n",
       "      <td>United Kingdom</td>\n",
       "      <td>December 15, 2018</td>\n",
       "      <td>TV-MA</td>\n",
       "      <td>87 min</td>\n",
       "      <td>Comedies</td>\n",
       "      <td>Britain's most ineffective but caring teacher ...</td>\n",
       "    </tr>\n",
       "    <tr>\n",
       "      <th>6947</th>\n",
       "      <td>s6946</td>\n",
       "      <td>Movie</td>\n",
       "      <td>The Trip to Spain</td>\n",
       "      <td>Michael Winterbottom</td>\n",
       "      <td>Steve Coogan, Rob Brydon, Marta Barrio, Claire...</td>\n",
       "      <td>United Kingdom</td>\n",
       "      <td>December 12, 2017</td>\n",
       "      <td>TV-MA</td>\n",
       "      <td>108 min</td>\n",
       "      <td>Comedies</td>\n",
       "      <td>Comedians Steve Coogan and Rob Brydon gorge on...</td>\n",
       "    </tr>\n",
       "  </tbody>\n",
       "</table>\n",
       "</div>"
      ],
      "text/plain": [
       "     Show_Id Category                                              Title  \\\n",
       "1368   s1369    Movie                                 Christmas Survival   \n",
       "1650   s1651    Movie                Dead in a Week (Or Your Money Back)   \n",
       "2225   s2226    Movie                                  For Love or Money   \n",
       "4210   s4211    Movie   Monty Python Live (Mostly): One Down, Five to Go   \n",
       "4213   s4214    Movie           Monty Python: Live at The Hollywood Bowl   \n",
       "4781   s4782    Movie  Parrot Sketch Not Included: Twenty Years of Mo...   \n",
       "4792   s4793    Movie                                     PATRICK (2019)   \n",
       "6109   s6109    Movie                            The Bad Education Movie   \n",
       "6947   s6946    Movie                                  The Trip to Spain   \n",
       "\n",
       "                           Director  \\\n",
       "1368                  James Dearden   \n",
       "1650                    Tom Edmunds   \n",
       "2225                    Mark Murphy   \n",
       "4210                      Eric Idle   \n",
       "4213  Terry Hughes, Ian MacNaughton   \n",
       "4781                Ian MacNaughton   \n",
       "4792                Mandie Fletcher   \n",
       "6109                 Elliot Hegarty   \n",
       "6947           Michael Winterbottom   \n",
       "\n",
       "                                                   Cast         Country  \\\n",
       "1368  Julian Ovenden, Gemma Whelan, Joely Richardson...  United Kingdom   \n",
       "1650  Tom Wilkinson, Aneurin Barnard, Freya Mavor, M...  United Kingdom   \n",
       "2225  Robert Kazinsky, Samantha Barks, Ed Speleers, ...  United Kingdom   \n",
       "4210  John Cleese, Terry Gilliam, Eric Idle, Terry J...  United Kingdom   \n",
       "4213  Graham Chapman, John Cleese, Terry Gilliam, Er...  United Kingdom   \n",
       "4781  Steve Martin, John Cleese, Graham Chapman, Ter...  United Kingdom   \n",
       "4792  Beattie Edmondson, Ed Skrein, Tom Bennett, Jen...  United Kingdom   \n",
       "6109  Jack Whitehall, Joanna Scanlan, Iain Glen, Eth...  United Kingdom   \n",
       "6947  Steve Coogan, Rob Brydon, Marta Barrio, Claire...  United Kingdom   \n",
       "\n",
       "           Release_Date Rating Duration      Type  \\\n",
       "1368   November 1, 2019  TV-MA  101 min  Comedies   \n",
       "1650      March 1, 2019  TV-MA   90 min  Comedies   \n",
       "2225    August 16, 2019  TV-MA   95 min  Comedies   \n",
       "4210    October 2, 2018  TV-MA  137 min  Comedies   \n",
       "4213    October 2, 2018      R   80 min  Comedies   \n",
       "4781    October 2, 2018  TV-14   72 min  Comedies   \n",
       "4792       May 16, 2019  TV-PG   94 min  Comedies   \n",
       "6109  December 15, 2018  TV-MA   87 min  Comedies   \n",
       "6947  December 12, 2017  TV-MA  108 min  Comedies   \n",
       "\n",
       "                                            Description  \n",
       "1368  With Christmas just around the corner, sisters...  \n",
       "1650  After several failed attempts at taking his ow...  \n",
       "2225  When a goofy but likable millionaire discovers...  \n",
       "4210  Live from London in a sold-out final show, sur...  \n",
       "4213  Film clips and Terry Gilliam animations featur...  \n",
       "4781  Presented by Steve Martin, this anthology draw...  \n",
       "4792  When a schoolteacher inherits an adorable pug,...  \n",
       "6109  Britain's most ineffective but caring teacher ...  \n",
       "6947  Comedians Steve Coogan and Rob Brydon gorge on...  "
      ]
     },
     "execution_count": 48,
     "metadata": {},
     "output_type": "execute_result"
    }
   ],
   "source": [
    "df[(df['Category']=='Movie') & (df['Type']=='Comedies') & (df['Country']=='United Kingdom')]\n",
    "\n",
    "#list of the movies where category is movie, type is comedies & country is united kingdom"
   ]
  },
  {
   "cell_type": "code",
   "execution_count": 51,
   "metadata": {},
   "outputs": [
    {
     "data": {
      "text/plain": [
       "2"
      ]
     },
     "execution_count": 51,
     "metadata": {},
     "output_type": "execute_result"
    }
   ],
   "source": [
    "df['Cast'].str.contains('Tom Cruise').sum()\n",
    "\n",
    "#in how many movies or tv show Tom Cruise was cast"
   ]
  },
  {
   "cell_type": "code",
   "execution_count": null,
   "metadata": {},
   "outputs": [
    {
     "data": {
      "text/html": [
       "<div>\n",
       "<style scoped>\n",
       "    .dataframe tbody tr th:only-of-type {\n",
       "        vertical-align: middle;\n",
       "    }\n",
       "\n",
       "    .dataframe tbody tr th {\n",
       "        vertical-align: top;\n",
       "    }\n",
       "\n",
       "    .dataframe thead th {\n",
       "        text-align: right;\n",
       "    }\n",
       "</style>\n",
       "<table border=\"1\" class=\"dataframe\">\n",
       "  <thead>\n",
       "    <tr style=\"text-align: right;\">\n",
       "      <th></th>\n",
       "      <th>Date</th>\n",
       "      <th>Temp_C</th>\n",
       "      <th>Dew Point Temp_C</th>\n",
       "      <th>Rel Hum_%</th>\n",
       "      <th>Wind Speed_km/h</th>\n",
       "      <th>Visibility_km</th>\n",
       "      <th>Press_kPa</th>\n",
       "      <th>Weather</th>\n",
       "      <th>Weather_condition</th>\n",
       "    </tr>\n",
       "  </thead>\n",
       "  <tbody>\n",
       "    <tr>\n",
       "      <th>106</th>\n",
       "      <td>1/5/2012 10:00</td>\n",
       "      <td>-6.0</td>\n",
       "      <td>-10.0</td>\n",
       "      <td>73</td>\n",
       "      <td>17</td>\n",
       "      <td>48.3</td>\n",
       "      <td>100.45</td>\n",
       "      <td>Mainly Clear</td>\n",
       "      <td>Mainly Clear</td>\n",
       "    </tr>\n",
       "    <tr>\n",
       "      <th>107</th>\n",
       "      <td>1/5/2012 11:00</td>\n",
       "      <td>-5.6</td>\n",
       "      <td>-10.2</td>\n",
       "      <td>70</td>\n",
       "      <td>22</td>\n",
       "      <td>48.3</td>\n",
       "      <td>100.41</td>\n",
       "      <td>Mainly Clear</td>\n",
       "      <td>Mainly Clear</td>\n",
       "    </tr>\n",
       "  </tbody>\n",
       "</table>\n",
       "</div>"
      ],
      "text/plain": [
       "               Date  Temp_C  Dew Point Temp_C  Rel Hum_%  Wind Speed_km/h  \\\n",
       "106  1/5/2012 10:00    -6.0             -10.0         73               17   \n",
       "107  1/5/2012 11:00    -5.6             -10.2         70               22   \n",
       "\n",
       "     Visibility_km  Press_kPa       Weather Weather_condition  \n",
       "106           48.3     100.45  Mainly Clear      Mainly Clear  \n",
       "107           48.3     100.41  Mainly Clear      Mainly Clear  "
      ]
     },
     "metadata": {},
     "output_type": "display_data"
    }
   ],
   "source": [
    "data[(data['Weather']=='Clear') & (data['Rel Hum_%']> 50) | (data['Visibility_km']> 40)].head(2)"
   ]
  },
  {
   "cell_type": "code",
   "execution_count": 120,
   "metadata": {},
   "outputs": [
    {
     "data": {
      "text/plain": [
       "Category\n",
       "Movie      5377\n",
       "TV Show    2410\n",
       "Name: Category, dtype: int64"
      ]
     },
     "execution_count": 120,
     "metadata": {},
     "output_type": "execute_result"
    }
   ],
   "source": [
    "#how many moveies and tv shows are there in the dataset\n",
    "df.groupby('Category')['Category'].count()"
   ]
  },
  {
   "cell_type": "code",
   "execution_count": 125,
   "metadata": {},
   "outputs": [
    {
     "data": {
      "text/plain": [
       "0    2020.0\n",
       "1    2016.0\n",
       "Name: Year, dtype: float64"
      ]
     },
     "execution_count": 125,
     "metadata": {},
     "output_type": "execute_result"
    }
   ],
   "source": [
    "#show all the movies that released in 2000\n",
    "df['Year']= df['Release_Date'].dt.year\n",
    "pd.to_datetime(df['Release_Date'])\n",
    "df['Year'].head(2)"
   ]
  },
  {
   "cell_type": "code",
   "execution_count": 143,
   "metadata": {},
   "outputs": [
    {
     "data": {
      "text/html": [
       "<div>\n",
       "<style scoped>\n",
       "    .dataframe tbody tr th:only-of-type {\n",
       "        vertical-align: middle;\n",
       "    }\n",
       "\n",
       "    .dataframe tbody tr th {\n",
       "        vertical-align: top;\n",
       "    }\n",
       "\n",
       "    .dataframe thead th {\n",
       "        text-align: right;\n",
       "    }\n",
       "</style>\n",
       "<table border=\"1\" class=\"dataframe\">\n",
       "  <thead>\n",
       "    <tr style=\"text-align: right;\">\n",
       "      <th></th>\n",
       "      <th>Show_Id</th>\n",
       "      <th>Category</th>\n",
       "      <th>Title</th>\n",
       "      <th>Director</th>\n",
       "      <th>Cast</th>\n",
       "      <th>Country</th>\n",
       "      <th>Release_Date</th>\n",
       "      <th>Rating</th>\n",
       "      <th>Duration</th>\n",
       "      <th>Type</th>\n",
       "      <th>Description</th>\n",
       "      <th>year</th>\n",
       "      <th>Year</th>\n",
       "    </tr>\n",
       "  </thead>\n",
       "  <tbody>\n",
       "    <tr>\n",
       "      <th>4</th>\n",
       "      <td>s5</td>\n",
       "      <td>Movie</td>\n",
       "      <td>21</td>\n",
       "      <td>Robert Luketic</td>\n",
       "      <td>Jim Sturgess, Kevin Spacey, Kate Bosworth, Aar...</td>\n",
       "      <td>United States</td>\n",
       "      <td>2020-01-01</td>\n",
       "      <td>PG-13</td>\n",
       "      <td>123 min</td>\n",
       "      <td>Dramas</td>\n",
       "      <td>A brilliant group of students become card-coun...</td>\n",
       "      <td>2020.0</td>\n",
       "      <td>2020.0</td>\n",
       "    </tr>\n",
       "    <tr>\n",
       "      <th>6</th>\n",
       "      <td>s7</td>\n",
       "      <td>Movie</td>\n",
       "      <td>122</td>\n",
       "      <td>Yasir Al Yasiri</td>\n",
       "      <td>Amina Khalil, Ahmed Dawood, Tarek Lotfy, Ahmed...</td>\n",
       "      <td>Egypt</td>\n",
       "      <td>2020-06-01</td>\n",
       "      <td>TV-MA</td>\n",
       "      <td>95 min</td>\n",
       "      <td>Horror Movies, International Movies</td>\n",
       "      <td>After an awful accident, a couple admitted to ...</td>\n",
       "      <td>2020.0</td>\n",
       "      <td>2020.0</td>\n",
       "    </tr>\n",
       "  </tbody>\n",
       "</table>\n",
       "</div>"
      ],
      "text/plain": [
       "  Show_Id Category Title         Director  \\\n",
       "4      s5    Movie    21   Robert Luketic   \n",
       "6      s7    Movie   122  Yasir Al Yasiri   \n",
       "\n",
       "                                                Cast        Country  \\\n",
       "4  Jim Sturgess, Kevin Spacey, Kate Bosworth, Aar...  United States   \n",
       "6  Amina Khalil, Ahmed Dawood, Tarek Lotfy, Ahmed...          Egypt   \n",
       "\n",
       "  Release_Date Rating Duration                                 Type  \\\n",
       "4   2020-01-01  PG-13  123 min                               Dramas   \n",
       "6   2020-06-01  TV-MA   95 min  Horror Movies, International Movies   \n",
       "\n",
       "                                         Description    year    Year  \n",
       "4  A brilliant group of students become card-coun...  2020.0  2020.0  \n",
       "6  After an awful accident, a couple admitted to ...  2020.0  2020.0  "
      ]
     },
     "execution_count": 143,
     "metadata": {},
     "output_type": "execute_result"
    }
   ],
   "source": [
    "df[(df['Year']==2020) & (df['Category']=='Movie')].head(2)"
   ]
  },
  {
   "cell_type": "code",
   "execution_count": 146,
   "metadata": {},
   "outputs": [
    {
     "data": {
      "text/plain": [
       "86            21 Sarfarosh: Saragarhi 1897\n",
       "132                              7 (Seven)\n",
       "340                           Agent Raghav\n",
       "364                           Akbar Birbal\n",
       "533                    Anjaan: Rural Myths\n",
       "                       ...                \n",
       "6400    The Golden Years with Javed Akhtar\n",
       "6469                The House That Made Me\n",
       "6522                       The Jungle Book\n",
       "7294                            Typewriter\n",
       "7705                       Yeh Meri Family\n",
       "Name: Title, Length: 75, dtype: object"
      ]
     },
     "execution_count": 146,
     "metadata": {},
     "output_type": "execute_result"
    }
   ],
   "source": [
    "#show title of the tv shows released in india\n",
    "\n",
    "df[(df['Category']=='TV Show') & (df['Country'].str.contains('India'))]['Title']"
   ]
  },
  {
   "cell_type": "code",
   "execution_count": 149,
   "metadata": {},
   "outputs": [
    {
     "data": {
      "text/plain": [
       "Director\n",
       "Raúl Campos, Jan Suter    18\n",
       "Marcus Raboy              16\n",
       "Jay Karas                 14\n",
       "Cathy Garcia-Molina       13\n",
       "Martin Scorsese           12\n",
       "Name: Director, dtype: int64"
      ]
     },
     "execution_count": 149,
     "metadata": {},
     "output_type": "execute_result"
    }
   ],
   "source": [
    "#show top 10 director who gave  the highest number of tv shows and movie to netflix\n",
    "df.groupby('Director')['Director'].count().sort_values(ascending=False).head()"
   ]
  },
  {
   "cell_type": "code",
   "execution_count": 151,
   "metadata": {},
   "outputs": [
    {
     "data": {
      "text/plain": [
       "Raúl Campos, Jan Suter    18\n",
       "Marcus Raboy              16\n",
       "Jay Karas                 14\n",
       "Name: Director, dtype: int64"
      ]
     },
     "execution_count": 151,
     "metadata": {},
     "output_type": "execute_result"
    }
   ],
   "source": [
    "#or it can be done via this \n",
    "df['Director'].value_counts().head(3)"
   ]
  },
  {
   "cell_type": "code",
   "execution_count": 157,
   "metadata": {},
   "outputs": [
    {
     "data": {
      "text/html": [
       "<div>\n",
       "<style scoped>\n",
       "    .dataframe tbody tr th:only-of-type {\n",
       "        vertical-align: middle;\n",
       "    }\n",
       "\n",
       "    .dataframe tbody tr th {\n",
       "        vertical-align: top;\n",
       "    }\n",
       "\n",
       "    .dataframe thead th {\n",
       "        text-align: right;\n",
       "    }\n",
       "</style>\n",
       "<table border=\"1\" class=\"dataframe\">\n",
       "  <thead>\n",
       "    <tr style=\"text-align: right;\">\n",
       "      <th></th>\n",
       "      <th>Show_Id</th>\n",
       "      <th>Category</th>\n",
       "      <th>Title</th>\n",
       "      <th>Director</th>\n",
       "      <th>Cast</th>\n",
       "      <th>Country</th>\n",
       "      <th>Release_Date</th>\n",
       "      <th>Rating</th>\n",
       "      <th>Duration</th>\n",
       "      <th>Type</th>\n",
       "      <th>Description</th>\n",
       "      <th>year</th>\n",
       "      <th>Year</th>\n",
       "    </tr>\n",
       "  </thead>\n",
       "  <tbody>\n",
       "    <tr>\n",
       "      <th>19</th>\n",
       "      <td>s20</td>\n",
       "      <td>Movie</td>\n",
       "      <td>'89</td>\n",
       "      <td>NaN</td>\n",
       "      <td>Lee Dixon, Ian Wright, Paul Merson</td>\n",
       "      <td>United Kingdom</td>\n",
       "      <td>2018-05-16</td>\n",
       "      <td>TV-PG</td>\n",
       "      <td>87 min</td>\n",
       "      <td>Sports Movies</td>\n",
       "      <td>Mixing old footage with interviews, this is th...</td>\n",
       "      <td>2018.0</td>\n",
       "      <td>2018.0</td>\n",
       "    </tr>\n",
       "    <tr>\n",
       "      <th>58</th>\n",
       "      <td>s59</td>\n",
       "      <td>TV Show</td>\n",
       "      <td>100% Hotter</td>\n",
       "      <td>NaN</td>\n",
       "      <td>Daniel Palmer, Melissa Sophia, Karen Williams,...</td>\n",
       "      <td>United Kingdom</td>\n",
       "      <td>2019-11-01</td>\n",
       "      <td>TV-14</td>\n",
       "      <td>1 Season</td>\n",
       "      <td>British TV Shows, International TV Shows, Real...</td>\n",
       "      <td>A stylist, a hair designer and a makeup artist...</td>\n",
       "      <td>2019.0</td>\n",
       "      <td>2019.0</td>\n",
       "    </tr>\n",
       "    <tr>\n",
       "      <th>82</th>\n",
       "      <td>s83</td>\n",
       "      <td>Movie</td>\n",
       "      <td>2036 Origin Unknown</td>\n",
       "      <td>Hasraf Dulull</td>\n",
       "      <td>Katee Sackhoff, Ray Fearon, Julie Cox, Steven ...</td>\n",
       "      <td>United Kingdom</td>\n",
       "      <td>2018-12-20</td>\n",
       "      <td>TV-14</td>\n",
       "      <td>95 min</td>\n",
       "      <td>Sci-Fi &amp; Fantasy</td>\n",
       "      <td>Working with an artificial intelligence to inv...</td>\n",
       "      <td>2018.0</td>\n",
       "      <td>2018.0</td>\n",
       "    </tr>\n",
       "    <tr>\n",
       "      <th>85</th>\n",
       "      <td>s86</td>\n",
       "      <td>TV Show</td>\n",
       "      <td>21 Again</td>\n",
       "      <td>NaN</td>\n",
       "      <td>Laura Morgan</td>\n",
       "      <td>United Kingdom</td>\n",
       "      <td>2020-07-01</td>\n",
       "      <td>TV-MA</td>\n",
       "      <td>1 Season</td>\n",
       "      <td>British TV Shows, Reality TV</td>\n",
       "      <td>In a social experiment, a group of daughters s...</td>\n",
       "      <td>2020.0</td>\n",
       "      <td>2020.0</td>\n",
       "    </tr>\n",
       "    <tr>\n",
       "      <th>93</th>\n",
       "      <td>s94</td>\n",
       "      <td>Movie</td>\n",
       "      <td>27: Gone Too Soon</td>\n",
       "      <td>Simon Napier-Bell</td>\n",
       "      <td>Janis Joplin, Jimi Hendrix, Amy Winehouse, Jim...</td>\n",
       "      <td>United Kingdom</td>\n",
       "      <td>2018-05-01</td>\n",
       "      <td>TV-MA</td>\n",
       "      <td>70 min</td>\n",
       "      <td>Documentaries</td>\n",
       "      <td>Explore the circumstances surrounding the trag...</td>\n",
       "      <td>2018.0</td>\n",
       "      <td>2018.0</td>\n",
       "    </tr>\n",
       "  </tbody>\n",
       "</table>\n",
       "</div>"
      ],
      "text/plain": [
       "   Show_Id Category                Title           Director  \\\n",
       "19     s20    Movie                  '89                NaN   \n",
       "58     s59  TV Show          100% Hotter                NaN   \n",
       "82     s83    Movie  2036 Origin Unknown      Hasraf Dulull   \n",
       "85     s86  TV Show             21 Again                NaN   \n",
       "93     s94    Movie    27: Gone Too Soon  Simon Napier-Bell   \n",
       "\n",
       "                                                 Cast         Country  \\\n",
       "19                 Lee Dixon, Ian Wright, Paul Merson  United Kingdom   \n",
       "58  Daniel Palmer, Melissa Sophia, Karen Williams,...  United Kingdom   \n",
       "82  Katee Sackhoff, Ray Fearon, Julie Cox, Steven ...  United Kingdom   \n",
       "85                                       Laura Morgan  United Kingdom   \n",
       "93  Janis Joplin, Jimi Hendrix, Amy Winehouse, Jim...  United Kingdom   \n",
       "\n",
       "   Release_Date Rating  Duration  \\\n",
       "19   2018-05-16  TV-PG    87 min   \n",
       "58   2019-11-01  TV-14  1 Season   \n",
       "82   2018-12-20  TV-14    95 min   \n",
       "85   2020-07-01  TV-MA  1 Season   \n",
       "93   2018-05-01  TV-MA    70 min   \n",
       "\n",
       "                                                 Type  \\\n",
       "19                                      Sports Movies   \n",
       "58  British TV Shows, International TV Shows, Real...   \n",
       "82                                   Sci-Fi & Fantasy   \n",
       "85                       British TV Shows, Reality TV   \n",
       "93                                      Documentaries   \n",
       "\n",
       "                                          Description    year    Year  \n",
       "19  Mixing old footage with interviews, this is th...  2018.0  2018.0  \n",
       "58  A stylist, a hair designer and a makeup artist...  2019.0  2019.0  \n",
       "82  Working with an artificial intelligence to inv...  2018.0  2018.0  \n",
       "85  In a social experiment, a group of daughters s...  2020.0  2020.0  \n",
       "93  Explore the circumstances surrounding the trag...  2018.0  2018.0  "
      ]
     },
     "execution_count": 157,
     "metadata": {},
     "output_type": "execute_result"
    }
   ],
   "source": [
    "#show all the records where category=canada , type= comedy or country= united kingdom\n",
    "df[(df['Category'].str.contains('Canada') & df['Type'].str.contains('Comedies')) | (df['Country']=='United Kingdom')].head()"
   ]
  },
  {
   "cell_type": "code",
   "execution_count": null,
   "metadata": {},
   "outputs": [],
   "source": []
  },
  {
   "cell_type": "code",
   "execution_count": null,
   "metadata": {},
   "outputs": [],
   "source": []
  },
  {
   "cell_type": "code",
   "execution_count": null,
   "metadata": {},
   "outputs": [],
   "source": []
  },
  {
   "cell_type": "code",
   "execution_count": null,
   "metadata": {},
   "outputs": [],
   "source": []
  },
  {
   "cell_type": "code",
   "execution_count": null,
   "metadata": {},
   "outputs": [],
   "source": []
  },
  {
   "cell_type": "code",
   "execution_count": 53,
   "metadata": {},
   "outputs": [
    {
     "data": {
      "text/plain": [
       "array(['TV-MA', 'R', 'PG-13', 'TV-14', 'TV-PG', 'NR', 'TV-G', 'TV-Y', nan,\n",
       "       'TV-Y7', 'PG', 'G', 'NC-17', 'TV-Y7-FV', 'UR'], dtype=object)"
      ]
     },
     "execution_count": 53,
     "metadata": {},
     "output_type": "execute_result"
    }
   ],
   "source": [
    "df.Rating.unique()\n",
    "#Q. 9) What are the different Ratings defined by Netflix ?"
   ]
  },
  {
   "cell_type": "code",
   "execution_count": 63,
   "metadata": {},
   "outputs": [
    {
     "data": {
      "text/html": [
       "<div>\n",
       "<style scoped>\n",
       "    .dataframe tbody tr th:only-of-type {\n",
       "        vertical-align: middle;\n",
       "    }\n",
       "\n",
       "    .dataframe tbody tr th {\n",
       "        vertical-align: top;\n",
       "    }\n",
       "\n",
       "    .dataframe thead th {\n",
       "        text-align: right;\n",
       "    }\n",
       "</style>\n",
       "<table border=\"1\" class=\"dataframe\">\n",
       "  <thead>\n",
       "    <tr style=\"text-align: right;\">\n",
       "      <th></th>\n",
       "      <th>Show_Id</th>\n",
       "      <th>Category</th>\n",
       "      <th>Title</th>\n",
       "      <th>Director</th>\n",
       "      <th>Cast</th>\n",
       "      <th>Country</th>\n",
       "      <th>Release_Date</th>\n",
       "      <th>Rating</th>\n",
       "      <th>Duration</th>\n",
       "      <th>Type</th>\n",
       "      <th>Description</th>\n",
       "    </tr>\n",
       "  </thead>\n",
       "  <tbody>\n",
       "    <tr>\n",
       "      <th>30</th>\n",
       "      <td>s31</td>\n",
       "      <td>Movie</td>\n",
       "      <td>#cats_the_mewvie</td>\n",
       "      <td>Michael Margolis</td>\n",
       "      <td>NaN</td>\n",
       "      <td>Canada</td>\n",
       "      <td>February 5, 2020</td>\n",
       "      <td>TV-14</td>\n",
       "      <td>90 min</td>\n",
       "      <td>Documentaries, International Movies</td>\n",
       "      <td>This pawesome documentary explores how our fel...</td>\n",
       "    </tr>\n",
       "    <tr>\n",
       "      <th>34</th>\n",
       "      <td>s35</td>\n",
       "      <td>Movie</td>\n",
       "      <td>#Roxy</td>\n",
       "      <td>Michael Kennedy</td>\n",
       "      <td>Jake Short, Sarah Fisher, Booboo Stewart, Dann...</td>\n",
       "      <td>Canada</td>\n",
       "      <td>April 10, 2019</td>\n",
       "      <td>TV-14</td>\n",
       "      <td>105 min</td>\n",
       "      <td>Comedies, Romantic Movies</td>\n",
       "      <td>A teenage hacker with a huge nose helps a cool...</td>\n",
       "    </tr>\n",
       "    <tr>\n",
       "      <th>608</th>\n",
       "      <td>s609</td>\n",
       "      <td>Movie</td>\n",
       "      <td>At First Light</td>\n",
       "      <td>Jason Stone</td>\n",
       "      <td>Stefanie Scott, Theodore Pellerin, Percy Hynes...</td>\n",
       "      <td>Canada</td>\n",
       "      <td>December 27, 2018</td>\n",
       "      <td>TV-14</td>\n",
       "      <td>91 min</td>\n",
       "      <td>Dramas, Sci-Fi &amp; Fantasy</td>\n",
       "      <td>After mysterious lights imbue her with extraor...</td>\n",
       "    </tr>\n",
       "  </tbody>\n",
       "</table>\n",
       "</div>"
      ],
      "text/plain": [
       "    Show_Id Category             Title          Director  \\\n",
       "30      s31    Movie  #cats_the_mewvie  Michael Margolis   \n",
       "34      s35    Movie             #Roxy   Michael Kennedy   \n",
       "608    s609    Movie    At First Light       Jason Stone   \n",
       "\n",
       "                                                  Cast Country  \\\n",
       "30                                                 NaN  Canada   \n",
       "34   Jake Short, Sarah Fisher, Booboo Stewart, Dann...  Canada   \n",
       "608  Stefanie Scott, Theodore Pellerin, Percy Hynes...  Canada   \n",
       "\n",
       "          Release_Date Rating Duration                                 Type  \\\n",
       "30    February 5, 2020  TV-14   90 min  Documentaries, International Movies   \n",
       "34      April 10, 2019  TV-14  105 min            Comedies, Romantic Movies   \n",
       "608  December 27, 2018  TV-14   91 min             Dramas, Sci-Fi & Fantasy   \n",
       "\n",
       "                                           Description  \n",
       "30   This pawesome documentary explores how our fel...  \n",
       "34   A teenage hacker with a huge nose helps a cool...  \n",
       "608  After mysterious lights imbue her with extraor...  "
      ]
     },
     "execution_count": 63,
     "metadata": {},
     "output_type": "execute_result"
    }
   ],
   "source": [
    "#Q. 9.1) How many Movies got the 'TV-14' rating, in Canada ?\n",
    "df[(df['Category']=='Movie') & (df['Country']=='Canada')& (df['Rating']=='TV-14')].head(3)"
   ]
  },
  {
   "cell_type": "code",
   "execution_count": 68,
   "metadata": {},
   "outputs": [
    {
     "data": {
      "text/plain": [
       "dtype('O')"
      ]
     },
     "execution_count": 68,
     "metadata": {},
     "output_type": "execute_result"
    }
   ],
   "source": [
    "#Q. 9.2) How many TV Shows got the 'R' rating, after year 2018 ?\n",
    "df.Release_Date.dtype"
   ]
  },
  {
   "cell_type": "code",
   "execution_count": 76,
   "metadata": {},
   "outputs": [],
   "source": [
    "df['Release_Date']= pd.to_datetime(df['Release_Date'])"
   ]
  },
  {
   "cell_type": "code",
   "execution_count": null,
   "metadata": {},
   "outputs": [],
   "source": [
    "df.head()"
   ]
  },
  {
   "cell_type": "code",
   "execution_count": 112,
   "metadata": {},
   "outputs": [],
   "source": [
    "# not working unable to extract the year out of this       -------still pending needs to be checked\n",
    "df['year']= df['Release_Date'].dt.year"
   ]
  },
  {
   "cell_type": "code",
   "execution_count": 158,
   "metadata": {},
   "outputs": [
    {
     "data": {
      "text/html": [
       "<div>\n",
       "<style scoped>\n",
       "    .dataframe tbody tr th:only-of-type {\n",
       "        vertical-align: middle;\n",
       "    }\n",
       "\n",
       "    .dataframe tbody tr th {\n",
       "        vertical-align: top;\n",
       "    }\n",
       "\n",
       "    .dataframe thead th {\n",
       "        text-align: right;\n",
       "    }\n",
       "</style>\n",
       "<table border=\"1\" class=\"dataframe\">\n",
       "  <thead>\n",
       "    <tr style=\"text-align: right;\">\n",
       "      <th></th>\n",
       "      <th>Show_Id</th>\n",
       "      <th>Category</th>\n",
       "      <th>Title</th>\n",
       "      <th>Director</th>\n",
       "      <th>Cast</th>\n",
       "      <th>Country</th>\n",
       "      <th>Release_Date</th>\n",
       "      <th>Rating</th>\n",
       "      <th>Duration</th>\n",
       "      <th>Type</th>\n",
       "      <th>Description</th>\n",
       "      <th>year</th>\n",
       "      <th>Year</th>\n",
       "    </tr>\n",
       "  </thead>\n",
       "  <tbody>\n",
       "    <tr>\n",
       "      <th>6437</th>\n",
       "      <td>s6436</td>\n",
       "      <td>TV Show</td>\n",
       "      <td>The Hateful Eight: Extended Version</td>\n",
       "      <td>Quentin Tarantino</td>\n",
       "      <td>Samuel L. Jackson, Kurt Russell, Jennifer Jaso...</td>\n",
       "      <td>NaN</td>\n",
       "      <td>2019-04-25</td>\n",
       "      <td>R</td>\n",
       "      <td>1 Season</td>\n",
       "      <td>TV Shows</td>\n",
       "      <td>Trapped at a stagecoach stop as a storm rages ...</td>\n",
       "      <td>2019.0</td>\n",
       "      <td>2019.0</td>\n",
       "    </tr>\n",
       "  </tbody>\n",
       "</table>\n",
       "</div>"
      ],
      "text/plain": [
       "     Show_Id Category                                Title           Director  \\\n",
       "6437   s6436  TV Show  The Hateful Eight: Extended Version  Quentin Tarantino   \n",
       "\n",
       "                                                   Cast Country Release_Date  \\\n",
       "6437  Samuel L. Jackson, Kurt Russell, Jennifer Jaso...     NaN   2019-04-25   \n",
       "\n",
       "     Rating  Duration      Type  \\\n",
       "6437      R  1 Season  TV Shows   \n",
       "\n",
       "                                            Description    year    Year  \n",
       "6437  Trapped at a stagecoach stop as a storm rages ...  2019.0  2019.0  "
      ]
     },
     "execution_count": 158,
     "metadata": {},
     "output_type": "execute_result"
    }
   ],
   "source": [
    "df[(df['Category']=='TV Show') & (df['Rating']=='R') & (df['year']>2018)].head()"
   ]
  },
  {
   "cell_type": "code",
   "execution_count": null,
   "metadata": {},
   "outputs": [],
   "source": []
  },
  {
   "cell_type": "code",
   "execution_count": 159,
   "metadata": {},
   "outputs": [
    {
     "data": {
      "text/plain": [
       "array(['4 Seasons', '93 min', '78 min', '80 min', '123 min', '1 Season',\n",
       "       '95 min', '119 min', '118 min', '143 min', '103 min', '89 min',\n",
       "       '91 min', '149 min', '144 min', '124 min', '87 min', '110 min',\n",
       "       '128 min', '117 min', '100 min', '2 Seasons', '84 min', '99 min',\n",
       "       '90 min', '102 min', '104 min', '105 min', '56 min', '125 min',\n",
       "       '81 min', '97 min', '106 min', '107 min', '109 min', '44 min',\n",
       "       '75 min', '101 min', '3 Seasons', '37 min', '113 min', '114 min',\n",
       "       '130 min', '94 min', '140 min', '135 min', '82 min', '70 min',\n",
       "       '121 min', '92 min', '164 min', '53 min', '83 min', '116 min',\n",
       "       '86 min', '120 min', '96 min', '126 min', '129 min', '77 min',\n",
       "       '137 min', '148 min', '28 min', '122 min', '176 min', '85 min',\n",
       "       '22 min', '68 min', '111 min', '29 min', '142 min', '168 min',\n",
       "       '21 min', '59 min', '20 min', '98 min', '108 min', '76 min',\n",
       "       '26 min', '156 min', '30 min', '57 min', '150 min', '133 min',\n",
       "       '115 min', '154 min', '127 min', '146 min', '136 min', '88 min',\n",
       "       '131 min', '24 min', '112 min', '74 min', '63 min', '38 min',\n",
       "       '25 min', '174 min', '60 min', '153 min', '158 min', '151 min',\n",
       "       '162 min', '54 min', '51 min', '69 min', '64 min', '147 min',\n",
       "       '42 min', '79 min', '5 Seasons', '40 min', '45 min', '172 min',\n",
       "       '10 min', '163 min', '9 Seasons', '55 min', '72 min', '61 min',\n",
       "       '71 min', '160 min', '171 min', '48 min', '139 min', '157 min',\n",
       "       '15 min', '65 min', '134 min', '161 min', '62 min', '8 Seasons',\n",
       "       '186 min', '49 min', '73 min', '58 min', '165 min', '166 min',\n",
       "       '138 min', '159 min', '141 min', '132 min', '52 min', '67 min',\n",
       "       '34 min', '66 min', '312 min', '180 min', '47 min', '6 Seasons',\n",
       "       '155 min', '14 min', '177 min', '11 min', '9 min', '46 min',\n",
       "       '145 min', '11 Seasons', '7 Seasons', '13 Seasons', '8 min',\n",
       "       '12 min', '12 Seasons', '10 Seasons', '43 min', '50 min', '23 min',\n",
       "       '185 min', '200 min', '169 min', '27 min', '170 min', '196 min',\n",
       "       '33 min', '181 min', '204 min', '32 min', '35 min', '167 min',\n",
       "       '16 Seasons', '179 min', '193 min', '13 min', '214 min', '17 min',\n",
       "       '173 min', '192 min', '209 min', '187 min', '41 min', '182 min',\n",
       "       '224 min', '233 min', '189 min', '152 min', '19 min', '15 Seasons',\n",
       "       '208 min', '237 min', '31 min', '178 min', '230 min', '194 min',\n",
       "       '228 min', '195 min', '3 min', '16 min', '5 min', '18 min',\n",
       "       '205 min', '190 min', '36 min', '201 min', '253 min', '203 min',\n",
       "       '191 min'], dtype=object)"
      ]
     },
     "execution_count": 159,
     "metadata": {},
     "output_type": "execute_result"
    }
   ],
   "source": [
    "#Q. 10) What is the maximum duration of a Movie/Show on Netflix ?\n",
    "df.Duration.max()\n",
    "\n",
    "\n",
    "#atfirst needs to be convertedin the min or an hour then update it into the database so needs to check the unique values as well \n",
    "df.Duration.unique()"
   ]
  },
  {
   "cell_type": "code",
   "execution_count": 160,
   "metadata": {},
   "outputs": [
    {
     "data": {
      "text/plain": [
       "dtype('O')"
      ]
     },
     "execution_count": 160,
     "metadata": {},
     "output_type": "execute_result"
    }
   ],
   "source": [
    "#checking data types of durations\n",
    "df['Duration'].dtype"
   ]
  },
  {
   "cell_type": "code",
   "execution_count": 162,
   "metadata": {},
   "outputs": [
    {
     "data": {
      "text/html": [
       "<div>\n",
       "<style scoped>\n",
       "    .dataframe tbody tr th:only-of-type {\n",
       "        vertical-align: middle;\n",
       "    }\n",
       "\n",
       "    .dataframe tbody tr th {\n",
       "        vertical-align: top;\n",
       "    }\n",
       "\n",
       "    .dataframe thead th {\n",
       "        text-align: right;\n",
       "    }\n",
       "</style>\n",
       "<table border=\"1\" class=\"dataframe\">\n",
       "  <thead>\n",
       "    <tr style=\"text-align: right;\">\n",
       "      <th></th>\n",
       "      <th>Show_Id</th>\n",
       "      <th>Category</th>\n",
       "      <th>Title</th>\n",
       "      <th>Director</th>\n",
       "      <th>Cast</th>\n",
       "      <th>Country</th>\n",
       "      <th>Release_Date</th>\n",
       "      <th>Rating</th>\n",
       "      <th>Duration</th>\n",
       "      <th>Type</th>\n",
       "      <th>Description</th>\n",
       "      <th>year</th>\n",
       "      <th>Year</th>\n",
       "      <th>min</th>\n",
       "      <th>unit</th>\n",
       "    </tr>\n",
       "  </thead>\n",
       "  <tbody>\n",
       "    <tr>\n",
       "      <th>0</th>\n",
       "      <td>s1</td>\n",
       "      <td>TV Show</td>\n",
       "      <td>3%</td>\n",
       "      <td>NaN</td>\n",
       "      <td>João Miguel, Bianca Comparato, Michel Gomes, R...</td>\n",
       "      <td>Brazil</td>\n",
       "      <td>2020-08-14</td>\n",
       "      <td>TV-MA</td>\n",
       "      <td>4 Seasons</td>\n",
       "      <td>International TV Shows, TV Dramas, TV Sci-Fi &amp;...</td>\n",
       "      <td>In a future where the elite inhabit an island ...</td>\n",
       "      <td>2020.0</td>\n",
       "      <td>2020.0</td>\n",
       "      <td>4</td>\n",
       "      <td>Seasons</td>\n",
       "    </tr>\n",
       "    <tr>\n",
       "      <th>1</th>\n",
       "      <td>s2</td>\n",
       "      <td>Movie</td>\n",
       "      <td>07:19</td>\n",
       "      <td>Jorge Michel Grau</td>\n",
       "      <td>Demián Bichir, Héctor Bonilla, Oscar Serrano, ...</td>\n",
       "      <td>Mexico</td>\n",
       "      <td>2016-12-23</td>\n",
       "      <td>TV-MA</td>\n",
       "      <td>93 min</td>\n",
       "      <td>Dramas, International Movies</td>\n",
       "      <td>After a devastating earthquake hits Mexico Cit...</td>\n",
       "      <td>2016.0</td>\n",
       "      <td>2016.0</td>\n",
       "      <td>93</td>\n",
       "      <td>min</td>\n",
       "    </tr>\n",
       "  </tbody>\n",
       "</table>\n",
       "</div>"
      ],
      "text/plain": [
       "  Show_Id Category  Title           Director  \\\n",
       "0      s1  TV Show     3%                NaN   \n",
       "1      s2    Movie  07:19  Jorge Michel Grau   \n",
       "\n",
       "                                                Cast Country Release_Date  \\\n",
       "0  João Miguel, Bianca Comparato, Michel Gomes, R...  Brazil   2020-08-14   \n",
       "1  Demián Bichir, Héctor Bonilla, Oscar Serrano, ...  Mexico   2016-12-23   \n",
       "\n",
       "  Rating   Duration                                               Type  \\\n",
       "0  TV-MA  4 Seasons  International TV Shows, TV Dramas, TV Sci-Fi &...   \n",
       "1  TV-MA     93 min                       Dramas, International Movies   \n",
       "\n",
       "                                         Description    year    Year min  \\\n",
       "0  In a future where the elite inhabit an island ...  2020.0  2020.0   4   \n",
       "1  After a devastating earthquake hits Mexico Cit...  2016.0  2016.0  93   \n",
       "\n",
       "      unit  \n",
       "0  Seasons  \n",
       "1      min  "
      ]
     },
     "execution_count": 162,
     "metadata": {},
     "output_type": "execute_result"
    }
   ],
   "source": [
    "# now we to split this into min and unit\n",
    "df[['min', 'unit']]= df['Duration'].str.split(' ', expand=True) \n",
    "df.head(2)"
   ]
  },
  {
   "cell_type": "code",
   "execution_count": 165,
   "metadata": {},
   "outputs": [
    {
     "data": {
      "text/plain": [
       "dtype('O')"
      ]
     },
     "execution_count": 165,
     "metadata": {},
     "output_type": "execute_result"
    }
   ],
   "source": [
    "df['min'].dtype\n",
    "#as it showing the object dataset it will not give me the correct values need to convert int"
   ]
  },
  {
   "cell_type": "code",
   "execution_count": 167,
   "metadata": {},
   "outputs": [],
   "source": [
    "df['min']=df['min'].astype('int')"
   ]
  },
  {
   "cell_type": "code",
   "execution_count": 168,
   "metadata": {},
   "outputs": [
    {
     "data": {
      "text/plain": [
       "312"
      ]
     },
     "execution_count": 168,
     "metadata": {},
     "output_type": "execute_result"
    }
   ],
   "source": [
    "df['min'].max()"
   ]
  },
  {
   "cell_type": "code",
   "execution_count": 173,
   "metadata": {},
   "outputs": [],
   "source": [
    "#Q. 11) Which individual country has the Highest No. of TV Shows ?\n",
    "df9 = df[df['Category']=='TV Show']"
   ]
  },
  {
   "cell_type": "code",
   "execution_count": 176,
   "metadata": {},
   "outputs": [
    {
     "data": {
      "text/plain": [
       "Country         Country       \n",
       "United States   United States     705\n",
       "United Kingdom  United Kingdom    204\n",
       "Name: Country, dtype: int64"
      ]
     },
     "execution_count": 176,
     "metadata": {},
     "output_type": "execute_result"
    }
   ],
   "source": [
    "df9.groupby('Country')['Country'].value_counts().sort_values(ascending=False).head(2)"
   ]
  },
  {
   "cell_type": "code",
   "execution_count": 178,
   "metadata": {},
   "outputs": [
    {
     "data": {
      "text/html": [
       "<div>\n",
       "<style scoped>\n",
       "    .dataframe tbody tr th:only-of-type {\n",
       "        vertical-align: middle;\n",
       "    }\n",
       "\n",
       "    .dataframe tbody tr th {\n",
       "        vertical-align: top;\n",
       "    }\n",
       "\n",
       "    .dataframe thead th {\n",
       "        text-align: right;\n",
       "    }\n",
       "</style>\n",
       "<table border=\"1\" class=\"dataframe\">\n",
       "  <thead>\n",
       "    <tr style=\"text-align: right;\">\n",
       "      <th></th>\n",
       "      <th>Show_Id</th>\n",
       "      <th>Category</th>\n",
       "      <th>Title</th>\n",
       "      <th>Director</th>\n",
       "      <th>Cast</th>\n",
       "      <th>Country</th>\n",
       "      <th>Release_Date</th>\n",
       "      <th>Rating</th>\n",
       "      <th>Duration</th>\n",
       "      <th>Type</th>\n",
       "      <th>Description</th>\n",
       "      <th>year</th>\n",
       "      <th>Year</th>\n",
       "      <th>min</th>\n",
       "      <th>unit</th>\n",
       "    </tr>\n",
       "  </thead>\n",
       "  <tbody>\n",
       "    <tr>\n",
       "      <th>5564</th>\n",
       "      <td>s5564</td>\n",
       "      <td>Movie</td>\n",
       "      <td>Sherlock Holmes</td>\n",
       "      <td>Guy Ritchie</td>\n",
       "      <td>Robert Downey Jr., Jude Law, Rachel McAdams, M...</td>\n",
       "      <td>United States, Germany, United Kingdom, Australia</td>\n",
       "      <td>2021-01-01</td>\n",
       "      <td>PG-13</td>\n",
       "      <td>128 min</td>\n",
       "      <td>Action &amp; Adventure, Comedies</td>\n",
       "      <td>The game is afoot for an eccentric detective w...</td>\n",
       "      <td>2021.0</td>\n",
       "      <td>2021.0</td>\n",
       "      <td>128</td>\n",
       "      <td>min</td>\n",
       "    </tr>\n",
       "    <tr>\n",
       "      <th>5919</th>\n",
       "      <td>s5919</td>\n",
       "      <td>Movie</td>\n",
       "      <td>Surf's Up</td>\n",
       "      <td>Ash Brannon, Chris Buck</td>\n",
       "      <td>Shia LaBeouf, Jeff Bridges, Zooey Deschanel, J...</td>\n",
       "      <td>United States</td>\n",
       "      <td>2021-01-01</td>\n",
       "      <td>PG</td>\n",
       "      <td>86 min</td>\n",
       "      <td>Children &amp; Family Movies, Comedies, Sports Movies</td>\n",
       "      <td>This Oscar-nominated animated comedy goes behi...</td>\n",
       "      <td>2021.0</td>\n",
       "      <td>2021.0</td>\n",
       "      <td>86</td>\n",
       "      <td>min</td>\n",
       "    </tr>\n",
       "  </tbody>\n",
       "</table>\n",
       "</div>"
      ],
      "text/plain": [
       "     Show_Id Category            Title                 Director  \\\n",
       "5564   s5564    Movie  Sherlock Holmes              Guy Ritchie   \n",
       "5919   s5919    Movie        Surf's Up  Ash Brannon, Chris Buck   \n",
       "\n",
       "                                                   Cast  \\\n",
       "5564  Robert Downey Jr., Jude Law, Rachel McAdams, M...   \n",
       "5919  Shia LaBeouf, Jeff Bridges, Zooey Deschanel, J...   \n",
       "\n",
       "                                                Country Release_Date Rating  \\\n",
       "5564  United States, Germany, United Kingdom, Australia   2021-01-01  PG-13   \n",
       "5919                                      United States   2021-01-01     PG   \n",
       "\n",
       "     Duration                                               Type  \\\n",
       "5564  128 min                       Action & Adventure, Comedies   \n",
       "5919   86 min  Children & Family Movies, Comedies, Sports Movies   \n",
       "\n",
       "                                            Description    year    Year  min  \\\n",
       "5564  The game is afoot for an eccentric detective w...  2021.0  2021.0  128   \n",
       "5919  This Oscar-nominated animated comedy goes behi...  2021.0  2021.0   86   \n",
       "\n",
       "     unit  \n",
       "5564  min  \n",
       "5919  min  "
      ]
     },
     "execution_count": 178,
     "metadata": {},
     "output_type": "execute_result"
    }
   ],
   "source": [
    "#how can we sort the dataset by year\n",
    "df.sort_values(by= 'year', ascending=False).head(2)"
   ]
  },
  {
   "cell_type": "code",
   "execution_count": null,
   "metadata": {},
   "outputs": [],
   "source": [
    "# Find all the instances where: Category is 'Movie' and Type is 'Dramas' or Category is 'TV Show' & Type is 'Kids' TV'."
   ]
  },
  {
   "cell_type": "code",
   "execution_count": 182,
   "metadata": {},
   "outputs": [
    {
     "data": {
      "text/html": [
       "<div>\n",
       "<style scoped>\n",
       "    .dataframe tbody tr th:only-of-type {\n",
       "        vertical-align: middle;\n",
       "    }\n",
       "\n",
       "    .dataframe tbody tr th {\n",
       "        vertical-align: top;\n",
       "    }\n",
       "\n",
       "    .dataframe thead th {\n",
       "        text-align: right;\n",
       "    }\n",
       "</style>\n",
       "<table border=\"1\" class=\"dataframe\">\n",
       "  <thead>\n",
       "    <tr style=\"text-align: right;\">\n",
       "      <th></th>\n",
       "      <th>Show_Id</th>\n",
       "      <th>Category</th>\n",
       "      <th>Title</th>\n",
       "      <th>Director</th>\n",
       "      <th>Cast</th>\n",
       "      <th>Country</th>\n",
       "      <th>Release_Date</th>\n",
       "      <th>Rating</th>\n",
       "      <th>Duration</th>\n",
       "      <th>Type</th>\n",
       "      <th>Description</th>\n",
       "      <th>year</th>\n",
       "      <th>Year</th>\n",
       "      <th>min</th>\n",
       "      <th>unit</th>\n",
       "    </tr>\n",
       "  </thead>\n",
       "  <tbody>\n",
       "    <tr>\n",
       "      <th>4</th>\n",
       "      <td>s5</td>\n",
       "      <td>Movie</td>\n",
       "      <td>21</td>\n",
       "      <td>Robert Luketic</td>\n",
       "      <td>Jim Sturgess, Kevin Spacey, Kate Bosworth, Aar...</td>\n",
       "      <td>United States</td>\n",
       "      <td>2020-01-01</td>\n",
       "      <td>PG-13</td>\n",
       "      <td>123 min</td>\n",
       "      <td>Dramas</td>\n",
       "      <td>A brilliant group of students become card-coun...</td>\n",
       "      <td>2020.0</td>\n",
       "      <td>2020.0</td>\n",
       "      <td>123</td>\n",
       "      <td>min</td>\n",
       "    </tr>\n",
       "    <tr>\n",
       "      <th>7</th>\n",
       "      <td>s8</td>\n",
       "      <td>Movie</td>\n",
       "      <td>187</td>\n",
       "      <td>Kevin Reynolds</td>\n",
       "      <td>Samuel L. Jackson, John Heard, Kelly Rowan, Cl...</td>\n",
       "      <td>United States</td>\n",
       "      <td>2019-11-01</td>\n",
       "      <td>R</td>\n",
       "      <td>119 min</td>\n",
       "      <td>Dramas</td>\n",
       "      <td>After one of his high school students attacks ...</td>\n",
       "      <td>2019.0</td>\n",
       "      <td>2019.0</td>\n",
       "      <td>119</td>\n",
       "      <td>min</td>\n",
       "    </tr>\n",
       "  </tbody>\n",
       "</table>\n",
       "</div>"
      ],
      "text/plain": [
       "  Show_Id Category Title        Director  \\\n",
       "4      s5    Movie    21  Robert Luketic   \n",
       "7      s8    Movie   187  Kevin Reynolds   \n",
       "\n",
       "                                                Cast        Country  \\\n",
       "4  Jim Sturgess, Kevin Spacey, Kate Bosworth, Aar...  United States   \n",
       "7  Samuel L. Jackson, John Heard, Kelly Rowan, Cl...  United States   \n",
       "\n",
       "  Release_Date Rating Duration    Type  \\\n",
       "4   2020-01-01  PG-13  123 min  Dramas   \n",
       "7   2019-11-01      R  119 min  Dramas   \n",
       "\n",
       "                                         Description    year    Year  min unit  \n",
       "4  A brilliant group of students become card-coun...  2020.0  2020.0  123  min  \n",
       "7  After one of his high school students attacks ...  2019.0  2019.0  119  min  "
      ]
     },
     "execution_count": 182,
     "metadata": {},
     "output_type": "execute_result"
    }
   ],
   "source": [
    "df[(df['Category']=='Movie') & (df['Type']=='Dramas')].head(2)"
   ]
  },
  {
   "cell_type": "code",
   "execution_count": 195,
   "metadata": {},
   "outputs": [
    {
     "data": {
      "text/html": [
       "<div>\n",
       "<style scoped>\n",
       "    .dataframe tbody tr th:only-of-type {\n",
       "        vertical-align: middle;\n",
       "    }\n",
       "\n",
       "    .dataframe tbody tr th {\n",
       "        vertical-align: top;\n",
       "    }\n",
       "\n",
       "    .dataframe thead th {\n",
       "        text-align: right;\n",
       "    }\n",
       "</style>\n",
       "<table border=\"1\" class=\"dataframe\">\n",
       "  <thead>\n",
       "    <tr style=\"text-align: right;\">\n",
       "      <th></th>\n",
       "      <th>Show_Id</th>\n",
       "      <th>Category</th>\n",
       "      <th>Title</th>\n",
       "      <th>Director</th>\n",
       "      <th>Cast</th>\n",
       "      <th>Country</th>\n",
       "      <th>Release_Date</th>\n",
       "      <th>Rating</th>\n",
       "      <th>Duration</th>\n",
       "      <th>Type</th>\n",
       "      <th>Description</th>\n",
       "      <th>year</th>\n",
       "      <th>Year</th>\n",
       "      <th>min</th>\n",
       "      <th>unit</th>\n",
       "    </tr>\n",
       "  </thead>\n",
       "  <tbody>\n",
       "    <tr>\n",
       "      <th>111</th>\n",
       "      <td>s112</td>\n",
       "      <td>TV Show</td>\n",
       "      <td>44 Cats</td>\n",
       "      <td>NaN</td>\n",
       "      <td>Sarah Natochenny, Suzy Myers, Simona Berman, E...</td>\n",
       "      <td>Italy</td>\n",
       "      <td>2020-10-01</td>\n",
       "      <td>TV-Y7</td>\n",
       "      <td>2 Seasons</td>\n",
       "      <td>Kids' TV</td>\n",
       "      <td>Paw-esome tales abound when singing furry frie...</td>\n",
       "      <td>2020.0</td>\n",
       "      <td>2020.0</td>\n",
       "      <td>2</td>\n",
       "      <td>Seasons</td>\n",
       "    </tr>\n",
       "    <tr>\n",
       "      <th>276</th>\n",
       "      <td>s277</td>\n",
       "      <td>TV Show</td>\n",
       "      <td>Abby Hatcher</td>\n",
       "      <td>Kyran Kelly</td>\n",
       "      <td>Macy Drouin, Wyatt White, Paul Sun-Hyung Lee, ...</td>\n",
       "      <td>United States, Canada</td>\n",
       "      <td>2020-07-01</td>\n",
       "      <td>TV-Y</td>\n",
       "      <td>1 Season</td>\n",
       "      <td>Kids' TV</td>\n",
       "      <td>A big-hearted girl helps her Fuzzly friends wh...</td>\n",
       "      <td>2020.0</td>\n",
       "      <td>2020.0</td>\n",
       "      <td>1</td>\n",
       "      <td>Season</td>\n",
       "    </tr>\n",
       "  </tbody>\n",
       "</table>\n",
       "</div>"
      ],
      "text/plain": [
       "    Show_Id Category         Title     Director  \\\n",
       "111    s112  TV Show       44 Cats          NaN   \n",
       "276    s277  TV Show  Abby Hatcher  Kyran Kelly   \n",
       "\n",
       "                                                  Cast                Country  \\\n",
       "111  Sarah Natochenny, Suzy Myers, Simona Berman, E...                  Italy   \n",
       "276  Macy Drouin, Wyatt White, Paul Sun-Hyung Lee, ...  United States, Canada   \n",
       "\n",
       "    Release_Date Rating   Duration      Type  \\\n",
       "111   2020-10-01  TV-Y7  2 Seasons  Kids' TV   \n",
       "276   2020-07-01   TV-Y   1 Season  Kids' TV   \n",
       "\n",
       "                                           Description    year    Year  min  \\\n",
       "111  Paw-esome tales abound when singing furry frie...  2020.0  2020.0    2   \n",
       "276  A big-hearted girl helps her Fuzzly friends wh...  2020.0  2020.0    1   \n",
       "\n",
       "        unit  \n",
       "111  Seasons  \n",
       "276   Season  "
      ]
     },
     "execution_count": 195,
     "metadata": {},
     "output_type": "execute_result"
    }
   ],
   "source": [
    "df[(df['Category']=='TV Show') & (df['Type']==\"Kids' TV\")].head(2)"
   ]
  },
  {
   "cell_type": "code",
   "execution_count": 194,
   "metadata": {},
   "outputs": [
    {
     "data": {
      "text/html": [
       "<div>\n",
       "<style scoped>\n",
       "    .dataframe tbody tr th:only-of-type {\n",
       "        vertical-align: middle;\n",
       "    }\n",
       "\n",
       "    .dataframe tbody tr th {\n",
       "        vertical-align: top;\n",
       "    }\n",
       "\n",
       "    .dataframe thead th {\n",
       "        text-align: right;\n",
       "    }\n",
       "</style>\n",
       "<table border=\"1\" class=\"dataframe\">\n",
       "  <thead>\n",
       "    <tr style=\"text-align: right;\">\n",
       "      <th></th>\n",
       "      <th>Show_Id</th>\n",
       "      <th>Category</th>\n",
       "      <th>Title</th>\n",
       "      <th>Director</th>\n",
       "      <th>Cast</th>\n",
       "      <th>Country</th>\n",
       "      <th>Release_Date</th>\n",
       "      <th>Rating</th>\n",
       "      <th>Duration</th>\n",
       "      <th>Type</th>\n",
       "      <th>Description</th>\n",
       "      <th>year</th>\n",
       "      <th>Year</th>\n",
       "      <th>min</th>\n",
       "      <th>unit</th>\n",
       "    </tr>\n",
       "  </thead>\n",
       "  <tbody>\n",
       "    <tr>\n",
       "      <th>4</th>\n",
       "      <td>s5</td>\n",
       "      <td>Movie</td>\n",
       "      <td>21</td>\n",
       "      <td>Robert Luketic</td>\n",
       "      <td>Jim Sturgess, Kevin Spacey, Kate Bosworth, Aar...</td>\n",
       "      <td>United States</td>\n",
       "      <td>2020-01-01</td>\n",
       "      <td>PG-13</td>\n",
       "      <td>123 min</td>\n",
       "      <td>Dramas</td>\n",
       "      <td>A brilliant group of students become card-coun...</td>\n",
       "      <td>2020.0</td>\n",
       "      <td>2020.0</td>\n",
       "      <td>123</td>\n",
       "      <td>min</td>\n",
       "    </tr>\n",
       "    <tr>\n",
       "      <th>7</th>\n",
       "      <td>s8</td>\n",
       "      <td>Movie</td>\n",
       "      <td>187</td>\n",
       "      <td>Kevin Reynolds</td>\n",
       "      <td>Samuel L. Jackson, John Heard, Kelly Rowan, Cl...</td>\n",
       "      <td>United States</td>\n",
       "      <td>2019-11-01</td>\n",
       "      <td>R</td>\n",
       "      <td>119 min</td>\n",
       "      <td>Dramas</td>\n",
       "      <td>After one of his high school students attacks ...</td>\n",
       "      <td>2019.0</td>\n",
       "      <td>2019.0</td>\n",
       "      <td>119</td>\n",
       "      <td>min</td>\n",
       "    </tr>\n",
       "  </tbody>\n",
       "</table>\n",
       "</div>"
      ],
      "text/plain": [
       "  Show_Id Category Title        Director  \\\n",
       "4      s5    Movie    21  Robert Luketic   \n",
       "7      s8    Movie   187  Kevin Reynolds   \n",
       "\n",
       "                                                Cast        Country  \\\n",
       "4  Jim Sturgess, Kevin Spacey, Kate Bosworth, Aar...  United States   \n",
       "7  Samuel L. Jackson, John Heard, Kelly Rowan, Cl...  United States   \n",
       "\n",
       "  Release_Date Rating Duration    Type  \\\n",
       "4   2020-01-01  PG-13  123 min  Dramas   \n",
       "7   2019-11-01      R  119 min  Dramas   \n",
       "\n",
       "                                         Description    year    Year  min unit  \n",
       "4  A brilliant group of students become card-coun...  2020.0  2020.0  123  min  \n",
       "7  After one of his high school students attacks ...  2019.0  2019.0  119  min  "
      ]
     },
     "execution_count": 194,
     "metadata": {},
     "output_type": "execute_result"
    }
   ],
   "source": [
    "df[(df['Category']=='Movie') & (df['Type']=='Dramas') | (df['Category']=='TV Show') & (df['Type'].str.contains('Kids'))].head(2)"
   ]
  },
  {
   "cell_type": "code",
   "execution_count": null,
   "metadata": {},
   "outputs": [],
   "source": []
  },
  {
   "cell_type": "code",
   "execution_count": null,
   "metadata": {},
   "outputs": [],
   "source": []
  },
  {
   "cell_type": "code",
   "execution_count": null,
   "metadata": {},
   "outputs": [],
   "source": []
  }
 ],
 "metadata": {
  "kernelspec": {
   "display_name": "Python 3.10.4 64-bit",
   "language": "python",
   "name": "python3"
  },
  "language_info": {
   "codemirror_mode": {
    "name": "ipython",
    "version": 3
   },
   "file_extension": ".py",
   "mimetype": "text/x-python",
   "name": "python",
   "nbconvert_exporter": "python",
   "pygments_lexer": "ipython3",
   "version": "3.10.4"
  },
  "orig_nbformat": 4,
  "vscode": {
   "interpreter": {
    "hash": "a42ccb73e7d9bfdf27e036f1d2b8b681e55fc0743cc5586bc2474d4a60f4b886"
   }
  }
 },
 "nbformat": 4,
 "nbformat_minor": 2
}
