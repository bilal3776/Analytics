{
  "nbformat": 4,
  "nbformat_minor": 0,
  "metadata": {
    "colab": {
      "provenance": [],
      "authorship_tag": "ABX9TyPXygmg4etFCGAj3G8i5fh4",
      "include_colab_link": true
    },
    "kernelspec": {
      "name": "python3",
      "display_name": "Python 3"
    },
    "language_info": {
      "name": "python"
    }
  },
  "cells": [
    {
      "cell_type": "markdown",
      "metadata": {
        "id": "view-in-github",
        "colab_type": "text"
      },
      "source": [
        "<a href=\"https://colab.research.google.com/github/bilal3776/Analytics/blob/master/Stock_price_prediction_using_LSTM.ipynb\" target=\"_parent\"><img src=\"https://colab.research.google.com/assets/colab-badge.svg\" alt=\"Open In Colab\"/></a>"
      ]
    },
    {
      "cell_type": "code",
      "source": [
        "# configuring the path of Kaggle.json file\n",
        "!mkdir -p ~/.kaggle\n",
        "!cp kaggle.json ~/.kaggle/\n",
        "!chmod 600 ~/.kaggle/kaggle.json"
      ],
      "metadata": {
        "id": "Mn0F0KSzSzDE"
      },
      "execution_count": null,
      "outputs": []
    },
    {
      "cell_type": "code",
      "source": [
        "# Kaggle api \n",
        "!kaggle competitions download -c dogs-vs-cats"
      ],
      "metadata": {
        "colab": {
          "base_uri": "https://localhost:8080/"
        },
        "id": "TmMb4ANvS0HS",
        "outputId": "a45bf587-643e-499f-de40-d23cae00ab10"
      },
      "execution_count": null,
      "outputs": [
        {
          "output_type": "stream",
          "name": "stdout",
          "text": [
            "403 - Forbidden\n"
          ]
        }
      ]
    },
    {
      "cell_type": "code",
      "source": [
        "import pandas_datareader as pdr\n",
        "key = 'fa52950a55c69ec6a2bbdda790bc3642f032ae00'\n",
        "df = pdr.get_data_tiingo('AAPL', api_key= key)"
      ],
      "metadata": {
        "colab": {
          "base_uri": "https://localhost:8080/"
        },
        "id": "C6pdvI_oS1Mj",
        "outputId": "e4be5987-ba05-4f1e-b92e-63d220b731f2"
      },
      "execution_count": null,
      "outputs": [
        {
          "output_type": "stream",
          "name": "stderr",
          "text": [
            "<ipython-input-3-5ff2cb83a5f3>:3: FutureWarning: In a future version of pandas all arguments of concat except for the argument 'objs' will be keyword-only.\n",
            "  df = pdr.get_data_tiingo('AAPL', api_key= key)\n"
          ]
        }
      ]
    },
    {
      "cell_type": "code",
      "source": [
        "df.to_csv('APPL.csv')"
      ],
      "metadata": {
        "id": "g_8OfCi7S3-V"
      },
      "execution_count": null,
      "outputs": []
    },
    {
      "cell_type": "code",
      "source": [
        "import pandas as pd\n",
        "df= pd.read_csv('/content/APPL.csv')"
      ],
      "metadata": {
        "id": "PJubP1sUS6C3"
      },
      "execution_count": null,
      "outputs": []
    },
    {
      "cell_type": "code",
      "source": [
        "df.head()"
      ],
      "metadata": {
        "colab": {
          "base_uri": "https://localhost:8080/",
          "height": 357
        },
        "id": "DLlqWSwBR4Pp",
        "outputId": "0cc86e4a-7f4c-44bb-ff0e-86c0242cf76f"
      },
      "execution_count": null,
      "outputs": [
        {
          "output_type": "execute_result",
          "data": {
            "text/plain": [
              "  symbol                       date   close    high     low    open    volume  \\\n",
              "0   AAPL  2018-06-04 00:00:00+00:00  191.83  193.42  191.35  191.64  26266174   \n",
              "1   AAPL  2018-06-05 00:00:00+00:00  193.31  193.94  192.36  193.07  21565963   \n",
              "2   AAPL  2018-06-06 00:00:00+00:00  193.98  194.08  191.92  193.63  20933619   \n",
              "3   AAPL  2018-06-07 00:00:00+00:00  193.46  194.20  192.34  194.14  21347180   \n",
              "4   AAPL  2018-06-08 00:00:00+00:00  191.70  192.00  189.77  191.17  26656799   \n",
              "\n",
              "    adjClose    adjHigh     adjLow    adjOpen  adjVolume  divCash  splitFactor  \n",
              "0  45.827936  46.207785  45.713265  45.782545  105064696      0.0          1.0  \n",
              "1  46.181506  46.332012  45.954552  46.124171   86263852      0.0          1.0  \n",
              "2  46.341568  46.365458  45.849437  46.257954   83734476      0.0          1.0  \n",
              "3  46.217341  46.394126  45.949775  46.379792   85388720      0.0          1.0  \n",
              "4  45.796879  45.868549  45.335805  45.670263  106627196      0.0          1.0  "
            ],
            "text/html": [
              "\n",
              "  <div id=\"df-0dd514a8-1996-43b1-9805-d9265e324565\">\n",
              "    <div class=\"colab-df-container\">\n",
              "      <div>\n",
              "<style scoped>\n",
              "    .dataframe tbody tr th:only-of-type {\n",
              "        vertical-align: middle;\n",
              "    }\n",
              "\n",
              "    .dataframe tbody tr th {\n",
              "        vertical-align: top;\n",
              "    }\n",
              "\n",
              "    .dataframe thead th {\n",
              "        text-align: right;\n",
              "    }\n",
              "</style>\n",
              "<table border=\"1\" class=\"dataframe\">\n",
              "  <thead>\n",
              "    <tr style=\"text-align: right;\">\n",
              "      <th></th>\n",
              "      <th>symbol</th>\n",
              "      <th>date</th>\n",
              "      <th>close</th>\n",
              "      <th>high</th>\n",
              "      <th>low</th>\n",
              "      <th>open</th>\n",
              "      <th>volume</th>\n",
              "      <th>adjClose</th>\n",
              "      <th>adjHigh</th>\n",
              "      <th>adjLow</th>\n",
              "      <th>adjOpen</th>\n",
              "      <th>adjVolume</th>\n",
              "      <th>divCash</th>\n",
              "      <th>splitFactor</th>\n",
              "    </tr>\n",
              "  </thead>\n",
              "  <tbody>\n",
              "    <tr>\n",
              "      <th>0</th>\n",
              "      <td>AAPL</td>\n",
              "      <td>2018-06-04 00:00:00+00:00</td>\n",
              "      <td>191.83</td>\n",
              "      <td>193.42</td>\n",
              "      <td>191.35</td>\n",
              "      <td>191.64</td>\n",
              "      <td>26266174</td>\n",
              "      <td>45.827936</td>\n",
              "      <td>46.207785</td>\n",
              "      <td>45.713265</td>\n",
              "      <td>45.782545</td>\n",
              "      <td>105064696</td>\n",
              "      <td>0.0</td>\n",
              "      <td>1.0</td>\n",
              "    </tr>\n",
              "    <tr>\n",
              "      <th>1</th>\n",
              "      <td>AAPL</td>\n",
              "      <td>2018-06-05 00:00:00+00:00</td>\n",
              "      <td>193.31</td>\n",
              "      <td>193.94</td>\n",
              "      <td>192.36</td>\n",
              "      <td>193.07</td>\n",
              "      <td>21565963</td>\n",
              "      <td>46.181506</td>\n",
              "      <td>46.332012</td>\n",
              "      <td>45.954552</td>\n",
              "      <td>46.124171</td>\n",
              "      <td>86263852</td>\n",
              "      <td>0.0</td>\n",
              "      <td>1.0</td>\n",
              "    </tr>\n",
              "    <tr>\n",
              "      <th>2</th>\n",
              "      <td>AAPL</td>\n",
              "      <td>2018-06-06 00:00:00+00:00</td>\n",
              "      <td>193.98</td>\n",
              "      <td>194.08</td>\n",
              "      <td>191.92</td>\n",
              "      <td>193.63</td>\n",
              "      <td>20933619</td>\n",
              "      <td>46.341568</td>\n",
              "      <td>46.365458</td>\n",
              "      <td>45.849437</td>\n",
              "      <td>46.257954</td>\n",
              "      <td>83734476</td>\n",
              "      <td>0.0</td>\n",
              "      <td>1.0</td>\n",
              "    </tr>\n",
              "    <tr>\n",
              "      <th>3</th>\n",
              "      <td>AAPL</td>\n",
              "      <td>2018-06-07 00:00:00+00:00</td>\n",
              "      <td>193.46</td>\n",
              "      <td>194.20</td>\n",
              "      <td>192.34</td>\n",
              "      <td>194.14</td>\n",
              "      <td>21347180</td>\n",
              "      <td>46.217341</td>\n",
              "      <td>46.394126</td>\n",
              "      <td>45.949775</td>\n",
              "      <td>46.379792</td>\n",
              "      <td>85388720</td>\n",
              "      <td>0.0</td>\n",
              "      <td>1.0</td>\n",
              "    </tr>\n",
              "    <tr>\n",
              "      <th>4</th>\n",
              "      <td>AAPL</td>\n",
              "      <td>2018-06-08 00:00:00+00:00</td>\n",
              "      <td>191.70</td>\n",
              "      <td>192.00</td>\n",
              "      <td>189.77</td>\n",
              "      <td>191.17</td>\n",
              "      <td>26656799</td>\n",
              "      <td>45.796879</td>\n",
              "      <td>45.868549</td>\n",
              "      <td>45.335805</td>\n",
              "      <td>45.670263</td>\n",
              "      <td>106627196</td>\n",
              "      <td>0.0</td>\n",
              "      <td>1.0</td>\n",
              "    </tr>\n",
              "  </tbody>\n",
              "</table>\n",
              "</div>\n",
              "      <button class=\"colab-df-convert\" onclick=\"convertToInteractive('df-0dd514a8-1996-43b1-9805-d9265e324565')\"\n",
              "              title=\"Convert this dataframe to an interactive table.\"\n",
              "              style=\"display:none;\">\n",
              "        \n",
              "  <svg xmlns=\"http://www.w3.org/2000/svg\" height=\"24px\"viewBox=\"0 0 24 24\"\n",
              "       width=\"24px\">\n",
              "    <path d=\"M0 0h24v24H0V0z\" fill=\"none\"/>\n",
              "    <path d=\"M18.56 5.44l.94 2.06.94-2.06 2.06-.94-2.06-.94-.94-2.06-.94 2.06-2.06.94zm-11 1L8.5 8.5l.94-2.06 2.06-.94-2.06-.94L8.5 2.5l-.94 2.06-2.06.94zm10 10l.94 2.06.94-2.06 2.06-.94-2.06-.94-.94-2.06-.94 2.06-2.06.94z\"/><path d=\"M17.41 7.96l-1.37-1.37c-.4-.4-.92-.59-1.43-.59-.52 0-1.04.2-1.43.59L10.3 9.45l-7.72 7.72c-.78.78-.78 2.05 0 2.83L4 21.41c.39.39.9.59 1.41.59.51 0 1.02-.2 1.41-.59l7.78-7.78 2.81-2.81c.8-.78.8-2.07 0-2.86zM5.41 20L4 18.59l7.72-7.72 1.47 1.35L5.41 20z\"/>\n",
              "  </svg>\n",
              "      </button>\n",
              "      \n",
              "  <style>\n",
              "    .colab-df-container {\n",
              "      display:flex;\n",
              "      flex-wrap:wrap;\n",
              "      gap: 12px;\n",
              "    }\n",
              "\n",
              "    .colab-df-convert {\n",
              "      background-color: #E8F0FE;\n",
              "      border: none;\n",
              "      border-radius: 50%;\n",
              "      cursor: pointer;\n",
              "      display: none;\n",
              "      fill: #1967D2;\n",
              "      height: 32px;\n",
              "      padding: 0 0 0 0;\n",
              "      width: 32px;\n",
              "    }\n",
              "\n",
              "    .colab-df-convert:hover {\n",
              "      background-color: #E2EBFA;\n",
              "      box-shadow: 0px 1px 2px rgba(60, 64, 67, 0.3), 0px 1px 3px 1px rgba(60, 64, 67, 0.15);\n",
              "      fill: #174EA6;\n",
              "    }\n",
              "\n",
              "    [theme=dark] .colab-df-convert {\n",
              "      background-color: #3B4455;\n",
              "      fill: #D2E3FC;\n",
              "    }\n",
              "\n",
              "    [theme=dark] .colab-df-convert:hover {\n",
              "      background-color: #434B5C;\n",
              "      box-shadow: 0px 1px 3px 1px rgba(0, 0, 0, 0.15);\n",
              "      filter: drop-shadow(0px 1px 2px rgba(0, 0, 0, 0.3));\n",
              "      fill: #FFFFFF;\n",
              "    }\n",
              "  </style>\n",
              "\n",
              "      <script>\n",
              "        const buttonEl =\n",
              "          document.querySelector('#df-0dd514a8-1996-43b1-9805-d9265e324565 button.colab-df-convert');\n",
              "        buttonEl.style.display =\n",
              "          google.colab.kernel.accessAllowed ? 'block' : 'none';\n",
              "\n",
              "        async function convertToInteractive(key) {\n",
              "          const element = document.querySelector('#df-0dd514a8-1996-43b1-9805-d9265e324565');\n",
              "          const dataTable =\n",
              "            await google.colab.kernel.invokeFunction('convertToInteractive',\n",
              "                                                     [key], {});\n",
              "          if (!dataTable) return;\n",
              "\n",
              "          const docLinkHtml = 'Like what you see? Visit the ' +\n",
              "            '<a target=\"_blank\" href=https://colab.research.google.com/notebooks/data_table.ipynb>data table notebook</a>'\n",
              "            + ' to learn more about interactive tables.';\n",
              "          element.innerHTML = '';\n",
              "          dataTable['output_type'] = 'display_data';\n",
              "          await google.colab.output.renderOutput(dataTable, element);\n",
              "          const docLink = document.createElement('div');\n",
              "          docLink.innerHTML = docLinkHtml;\n",
              "          element.appendChild(docLink);\n",
              "        }\n",
              "      </script>\n",
              "    </div>\n",
              "  </div>\n",
              "  "
            ]
          },
          "metadata": {},
          "execution_count": 7
        }
      ]
    },
    {
      "cell_type": "code",
      "source": [
        "df.tail()"
      ],
      "metadata": {
        "colab": {
          "base_uri": "https://localhost:8080/",
          "height": 357
        },
        "id": "w1TNdpgNR8U6",
        "outputId": "41afbb39-adea-437a-a648-0b942e8af10b"
      },
      "execution_count": null,
      "outputs": [
        {
          "output_type": "execute_result",
          "data": {
            "text/plain": [
              "     symbol                       date   close     high       low     open  \\\n",
              "1253   AAPL  2023-05-25 00:00:00+00:00  172.99  173.895  171.6900  172.410   \n",
              "1254   AAPL  2023-05-26 00:00:00+00:00  175.43  175.770  173.1100  173.320   \n",
              "1255   AAPL  2023-05-30 00:00:00+00:00  177.30  178.990  176.5700  176.960   \n",
              "1256   AAPL  2023-05-31 00:00:00+00:00  177.25  179.350  176.7600  177.325   \n",
              "1257   AAPL  2023-06-01 00:00:00+00:00  180.09  180.120  176.9306  177.700   \n",
              "\n",
              "        volume  adjClose  adjHigh    adjLow  adjOpen  adjVolume  divCash  \\\n",
              "1253  56058258    172.99  173.895  171.6900  172.410   56058258      0.0   \n",
              "1254  54834975    175.43  175.770  173.1100  173.320   54834975      0.0   \n",
              "1255  55964401    177.30  178.990  176.5700  176.960   55964401      0.0   \n",
              "1256  99313268    177.25  179.350  176.7600  177.325   99313268      0.0   \n",
              "1257  68901809    180.09  180.120  176.9306  177.700   68901809      0.0   \n",
              "\n",
              "      splitFactor  \n",
              "1253          1.0  \n",
              "1254          1.0  \n",
              "1255          1.0  \n",
              "1256          1.0  \n",
              "1257          1.0  "
            ],
            "text/html": [
              "\n",
              "  <div id=\"df-a2999be7-320f-4013-b52d-a8fb56be4f82\">\n",
              "    <div class=\"colab-df-container\">\n",
              "      <div>\n",
              "<style scoped>\n",
              "    .dataframe tbody tr th:only-of-type {\n",
              "        vertical-align: middle;\n",
              "    }\n",
              "\n",
              "    .dataframe tbody tr th {\n",
              "        vertical-align: top;\n",
              "    }\n",
              "\n",
              "    .dataframe thead th {\n",
              "        text-align: right;\n",
              "    }\n",
              "</style>\n",
              "<table border=\"1\" class=\"dataframe\">\n",
              "  <thead>\n",
              "    <tr style=\"text-align: right;\">\n",
              "      <th></th>\n",
              "      <th>symbol</th>\n",
              "      <th>date</th>\n",
              "      <th>close</th>\n",
              "      <th>high</th>\n",
              "      <th>low</th>\n",
              "      <th>open</th>\n",
              "      <th>volume</th>\n",
              "      <th>adjClose</th>\n",
              "      <th>adjHigh</th>\n",
              "      <th>adjLow</th>\n",
              "      <th>adjOpen</th>\n",
              "      <th>adjVolume</th>\n",
              "      <th>divCash</th>\n",
              "      <th>splitFactor</th>\n",
              "    </tr>\n",
              "  </thead>\n",
              "  <tbody>\n",
              "    <tr>\n",
              "      <th>1253</th>\n",
              "      <td>AAPL</td>\n",
              "      <td>2023-05-25 00:00:00+00:00</td>\n",
              "      <td>172.99</td>\n",
              "      <td>173.895</td>\n",
              "      <td>171.6900</td>\n",
              "      <td>172.410</td>\n",
              "      <td>56058258</td>\n",
              "      <td>172.99</td>\n",
              "      <td>173.895</td>\n",
              "      <td>171.6900</td>\n",
              "      <td>172.410</td>\n",
              "      <td>56058258</td>\n",
              "      <td>0.0</td>\n",
              "      <td>1.0</td>\n",
              "    </tr>\n",
              "    <tr>\n",
              "      <th>1254</th>\n",
              "      <td>AAPL</td>\n",
              "      <td>2023-05-26 00:00:00+00:00</td>\n",
              "      <td>175.43</td>\n",
              "      <td>175.770</td>\n",
              "      <td>173.1100</td>\n",
              "      <td>173.320</td>\n",
              "      <td>54834975</td>\n",
              "      <td>175.43</td>\n",
              "      <td>175.770</td>\n",
              "      <td>173.1100</td>\n",
              "      <td>173.320</td>\n",
              "      <td>54834975</td>\n",
              "      <td>0.0</td>\n",
              "      <td>1.0</td>\n",
              "    </tr>\n",
              "    <tr>\n",
              "      <th>1255</th>\n",
              "      <td>AAPL</td>\n",
              "      <td>2023-05-30 00:00:00+00:00</td>\n",
              "      <td>177.30</td>\n",
              "      <td>178.990</td>\n",
              "      <td>176.5700</td>\n",
              "      <td>176.960</td>\n",
              "      <td>55964401</td>\n",
              "      <td>177.30</td>\n",
              "      <td>178.990</td>\n",
              "      <td>176.5700</td>\n",
              "      <td>176.960</td>\n",
              "      <td>55964401</td>\n",
              "      <td>0.0</td>\n",
              "      <td>1.0</td>\n",
              "    </tr>\n",
              "    <tr>\n",
              "      <th>1256</th>\n",
              "      <td>AAPL</td>\n",
              "      <td>2023-05-31 00:00:00+00:00</td>\n",
              "      <td>177.25</td>\n",
              "      <td>179.350</td>\n",
              "      <td>176.7600</td>\n",
              "      <td>177.325</td>\n",
              "      <td>99313268</td>\n",
              "      <td>177.25</td>\n",
              "      <td>179.350</td>\n",
              "      <td>176.7600</td>\n",
              "      <td>177.325</td>\n",
              "      <td>99313268</td>\n",
              "      <td>0.0</td>\n",
              "      <td>1.0</td>\n",
              "    </tr>\n",
              "    <tr>\n",
              "      <th>1257</th>\n",
              "      <td>AAPL</td>\n",
              "      <td>2023-06-01 00:00:00+00:00</td>\n",
              "      <td>180.09</td>\n",
              "      <td>180.120</td>\n",
              "      <td>176.9306</td>\n",
              "      <td>177.700</td>\n",
              "      <td>68901809</td>\n",
              "      <td>180.09</td>\n",
              "      <td>180.120</td>\n",
              "      <td>176.9306</td>\n",
              "      <td>177.700</td>\n",
              "      <td>68901809</td>\n",
              "      <td>0.0</td>\n",
              "      <td>1.0</td>\n",
              "    </tr>\n",
              "  </tbody>\n",
              "</table>\n",
              "</div>\n",
              "      <button class=\"colab-df-convert\" onclick=\"convertToInteractive('df-a2999be7-320f-4013-b52d-a8fb56be4f82')\"\n",
              "              title=\"Convert this dataframe to an interactive table.\"\n",
              "              style=\"display:none;\">\n",
              "        \n",
              "  <svg xmlns=\"http://www.w3.org/2000/svg\" height=\"24px\"viewBox=\"0 0 24 24\"\n",
              "       width=\"24px\">\n",
              "    <path d=\"M0 0h24v24H0V0z\" fill=\"none\"/>\n",
              "    <path d=\"M18.56 5.44l.94 2.06.94-2.06 2.06-.94-2.06-.94-.94-2.06-.94 2.06-2.06.94zm-11 1L8.5 8.5l.94-2.06 2.06-.94-2.06-.94L8.5 2.5l-.94 2.06-2.06.94zm10 10l.94 2.06.94-2.06 2.06-.94-2.06-.94-.94-2.06-.94 2.06-2.06.94z\"/><path d=\"M17.41 7.96l-1.37-1.37c-.4-.4-.92-.59-1.43-.59-.52 0-1.04.2-1.43.59L10.3 9.45l-7.72 7.72c-.78.78-.78 2.05 0 2.83L4 21.41c.39.39.9.59 1.41.59.51 0 1.02-.2 1.41-.59l7.78-7.78 2.81-2.81c.8-.78.8-2.07 0-2.86zM5.41 20L4 18.59l7.72-7.72 1.47 1.35L5.41 20z\"/>\n",
              "  </svg>\n",
              "      </button>\n",
              "      \n",
              "  <style>\n",
              "    .colab-df-container {\n",
              "      display:flex;\n",
              "      flex-wrap:wrap;\n",
              "      gap: 12px;\n",
              "    }\n",
              "\n",
              "    .colab-df-convert {\n",
              "      background-color: #E8F0FE;\n",
              "      border: none;\n",
              "      border-radius: 50%;\n",
              "      cursor: pointer;\n",
              "      display: none;\n",
              "      fill: #1967D2;\n",
              "      height: 32px;\n",
              "      padding: 0 0 0 0;\n",
              "      width: 32px;\n",
              "    }\n",
              "\n",
              "    .colab-df-convert:hover {\n",
              "      background-color: #E2EBFA;\n",
              "      box-shadow: 0px 1px 2px rgba(60, 64, 67, 0.3), 0px 1px 3px 1px rgba(60, 64, 67, 0.15);\n",
              "      fill: #174EA6;\n",
              "    }\n",
              "\n",
              "    [theme=dark] .colab-df-convert {\n",
              "      background-color: #3B4455;\n",
              "      fill: #D2E3FC;\n",
              "    }\n",
              "\n",
              "    [theme=dark] .colab-df-convert:hover {\n",
              "      background-color: #434B5C;\n",
              "      box-shadow: 0px 1px 3px 1px rgba(0, 0, 0, 0.15);\n",
              "      filter: drop-shadow(0px 1px 2px rgba(0, 0, 0, 0.3));\n",
              "      fill: #FFFFFF;\n",
              "    }\n",
              "  </style>\n",
              "\n",
              "      <script>\n",
              "        const buttonEl =\n",
              "          document.querySelector('#df-a2999be7-320f-4013-b52d-a8fb56be4f82 button.colab-df-convert');\n",
              "        buttonEl.style.display =\n",
              "          google.colab.kernel.accessAllowed ? 'block' : 'none';\n",
              "\n",
              "        async function convertToInteractive(key) {\n",
              "          const element = document.querySelector('#df-a2999be7-320f-4013-b52d-a8fb56be4f82');\n",
              "          const dataTable =\n",
              "            await google.colab.kernel.invokeFunction('convertToInteractive',\n",
              "                                                     [key], {});\n",
              "          if (!dataTable) return;\n",
              "\n",
              "          const docLinkHtml = 'Like what you see? Visit the ' +\n",
              "            '<a target=\"_blank\" href=https://colab.research.google.com/notebooks/data_table.ipynb>data table notebook</a>'\n",
              "            + ' to learn more about interactive tables.';\n",
              "          element.innerHTML = '';\n",
              "          dataTable['output_type'] = 'display_data';\n",
              "          await google.colab.output.renderOutput(dataTable, element);\n",
              "          const docLink = document.createElement('div');\n",
              "          docLink.innerHTML = docLinkHtml;\n",
              "          element.appendChild(docLink);\n",
              "        }\n",
              "      </script>\n",
              "    </div>\n",
              "  </div>\n",
              "  "
            ]
          },
          "metadata": {},
          "execution_count": 8
        }
      ]
    },
    {
      "cell_type": "code",
      "source": [
        "  #will be doing the predictions on the basis of close price\n",
        "  df1 =df.reset_index()['close']\n",
        "  #df1[1228:]"
      ],
      "metadata": {
        "id": "onk0Wie2SO8i"
      },
      "execution_count": null,
      "outputs": []
    },
    {
      "cell_type": "code",
      "source": [
        "df.reset_index()['open']"
      ],
      "metadata": {
        "colab": {
          "base_uri": "https://localhost:8080/"
        },
        "id": "BvmkjFhESl8q",
        "outputId": "c9cabf02-8939-4cae-d1fa-7940d8ca4291"
      },
      "execution_count": null,
      "outputs": [
        {
          "output_type": "execute_result",
          "data": {
            "text/plain": [
              "0       191.640\n",
              "1       193.070\n",
              "2       193.630\n",
              "3       194.140\n",
              "4       191.170\n",
              "         ...   \n",
              "1253    172.410\n",
              "1254    173.320\n",
              "1255    176.960\n",
              "1256    177.325\n",
              "1257    177.700\n",
              "Name: open, Length: 1258, dtype: float64"
            ]
          },
          "metadata": {},
          "execution_count": 13
        }
      ]
    },
    {
      "cell_type": "code",
      "source": [
        "import matplotlib.pyplot as plt\n",
        "plt.plot(df1)"
      ],
      "metadata": {
        "colab": {
          "base_uri": "https://localhost:8080/",
          "height": 447
        },
        "id": "70GijiXwS83C",
        "outputId": "35ea36cd-13ea-49a6-b24f-6038b9b0a167"
      },
      "execution_count": null,
      "outputs": [
        {
          "output_type": "execute_result",
          "data": {
            "text/plain": [
              "[<matplotlib.lines.Line2D at 0x7fc9cdbe4b50>]"
            ]
          },
          "metadata": {},
          "execution_count": 16
        },
        {
          "output_type": "display_data",
          "data": {
            "text/plain": [
              "<Figure size 640x480 with 1 Axes>"
            ],
            "image/png": "[encoded data removed]"
          },
          "metadata": {}
        }
      ]
    },
    {
      "cell_type": "code",
      "source": [
        "# LSTM are very sensitive to the scale of the data so we can apply MinMax scaler\n",
        "import numpy as np\n",
        "from sklearn.preprocessing import MinMaxScaler\n",
        "scaler = MinMaxScaler(feature_range=(0,1))\n",
        "df1 = scaler.fit_transform(np.array(df1).reshape(-1,1))\n",
        "df1.shape"
      ],
      "metadata": {
        "colab": {
          "base_uri": "https://localhost:8080/"
        },
        "id": "h8LR1vFcTG9m",
        "outputId": "96372222-518a-4f81-b1ac-b3ba62fda485"
      },
      "execution_count": null,
      "outputs": [
        {
          "output_type": "execute_result",
          "data": {
            "text/plain": [
              "(1258, 1)"
            ]
          },
          "metadata": {},
          "execution_count": 22
        }
      ]
    },
    {
      "cell_type": "code",
      "source": [
        "from sklearn.model_selection import train_test_split\n",
        "# we divide our dataset in a different manner while working on this type of daataset\n",
        "# as all days data are inrelated so will divide on the basis of dates\n",
        "#timeseries data --> train and test split will be the part of corresponding date\n"
      ],
      "metadata": {
        "id": "gpM53NpjTmAw"
      },
      "execution_count": null,
      "outputs": []
    },
    {
      "cell_type": "code",
      "source": [
        "train_size =int(len(df1)* 0.65)\n",
        "test_size = len(df1)- train_size\n",
        "train_data, test_data = df1[0:train_size, :], df1[train_size:len(df1), :1]"
      ],
      "metadata": {
        "id": "tPswYCyJT0oS"
      },
      "execution_count": null,
      "outputs": []
    },
    {
      "cell_type": "code",
      "source": [
        "#here I will be creating the two datasets into the dependent and the independent features\n",
        "# and will create it with taking the values in the dataset of the values \n",
        "# X_train contains of 3 timesteps values and  y_train it will be the fourth value which will become our output\n",
        "#same will be created in case of test data\n"
      ],
      "metadata": {
        "id": "3Xqb-tvThubA"
      },
      "execution_count": null,
      "outputs": []
    },
    {
      "cell_type": "code",
      "source": [
        "import numpy as np\n",
        "# convert an array of values into a dataset matrix\n",
        "def create_dataset(dataset, time_step=1):\n",
        "  dataX, dataY =[], []\n",
        "  for i in range(len(dataset)- time_step-1):\n",
        "    a = dataset[i:(i+time_step), 0]    #i=0  0,1,2,3---\n",
        "    dataX.append(a)\n",
        "    dataY.append(dataset[i+ time_step, 0])\n",
        "  return np.array(dataX), np.array(dataY)"
      ],
      "metadata": {
        "id": "oFZhx6vDjUsE"
      },
      "execution_count": null,
      "outputs": []
    },
    {
      "cell_type": "code",
      "source": [
        "#reshape into X=t, t+1, t+2, t+3 and Y= t+4\n",
        "import numpy as np\n",
        "time_step =100\n",
        "X_train, y_train = create_dataset(train_data, time_step)\n",
        "X_test, y_test = create_dataset(test_data, time_step)"
      ],
      "metadata": {
        "id": "kYzJgUNBktmN"
      },
      "execution_count": null,
      "outputs": []
    },
    {
      "cell_type": "code",
      "source": [
        "print(X_train)"
      ],
      "metadata": {
        "colab": {
          "base_uri": "https://localhost:8080/"
        },
        "id": "W57XpwYKlEPf",
        "outputId": "5292826d-1042-4830-a4b3-bfa30e076d28"
      },
      "execution_count": null,
      "outputs": [
        {
          "output_type": "stream",
          "name": "stdout",
          "text": [
            "[[0.21287414 0.21658109 0.21825924 ... 0.28170319 0.28505949 0.29026925]\n",
            " [0.21658109 0.21825924 0.21695679 ... 0.28505949 0.29026925 0.27113338]\n",
            " [0.21825924 0.21695679 0.21254853 ... 0.29026925 0.27113338 0.28293049]\n",
            " ...\n",
            " [0.04773951 0.04851597 0.0527489  ... 0.10356919 0.10737633 0.10715091]\n",
            " [0.04851597 0.0527489  0.05891046 ... 0.10737633 0.10715091 0.10399499]\n",
            " [0.0527489  0.05891046 0.06551033 ... 0.10715091 0.10399499 0.10194114]]\n"
          ]
        }
      ]
    },
    {
      "cell_type": "code",
      "source": [
        "print(X_train.shape)\n",
        "print(f'y_train{y_train.shape}')"
      ],
      "metadata": {
        "colab": {
          "base_uri": "https://localhost:8080/"
        },
        "id": "KJ4p0SeYlSlT",
        "outputId": "2158b5ef-8623-4377-b04c-1a7d74500f2f"
      },
      "execution_count": null,
      "outputs": [
        {
          "output_type": "stream",
          "name": "stdout",
          "text": [
            "(716, 100)\n",
            "y_train(716,)\n"
          ]
        }
      ]
    },
    {
      "cell_type": "code",
      "source": [
        "#now we are going to apply LSTM\n",
        "#before that we have to convert this into the three dimension as \n",
        "X_train = X_train.reshape(X_train.shape[0], X_train.shape[1], 1)\n",
        "X_test = X_test.reshape(X_test.shape[0], X_test.shape[1],1)"
      ],
      "metadata": {
        "id": "FKd7srxwlcLW"
      },
      "execution_count": null,
      "outputs": []
    },
    {
      "cell_type": "code",
      "source": [
        "#Creation of the stacked LSTM model\n",
        "from tensorflow.keras.models import Sequential\n",
        "from tensorflow.keras.layers import Dense, Dropout, Flatten, MaxPooling2D\n",
        "from tensorflow.keras.layers import LSTM"
      ],
      "metadata": {
        "id": "Lw3WyseamG7P"
      },
      "execution_count": null,
      "outputs": []
    },
    {
      "cell_type": "code",
      "source": [
        "model = Sequential()\n",
        "model.add(LSTM(50, return_sequences= True, input_shape=(100,1)))\n",
        "model.add(LSTM(50, return_sequences = True))\n",
        "model.add(LSTM(50))\n",
        "model.add(Dense(1))\n",
        "model.compile(loss='mean_squared_error', optimizer='adam')\n",
        "model.summary()"
      ],
      "metadata": {
        "colab": {
          "base_uri": "https://localhost:8080/"
        },
        "id": "wLs2aD-XmaBc",
        "outputId": "1dd9b796-0c70-4ec6-ffec-9b1777a90ce4"
      },
      "execution_count": null,
      "outputs": [
        {
          "output_type": "stream",
          "name": "stdout",
          "text": [
            "Model: \"sequential\"\n",
            "_________________________________________________________________\n",
            " Layer (type)                Output Shape              Param #   \n",
            "=================================================================\n",
            " lstm (LSTM)                 (None, 100, 50)           10400     \n",
            "                                                                 \n",
            " lstm_1 (LSTM)               (None, 100, 50)           20200     \n",
            "                                                                 \n",
            " lstm_2 (LSTM)               (None, 50)                20200     \n",
            "                                                                 \n",
            " dense (Dense)               (None, 1)                 51        \n",
            "                                                                 \n",
            "=================================================================\n",
            "Total params: 50,851\n",
            "Trainable params: 50,851\n",
            "Non-trainable params: 0\n",
            "_________________________________________________________________\n"
          ]
        }
      ]
    },
    {
      "cell_type": "code",
      "source": [
        "model.fit(X_train, y_train, validation_data=(X_test, y_test), epochs=100, batch_size=64, verbose=1)"
      ],
      "metadata": {
        "colab": {
          "base_uri": "https://localhost:8080/"
        },
        "id": "CimLNqOkm6TA",
        "outputId": "6c0d6b75-fcff-458a-c5b0-cc8653dd72b2"
      },
      "execution_count": null,
      "outputs": [
        {
          "output_type": "stream",
          "name": "stdout",
          "text": [
            "Epoch 1/100\n",
            "12/12 [==============================] - 14s 458ms/step - loss: 0.0415 - val_loss: 0.0013\n",
            "Epoch 2/100\n",
            "12/12 [==============================] - 2s 202ms/step - loss: 0.0135 - val_loss: 0.0041\n",
            "Epoch 3/100\n",
            "12/12 [==============================] - 2s 207ms/step - loss: 0.0114 - val_loss: 7.1433e-04\n",
            "Epoch 4/100\n",
            "12/12 [==============================] - 4s 309ms/step - loss: 0.0096 - val_loss: 5.0962e-04\n",
            "Epoch 5/100\n",
            "12/12 [==============================] - 3s 237ms/step - loss: 0.0082 - val_loss: 0.0018\n",
            "Epoch 6/100\n",
            "12/12 [==============================] - 2s 200ms/step - loss: 0.0082 - val_loss: 3.0434e-04\n",
            "Epoch 7/100\n",
            "12/12 [==============================] - 2s 195ms/step - loss: 0.0068 - val_loss: 3.5420e-04\n",
            "Epoch 8/100\n",
            "12/12 [==============================] - 3s 217ms/step - loss: 0.0068 - val_loss: 3.2994e-04\n",
            "Epoch 9/100\n",
            "12/12 [==============================] - 3s 280ms/step - loss: 0.0060 - val_loss: 9.9241e-04\n",
            "Epoch 10/100\n",
            "12/12 [==============================] - 2s 198ms/step - loss: 0.0059 - val_loss: 7.6773e-04\n",
            "Epoch 11/100\n",
            "12/12 [==============================] - 2s 195ms/step - loss: 0.0058 - val_loss: 3.9537e-04\n",
            "Epoch 12/100\n",
            "12/12 [==============================] - 2s 197ms/step - loss: 0.0049 - val_loss: 2.7833e-04\n",
            "Epoch 13/100\n",
            "12/12 [==============================] - 3s 249ms/step - loss: 0.0046 - val_loss: 3.5603e-04\n",
            "Epoch 14/100\n",
            "12/12 [==============================] - 3s 253ms/step - loss: 0.0042 - val_loss: 3.0960e-04\n",
            "Epoch 15/100\n",
            "12/12 [==============================] - 3s 253ms/step - loss: 0.0038 - val_loss: 2.9162e-04\n",
            "Epoch 16/100\n",
            "12/12 [==============================] - 3s 215ms/step - loss: 0.0037 - val_loss: 3.0059e-04\n",
            "Epoch 17/100\n",
            "12/12 [==============================] - 2s 195ms/step - loss: 0.0039 - val_loss: 4.0293e-04\n",
            "Epoch 18/100\n",
            "12/12 [==============================] - 4s 312ms/step - loss: 0.0035 - val_loss: 3.6533e-04\n",
            "Epoch 19/100\n",
            "12/12 [==============================] - 2s 208ms/step - loss: 0.0037 - val_loss: 3.5037e-04\n",
            "Epoch 20/100\n",
            "12/12 [==============================] - 2s 195ms/step - loss: 0.0028 - val_loss: 2.5896e-04\n",
            "Epoch 21/100\n",
            "12/12 [==============================] - 2s 203ms/step - loss: 0.0033 - val_loss: 2.7621e-04\n",
            "Epoch 22/100\n",
            "12/12 [==============================] - 3s 230ms/step - loss: 0.0026 - val_loss: 3.7637e-04\n",
            "Epoch 23/100\n",
            "12/12 [==============================] - 4s 291ms/step - loss: 0.0026 - val_loss: 3.9089e-04\n",
            "Epoch 24/100\n",
            "12/12 [==============================] - 4s 344ms/step - loss: 0.0024 - val_loss: 2.2162e-04\n",
            "Epoch 25/100\n",
            "12/12 [==============================] - 4s 358ms/step - loss: 0.0037 - val_loss: 2.7444e-04\n",
            "Epoch 26/100\n",
            "12/12 [==============================] - 6s 484ms/step - loss: 0.0029 - val_loss: 3.3495e-04\n",
            "Epoch 27/100\n",
            "12/12 [==============================] - 3s 241ms/step - loss: 0.0027 - val_loss: 2.3601e-04\n",
            "Epoch 28/100\n",
            "12/12 [==============================] - 3s 289ms/step - loss: 0.0031 - val_loss: 3.3779e-04\n",
            "Epoch 29/100\n",
            "12/12 [==============================] - 5s 455ms/step - loss: 0.0033 - val_loss: 3.1772e-04\n",
            "Epoch 30/100\n",
            "12/12 [==============================] - 4s 365ms/step - loss: 0.0022 - val_loss: 2.5330e-04\n",
            "Epoch 31/100\n",
            "12/12 [==============================] - 3s 249ms/step - loss: 0.0019 - val_loss: 2.4841e-04\n",
            "Epoch 32/100\n",
            "12/12 [==============================] - 3s 244ms/step - loss: 0.0017 - val_loss: 2.3463e-04\n",
            "Epoch 33/100\n",
            "12/12 [==============================] - 4s 306ms/step - loss: 0.0049 - val_loss: 2.8543e-04\n",
            "Epoch 34/100\n",
            "12/12 [==============================] - 3s 233ms/step - loss: 0.0036 - val_loss: 3.9417e-04\n",
            "Epoch 35/100\n",
            "12/12 [==============================] - 4s 316ms/step - loss: 0.0026 - val_loss: 2.4904e-04\n",
            "Epoch 36/100\n",
            "12/12 [==============================] - 4s 376ms/step - loss: 0.0022 - val_loss: 4.1422e-04\n",
            "Epoch 37/100\n",
            "12/12 [==============================] - 3s 279ms/step - loss: 0.0023 - val_loss: 2.7259e-04\n",
            "Epoch 38/100\n",
            "12/12 [==============================] - 4s 321ms/step - loss: 0.0033 - val_loss: 3.0004e-04\n",
            "Epoch 39/100\n",
            "12/12 [==============================] - 4s 365ms/step - loss: 0.0025 - val_loss: 2.3951e-04\n",
            "Epoch 40/100\n",
            "12/12 [==============================] - 4s 343ms/step - loss: 0.0024 - val_loss: 2.5663e-04\n",
            "Epoch 41/100\n",
            "12/12 [==============================] - 4s 323ms/step - loss: 0.0025 - val_loss: 3.8929e-04\n",
            "Epoch 42/100\n",
            "12/12 [==============================] - 4s 364ms/step - loss: 0.0033 - val_loss: 2.9130e-04\n",
            "Epoch 43/100\n",
            "12/12 [==============================] - 4s 328ms/step - loss: 0.0023 - val_loss: 2.8558e-04\n",
            "Epoch 44/100\n",
            "12/12 [==============================] - 4s 302ms/step - loss: 0.0023 - val_loss: 2.2528e-04\n",
            "Epoch 45/100\n",
            "12/12 [==============================] - 4s 302ms/step - loss: 0.0020 - val_loss: 2.1651e-04\n",
            "Epoch 46/100\n",
            "12/12 [==============================] - 5s 396ms/step - loss: 0.0021 - val_loss: 2.3489e-04\n",
            "Epoch 47/100\n",
            "12/12 [==============================] - 4s 289ms/step - loss: 0.0017 - val_loss: 2.2390e-04\n",
            "Epoch 48/100\n",
            "12/12 [==============================] - 4s 322ms/step - loss: 0.0016 - val_loss: 2.5431e-04\n",
            "Epoch 49/100\n",
            "12/12 [==============================] - 6s 484ms/step - loss: 0.0017 - val_loss: 2.1666e-04\n",
            "Epoch 50/100\n",
            "12/12 [==============================] - 6s 483ms/step - loss: 0.0017 - val_loss: 2.6121e-04\n",
            "Epoch 51/100\n",
            "12/12 [==============================] - 4s 353ms/step - loss: 0.0027 - val_loss: 3.0753e-04\n",
            "Epoch 52/100\n",
            "12/12 [==============================] - 6s 465ms/step - loss: 0.0022 - val_loss: 2.3620e-04\n",
            "Epoch 53/100\n",
            "12/12 [==============================] - 5s 368ms/step - loss: 0.0017 - val_loss: 2.2633e-04\n",
            "Epoch 54/100\n",
            "12/12 [==============================] - 6s 477ms/step - loss: 0.0016 - val_loss: 2.2141e-04\n",
            "Epoch 55/100\n",
            "12/12 [==============================] - 4s 357ms/step - loss: 0.0016 - val_loss: 2.2225e-04\n",
            "Epoch 56/100\n",
            "12/12 [==============================] - 4s 355ms/step - loss: 0.0015 - val_loss: 2.3973e-04\n",
            "Epoch 57/100\n",
            "12/12 [==============================] - 5s 416ms/step - loss: 0.0022 - val_loss: 3.7128e-04\n",
            "Epoch 58/100\n",
            "12/12 [==============================] - 4s 319ms/step - loss: 0.0022 - val_loss: 2.3363e-04\n",
            "Epoch 59/100\n",
            "12/12 [==============================] - 3s 211ms/step - loss: 0.0016 - val_loss: 2.9222e-04\n",
            "Epoch 60/100\n",
            "12/12 [==============================] - 2s 198ms/step - loss: 0.0017 - val_loss: 2.1650e-04\n",
            "Epoch 61/100\n",
            "12/12 [==============================] - 3s 268ms/step - loss: 0.0017 - val_loss: 2.1754e-04\n",
            "Epoch 62/100\n",
            "12/12 [==============================] - 3s 222ms/step - loss: 0.0016 - val_loss: 2.3014e-04\n",
            "Epoch 63/100\n",
            "12/12 [==============================] - 3s 245ms/step - loss: 0.0015 - val_loss: 2.1138e-04\n",
            "Epoch 64/100\n",
            "12/12 [==============================] - 2s 199ms/step - loss: 0.0015 - val_loss: 2.2295e-04\n",
            "Epoch 65/100\n",
            "12/12 [==============================] - 3s 235ms/step - loss: 0.0016 - val_loss: 2.1976e-04\n",
            "Epoch 66/100\n",
            "12/12 [==============================] - 5s 437ms/step - loss: 0.0016 - val_loss: 2.5828e-04\n",
            "Epoch 67/100\n",
            "12/12 [==============================] - 4s 299ms/step - loss: 0.0018 - val_loss: 3.3660e-04\n",
            "Epoch 68/100\n",
            "12/12 [==============================] - 4s 312ms/step - loss: 0.0014 - val_loss: 2.2365e-04\n",
            "Epoch 69/100\n",
            "12/12 [==============================] - 4s 368ms/step - loss: 0.0015 - val_loss: 2.2777e-04\n",
            "Epoch 70/100\n",
            "12/12 [==============================] - 4s 379ms/step - loss: 0.0019 - val_loss: 3.0687e-04\n",
            "Epoch 71/100\n",
            "12/12 [==============================] - 6s 519ms/step - loss: 0.0014 - val_loss: 2.3609e-04\n",
            "Epoch 72/100\n",
            "12/12 [==============================] - 4s 362ms/step - loss: 0.0018 - val_loss: 2.0987e-04\n",
            "Epoch 73/100\n",
            "12/12 [==============================] - 4s 299ms/step - loss: 0.0016 - val_loss: 2.3648e-04\n",
            "Epoch 74/100\n",
            "12/12 [==============================] - 3s 282ms/step - loss: 0.0013 - val_loss: 2.2573e-04\n",
            "Epoch 75/100\n",
            "12/12 [==============================] - 4s 352ms/step - loss: 0.0148 - val_loss: 0.0028\n",
            "Epoch 76/100\n",
            "12/12 [==============================] - 4s 344ms/step - loss: 0.0057 - val_loss: 2.5723e-04\n",
            "Epoch 77/100\n",
            "12/12 [==============================] - 4s 317ms/step - loss: 0.0045 - val_loss: 2.2784e-04\n",
            "Epoch 78/100\n",
            "12/12 [==============================] - 5s 411ms/step - loss: 0.0036 - val_loss: 2.9169e-04\n",
            "Epoch 79/100\n",
            "12/12 [==============================] - 5s 408ms/step - loss: 0.0042 - val_loss: 5.3833e-04\n",
            "Epoch 80/100\n",
            "12/12 [==============================] - 5s 412ms/step - loss: 0.0032 - val_loss: 2.1998e-04\n",
            "Epoch 81/100\n",
            "12/12 [==============================] - 6s 502ms/step - loss: 0.0028 - val_loss: 1.9854e-04\n",
            "Epoch 82/100\n",
            "12/12 [==============================] - 4s 307ms/step - loss: 0.0030 - val_loss: 3.1671e-04\n",
            "Epoch 83/100\n",
            "12/12 [==============================] - 4s 347ms/step - loss: 0.0033 - val_loss: 2.0163e-04\n",
            "Epoch 84/100\n",
            "12/12 [==============================] - 5s 431ms/step - loss: 0.0026 - val_loss: 1.8265e-04\n",
            "Epoch 85/100\n",
            "12/12 [==============================] - 5s 437ms/step - loss: 0.0026 - val_loss: 2.1722e-04\n",
            "Epoch 86/100\n",
            "12/12 [==============================] - 5s 385ms/step - loss: 0.0030 - val_loss: 1.8894e-04\n",
            "Epoch 87/100\n",
            "12/12 [==============================] - 6s 533ms/step - loss: 0.0029 - val_loss: 2.0795e-04\n",
            "Epoch 88/100\n",
            "12/12 [==============================] - 3s 239ms/step - loss: 0.0025 - val_loss: 1.8657e-04\n",
            "Epoch 89/100\n",
            "12/12 [==============================] - 3s 242ms/step - loss: 0.0023 - val_loss: 2.2599e-04\n",
            "Epoch 90/100\n",
            "12/12 [==============================] - 4s 315ms/step - loss: 0.0022 - val_loss: 1.7912e-04\n",
            "Epoch 91/100\n",
            "12/12 [==============================] - 2s 200ms/step - loss: 0.0022 - val_loss: 1.9917e-04\n",
            "Epoch 92/100\n",
            "12/12 [==============================] - 3s 216ms/step - loss: 0.0023 - val_loss: 2.9796e-04\n",
            "Epoch 93/100\n",
            "12/12 [==============================] - 2s 204ms/step - loss: 0.0024 - val_loss: 2.2347e-04\n",
            "Epoch 94/100\n",
            "12/12 [==============================] - 2s 208ms/step - loss: 0.0023 - val_loss: 2.4195e-04\n",
            "Epoch 95/100\n",
            "12/12 [==============================] - 4s 311ms/step - loss: 0.0020 - val_loss: 2.2019e-04\n",
            "Epoch 96/100\n",
            "12/12 [==============================] - 2s 210ms/step - loss: 0.0046 - val_loss: 2.1522e-04\n",
            "Epoch 97/100\n",
            "12/12 [==============================] - 3s 213ms/step - loss: 0.0027 - val_loss: 1.9082e-04\n",
            "Epoch 98/100\n",
            "12/12 [==============================] - 3s 219ms/step - loss: 0.0020 - val_loss: 4.4166e-04\n",
            "Epoch 99/100\n",
            "12/12 [==============================] - 5s 483ms/step - loss: 0.0019 - val_loss: 1.9480e-04\n",
            "Epoch 100/100\n",
            "12/12 [==============================] - 4s 368ms/step - loss: 0.0017 - val_loss: 1.7967e-04\n"
          ]
        },
        {
          "output_type": "execute_result",
          "data": {
            "text/plain": [
              "<keras.callbacks.History at 0x7fc96db71540>"
            ]
          },
          "metadata": {},
          "execution_count": 40
        }
      ]
    },
    {
      "cell_type": "code",
      "source": [
        "# prediction on the data and checking the performance metrics"
      ],
      "metadata": {
        "id": "7NMOtPCcnQC5"
      },
      "execution_count": null,
      "outputs": []
    },
    {
      "cell_type": "code",
      "source": [
        "train_predict = model.predict(X_train)\n",
        "test_predict = model.predict(X_test)"
      ],
      "metadata": {
        "colab": {
          "base_uri": "https://localhost:8080/"
        },
        "id": "cTAUMH6CnpIj",
        "outputId": "cfa6602c-c082-4be4-bb95-a5ad1d81572d"
      },
      "execution_count": null,
      "outputs": [
        {
          "output_type": "stream",
          "name": "stdout",
          "text": [
            "23/23 [==============================] - 2s 43ms/step\n",
            "11/11 [==============================] - 1s 44ms/step\n"
          ]
        }
      ]
    },
    {
      "cell_type": "code",
      "source": [
        "#transform back to original form\n",
        "train_predict = scaler.inverse_transform(train_predict)\n",
        "test_predict =scaler.inverse_transform(test_predict)"
      ],
      "metadata": {
        "id": "PT15dYUpn1Ti"
      },
      "execution_count": null,
      "outputs": []
    },
    {
      "cell_type": "code",
      "source": [
        "#calculate RMSE performance metrics \n",
        "import math\n",
        "from sklearn.metrics import mean_squared_error\n",
        "math.sqrt(mean_squared_error(y_train, train_predict)) "
      ],
      "metadata": {
        "colab": {
          "base_uri": "https://localhost:8080/"
        },
        "id": "vQv_wRVyoKic",
        "outputId": "a816f2bb-775e-4808-caac-9ba963e77bc5"
      },
      "execution_count": null,
      "outputs": [
        {
          "output_type": "execute_result",
          "data": {
            "text/plain": [
              "0.03976884654445741"
            ]
          },
          "metadata": {},
          "execution_count": 46
        }
      ]
    },
    {
      "cell_type": "code",
      "source": [
        "##test data RMSE\n",
        "math.sqrt(mean_squared_error(y_test, test_predict))"
      ],
      "metadata": {
        "colab": {
          "base_uri": "https://localhost:8080/"
        },
        "id": "zVo0IqO2oa5z",
        "outputId": "05f33ed1-5623-4510-fad4-e8c39c8ff814"
      },
      "execution_count": null,
      "outputs": [
        {
          "output_type": "execute_result",
          "data": {
            "text/plain": [
              "0.013404227383605935"
            ]
          },
          "metadata": {},
          "execution_count": 45
        }
      ]
    },
    {
      "cell_type": "code",
      "source": [
        "#plotting\n",
        "# shift train predictions for plotting\n",
        "look_back=100\n",
        "trainPredictPlot = np.empty_like(df1)\n",
        "trainPredictPlot[:, :] = np.nan\n",
        "trainPredictPlot[look_back:len(train_predict)+look_back, :] = train_predict\n",
        "# shift test predictions for plotting\n",
        "testPredictPlot = np.empty_like(df1)\n",
        "testPredictPlot[:, :] = np.nan\n",
        "testPredictPlot[len(train_predict)+(look_back*2)+1:len(df1)-1, :] = test_predict\n",
        "# plot baseline and predictions\n",
        "plt.plot(scaler.inverse_transform(df1))\n",
        "plt.plot(trainPredictPlot)\n",
        "plt.plot(testPredictPlot)\n",
        "plt.show()"
      ],
      "metadata": {
        "colab": {
          "base_uri": "https://localhost:8080/",
          "height": 430
        },
        "id": "Eq7GZOecoimD",
        "outputId": "950aaa78-a4fa-4b04-8b08-0aa5aa783b8f"
      },
      "execution_count": null,
      "outputs": [
        {
          "output_type": "display_data",
          "data": {
            "text/plain": [
              "<Figure size 640x480 with 1 Axes>"
            ],
            "image/png": "[encoded data removed]"
          },
          "metadata": {}
        }
      ]
    },
    {
      "cell_type": "code",
      "source": [
        "#green line is the predicted curve which is the test data"
      ],
      "metadata": {
        "id": "uRUwAqOgpuRZ"
      },
      "execution_count": null,
      "outputs": []
    },
    {
      "cell_type": "code",
      "source": [
        "#now we will be predicting the future 30 days stock closing value\n",
        "len(test_data)     \n",
        "# so for calculating any of the future value I have to take the value of previous\n",
        "# 100 days value of the timestep"
      ],
      "metadata": {
        "colab": {
          "base_uri": "https://localhost:8080/"
        },
        "id": "7uk5utDQqfQk",
        "outputId": "3b8c7905-22c4-48a3-c0f6-091b0217d057"
      },
      "execution_count": null,
      "outputs": [
        {
          "output_type": "execute_result",
          "data": {
            "text/plain": [
              "441"
            ]
          },
          "metadata": {},
          "execution_count": 50
        }
      ]
    },
    {
      "cell_type": "code",
      "source": [
        "#so I am taking it 100 days back of 441 -100 =341 and calculating from there\n",
        "x_input = test_data[341:].reshape(1,-1)\n",
        "x_input.shape"
      ],
      "metadata": {
        "colab": {
          "base_uri": "https://localhost:8080/"
        },
        "id": "FwKlmBEWqqP8",
        "outputId": "cf738a1d-cecc-4240-f4a6-eaabca73b599"
      },
      "execution_count": null,
      "outputs": [
        {
          "output_type": "execute_result",
          "data": {
            "text/plain": [
              "(1, 100)"
            ]
          },
          "metadata": {},
          "execution_count": 51
        }
      ]
    },
    {
      "cell_type": "code",
      "source": [
        "temp_input = list(x_input)\n",
        "temp_input= temp_input[0].tolist()\n",
        "#this will 100 days value"
      ],
      "metadata": {
        "id": "lccyVbUzqxvW"
      },
      "execution_count": null,
      "outputs": []
    },
    {
      "cell_type": "code",
      "source": [
        "# demonstrate prediction for next 10 days\n",
        "from numpy import array\n",
        "\n",
        "lst_output=[]\n",
        "n_steps =100\n",
        "i=0\n",
        "# will calculate for the next 30 days\n",
        "while(i<30):\n",
        "    if(len(temp_input)>100):\n",
        "    #print(temp_input)\n",
        "        x_input=np.array(temp_input[1:])\n",
        "        print(\"{} day input {}\".format(i,x_input))\n",
        "        x_input=x_input.reshape(1,-1)\n",
        "        x_input = x_input.reshape((1, n_steps, 1))\n",
        "        #print(x_input)\n",
        "        yhat = model.predict(x_input, verbose=0)\n",
        "        print(\"{} day output {}\".format(i,yhat))\n",
        "        temp_input.extend(yhat[0].tolist())\n",
        "        temp_input=temp_input[1:]\n",
        "        #print(temp_input)\n",
        "        lst_output.extend(yhat.tolist())\n",
        "        i=i+1\n",
        "    else:\n",
        "        x_input = x_input.reshape((1, n_steps,1))\n",
        "        yhat = model.predict(x_input, verbose=0)\n",
        "        print(yhat[0])\n",
        "        temp_input.extend(yhat[0].tolist())\n",
        "        print(len(temp_input))\n",
        "        lst_output.extend(yhat.tolist())\n",
        "        i=i+1\n",
        "    \n"
      ],
      "metadata": {
        "colab": {
          "base_uri": "https://localhost:8080/"
        },
        "id": "m0OvalMmrfsr",
        "outputId": "66e3460a-765e-4a49-f9be-eb3c729a8f81"
      },
      "execution_count": null,
      "outputs": [
        {
          "output_type": "stream",
          "name": "stdout",
          "text": [
            "[0.17361176]\n",
            "101\n",
            "1 day input [0.05983719 0.06675016 0.06654978 0.06993112 0.07288666 0.07105823\n",
            " 0.07120852 0.07772073 0.08583594 0.08939261 0.08771446 0.09297433\n",
            " 0.09790858 0.09056982 0.09380088 0.09665623 0.11015654 0.11937383\n",
            " 0.11243582 0.11974953 0.11291171 0.11028178 0.11063244 0.11774577\n",
            " 0.11611772 0.12145272 0.11739512 0.11448967 0.10429555 0.10537257\n",
            " 0.10659987 0.09986224 0.10289292 0.10161553 0.09635567 0.09785848\n",
            " 0.11068253 0.11769568 0.11211021 0.11529117 0.10958046 0.10434565\n",
            " 0.1092799  0.11458986 0.11559173 0.12275517 0.12062617 0.12663745\n",
            " 0.13134627 0.12771446 0.13046963 0.13377583 0.12884158 0.12726362\n",
            " 0.13507827 0.13906074 0.14542267 0.14860363 0.1472511  0.14256731\n",
            " 0.14482154 0.13823419 0.13515341 0.13340013 0.14707577 0.14619912\n",
            " 0.14624922 0.14935504 0.15226049 0.14980589 0.14572323 0.14649969\n",
            " 0.14259236 0.14256731 0.15421415 0.15739512 0.15716969 0.15453976\n",
            " 0.15180964 0.14765185 0.16713838 0.16696306 0.16262993 0.16710081\n",
            " 0.16758923 0.16463369 0.16338134 0.16338134 0.16493425 0.17084534\n",
            " 0.17112085 0.16871634 0.16210394 0.16280526 0.16568566 0.17179712\n",
            " 0.1764809  0.17635567 0.183469   0.17361176]\n",
            "1 day output [[0.17554285]]\n",
            "2 day input [0.06675016 0.06654978 0.06993112 0.07288666 0.07105823 0.07120852\n",
            " 0.07772073 0.08583594 0.08939261 0.08771446 0.09297433 0.09790858\n",
            " 0.09056982 0.09380088 0.09665623 0.11015654 0.11937383 0.11243582\n",
            " 0.11974953 0.11291171 0.11028178 0.11063244 0.11774577 0.11611772\n",
            " 0.12145272 0.11739512 0.11448967 0.10429555 0.10537257 0.10659987\n",
            " 0.09986224 0.10289292 0.10161553 0.09635567 0.09785848 0.11068253\n",
            " 0.11769568 0.11211021 0.11529117 0.10958046 0.10434565 0.1092799\n",
            " 0.11458986 0.11559173 0.12275517 0.12062617 0.12663745 0.13134627\n",
            " 0.12771446 0.13046963 0.13377583 0.12884158 0.12726362 0.13507827\n",
            " 0.13906074 0.14542267 0.14860363 0.1472511  0.14256731 0.14482154\n",
            " 0.13823419 0.13515341 0.13340013 0.14707577 0.14619912 0.14624922\n",
            " 0.14935504 0.15226049 0.14980589 0.14572323 0.14649969 0.14259236\n",
            " 0.14256731 0.15421415 0.15739512 0.15716969 0.15453976 0.15180964\n",
            " 0.14765185 0.16713838 0.16696306 0.16262993 0.16710081 0.16758923\n",
            " 0.16463369 0.16338134 0.16338134 0.16493425 0.17084534 0.17112085\n",
            " 0.16871634 0.16210394 0.16280526 0.16568566 0.17179712 0.1764809\n",
            " 0.17635567 0.183469   0.17361176 0.17554285]\n",
            "2 day output [[0.17690577]]\n",
            "3 day input [0.06654978 0.06993112 0.07288666 0.07105823 0.07120852 0.07772073\n",
            " 0.08583594 0.08939261 0.08771446 0.09297433 0.09790858 0.09056982\n",
            " 0.09380088 0.09665623 0.11015654 0.11937383 0.11243582 0.11974953\n",
            " 0.11291171 0.11028178 0.11063244 0.11774577 0.11611772 0.12145272\n",
            " 0.11739512 0.11448967 0.10429555 0.10537257 0.10659987 0.09986224\n",
            " 0.10289292 0.10161553 0.09635567 0.09785848 0.11068253 0.11769568\n",
            " 0.11211021 0.11529117 0.10958046 0.10434565 0.1092799  0.11458986\n",
            " 0.11559173 0.12275517 0.12062617 0.12663745 0.13134627 0.12771446\n",
            " 0.13046963 0.13377583 0.12884158 0.12726362 0.13507827 0.13906074\n",
            " 0.14542267 0.14860363 0.1472511  0.14256731 0.14482154 0.13823419\n",
            " 0.13515341 0.13340013 0.14707577 0.14619912 0.14624922 0.14935504\n",
            " 0.15226049 0.14980589 0.14572323 0.14649969 0.14259236 0.14256731\n",
            " 0.15421415 0.15739512 0.15716969 0.15453976 0.15180964 0.14765185\n",
            " 0.16713838 0.16696306 0.16262993 0.16710081 0.16758923 0.16463369\n",
            " 0.16338134 0.16338134 0.16493425 0.17084534 0.17112085 0.16871634\n",
            " 0.16210394 0.16280526 0.16568566 0.17179712 0.1764809  0.17635567\n",
            " 0.183469   0.17361176 0.17554285 0.17690577]\n",
            "3 day output [[0.1778586]]\n",
            "4 day input [0.06993112 0.07288666 0.07105823 0.07120852 0.07772073 0.08583594\n",
            " 0.08939261 0.08771446 0.09297433 0.09790858 0.09056982 0.09380088\n",
            " 0.09665623 0.11015654 0.11937383 0.11243582 0.11974953 0.11291171\n",
            " 0.11028178 0.11063244 0.11774577 0.11611772 0.12145272 0.11739512\n",
            " 0.11448967 0.10429555 0.10537257 0.10659987 0.09986224 0.10289292\n",
            " 0.10161553 0.09635567 0.09785848 0.11068253 0.11769568 0.11211021\n",
            " 0.11529117 0.10958046 0.10434565 0.1092799  0.11458986 0.11559173\n",
            " 0.12275517 0.12062617 0.12663745 0.13134627 0.12771446 0.13046963\n",
            " 0.13377583 0.12884158 0.12726362 0.13507827 0.13906074 0.14542267\n",
            " 0.14860363 0.1472511  0.14256731 0.14482154 0.13823419 0.13515341\n",
            " 0.13340013 0.14707577 0.14619912 0.14624922 0.14935504 0.15226049\n",
            " 0.14980589 0.14572323 0.14649969 0.14259236 0.14256731 0.15421415\n",
            " 0.15739512 0.15716969 0.15453976 0.15180964 0.14765185 0.16713838\n",
            " 0.16696306 0.16262993 0.16710081 0.16758923 0.16463369 0.16338134\n",
            " 0.16338134 0.16493425 0.17084534 0.17112085 0.16871634 0.16210394\n",
            " 0.16280526 0.16568566 0.17179712 0.1764809  0.17635567 0.183469\n",
            " 0.17361176 0.17554285 0.17690577 0.17785861]\n",
            "4 day output [[0.17857647]]\n",
            "5 day input [0.07288666 0.07105823 0.07120852 0.07772073 0.08583594 0.08939261\n",
            " 0.08771446 0.09297433 0.09790858 0.09056982 0.09380088 0.09665623\n",
            " 0.11015654 0.11937383 0.11243582 0.11974953 0.11291171 0.11028178\n",
            " 0.11063244 0.11774577 0.11611772 0.12145272 0.11739512 0.11448967\n",
            " 0.10429555 0.10537257 0.10659987 0.09986224 0.10289292 0.10161553\n",
            " 0.09635567 0.09785848 0.11068253 0.11769568 0.11211021 0.11529117\n",
            " 0.10958046 0.10434565 0.1092799  0.11458986 0.11559173 0.12275517\n",
            " 0.12062617 0.12663745 0.13134627 0.12771446 0.13046963 0.13377583\n",
            " 0.12884158 0.12726362 0.13507827 0.13906074 0.14542267 0.14860363\n",
            " 0.1472511  0.14256731 0.14482154 0.13823419 0.13515341 0.13340013\n",
            " 0.14707577 0.14619912 0.14624922 0.14935504 0.15226049 0.14980589\n",
            " 0.14572323 0.14649969 0.14259236 0.14256731 0.15421415 0.15739512\n",
            " 0.15716969 0.15453976 0.15180964 0.14765185 0.16713838 0.16696306\n",
            " 0.16262993 0.16710081 0.16758923 0.16463369 0.16338134 0.16338134\n",
            " 0.16493425 0.17084534 0.17112085 0.16871634 0.16210394 0.16280526\n",
            " 0.16568566 0.17179712 0.1764809  0.17635567 0.183469   0.17361176\n",
            " 0.17554285 0.17690577 0.17785861 0.17857647]\n",
            "5 day output [[0.17917983]]\n",
            "6 day input [0.07105823 0.07120852 0.07772073 0.08583594 0.08939261 0.08771446\n",
            " 0.09297433 0.09790858 0.09056982 0.09380088 0.09665623 0.11015654\n",
            " 0.11937383 0.11243582 0.11974953 0.11291171 0.11028178 0.11063244\n",
            " 0.11774577 0.11611772 0.12145272 0.11739512 0.11448967 0.10429555\n",
            " 0.10537257 0.10659987 0.09986224 0.10289292 0.10161553 0.09635567\n",
            " 0.09785848 0.11068253 0.11769568 0.11211021 0.11529117 0.10958046\n",
            " 0.10434565 0.1092799  0.11458986 0.11559173 0.12275517 0.12062617\n",
            " 0.12663745 0.13134627 0.12771446 0.13046963 0.13377583 0.12884158\n",
            " 0.12726362 0.13507827 0.13906074 0.14542267 0.14860363 0.1472511\n",
            " 0.14256731 0.14482154 0.13823419 0.13515341 0.13340013 0.14707577\n",
            " 0.14619912 0.14624922 0.14935504 0.15226049 0.14980589 0.14572323\n",
            " 0.14649969 0.14259236 0.14256731 0.15421415 0.15739512 0.15716969\n",
            " 0.15453976 0.15180964 0.14765185 0.16713838 0.16696306 0.16262993\n",
            " 0.16710081 0.16758923 0.16463369 0.16338134 0.16338134 0.16493425\n",
            " 0.17084534 0.17112085 0.16871634 0.16210394 0.16280526 0.16568566\n",
            " 0.17179712 0.1764809  0.17635567 0.183469   0.17361176 0.17554285\n",
            " 0.17690577 0.17785861 0.17857647 0.17917983]\n",
            "6 day output [[0.17973602]]\n",
            "7 day input [0.07120852 0.07772073 0.08583594 0.08939261 0.08771446 0.09297433\n",
            " 0.09790858 0.09056982 0.09380088 0.09665623 0.11015654 0.11937383\n",
            " 0.11243582 0.11974953 0.11291171 0.11028178 0.11063244 0.11774577\n",
            " 0.11611772 0.12145272 0.11739512 0.11448967 0.10429555 0.10537257\n",
            " 0.10659987 0.09986224 0.10289292 0.10161553 0.09635567 0.09785848\n",
            " 0.11068253 0.11769568 0.11211021 0.11529117 0.10958046 0.10434565\n",
            " 0.1092799  0.11458986 0.11559173 0.12275517 0.12062617 0.12663745\n",
            " 0.13134627 0.12771446 0.13046963 0.13377583 0.12884158 0.12726362\n",
            " 0.13507827 0.13906074 0.14542267 0.14860363 0.1472511  0.14256731\n",
            " 0.14482154 0.13823419 0.13515341 0.13340013 0.14707577 0.14619912\n",
            " 0.14624922 0.14935504 0.15226049 0.14980589 0.14572323 0.14649969\n",
            " 0.14259236 0.14256731 0.15421415 0.15739512 0.15716969 0.15453976\n",
            " 0.15180964 0.14765185 0.16713838 0.16696306 0.16262993 0.16710081\n",
            " 0.16758923 0.16463369 0.16338134 0.16338134 0.16493425 0.17084534\n",
            " 0.17112085 0.16871634 0.16210394 0.16280526 0.16568566 0.17179712\n",
            " 0.1764809  0.17635567 0.183469   0.17361176 0.17554285 0.17690577\n",
            " 0.17785861 0.17857647 0.17917983 0.17973602]\n",
            "7 day output [[0.18027739]]\n",
            "8 day input [0.07772073 0.08583594 0.08939261 0.08771446 0.09297433 0.09790858\n",
            " 0.09056982 0.09380088 0.09665623 0.11015654 0.11937383 0.11243582\n",
            " 0.11974953 0.11291171 0.11028178 0.11063244 0.11774577 0.11611772\n",
            " 0.12145272 0.11739512 0.11448967 0.10429555 0.10537257 0.10659987\n",
            " 0.09986224 0.10289292 0.10161553 0.09635567 0.09785848 0.11068253\n",
            " 0.11769568 0.11211021 0.11529117 0.10958046 0.10434565 0.1092799\n",
            " 0.11458986 0.11559173 0.12275517 0.12062617 0.12663745 0.13134627\n",
            " 0.12771446 0.13046963 0.13377583 0.12884158 0.12726362 0.13507827\n",
            " 0.13906074 0.14542267 0.14860363 0.1472511  0.14256731 0.14482154\n",
            " 0.13823419 0.13515341 0.13340013 0.14707577 0.14619912 0.14624922\n",
            " 0.14935504 0.15226049 0.14980589 0.14572323 0.14649969 0.14259236\n",
            " 0.14256731 0.15421415 0.15739512 0.15716969 0.15453976 0.15180964\n",
            " 0.14765185 0.16713838 0.16696306 0.16262993 0.16710081 0.16758923\n",
            " 0.16463369 0.16338134 0.16338134 0.16493425 0.17084534 0.17112085\n",
            " 0.16871634 0.16210394 0.16280526 0.16568566 0.17179712 0.1764809\n",
            " 0.17635567 0.183469   0.17361176 0.17554285 0.17690577 0.17785861\n",
            " 0.17857647 0.17917983 0.17973602 0.18027739]\n",
            "8 day output [[0.18081765]]\n",
            "9 day input [0.08583594 0.08939261 0.08771446 0.09297433 0.09790858 0.09056982\n",
            " 0.09380088 0.09665623 0.11015654 0.11937383 0.11243582 0.11974953\n",
            " 0.11291171 0.11028178 0.11063244 0.11774577 0.11611772 0.12145272\n",
            " 0.11739512 0.11448967 0.10429555 0.10537257 0.10659987 0.09986224\n",
            " 0.10289292 0.10161553 0.09635567 0.09785848 0.11068253 0.11769568\n",
            " 0.11211021 0.11529117 0.10958046 0.10434565 0.1092799  0.11458986\n",
            " 0.11559173 0.12275517 0.12062617 0.12663745 0.13134627 0.12771446\n",
            " 0.13046963 0.13377583 0.12884158 0.12726362 0.13507827 0.13906074\n",
            " 0.14542267 0.14860363 0.1472511  0.14256731 0.14482154 0.13823419\n",
            " 0.13515341 0.13340013 0.14707577 0.14619912 0.14624922 0.14935504\n",
            " 0.15226049 0.14980589 0.14572323 0.14649969 0.14259236 0.14256731\n",
            " 0.15421415 0.15739512 0.15716969 0.15453976 0.15180964 0.14765185\n",
            " 0.16713838 0.16696306 0.16262993 0.16710081 0.16758923 0.16463369\n",
            " 0.16338134 0.16338134 0.16493425 0.17084534 0.17112085 0.16871634\n",
            " 0.16210394 0.16280526 0.16568566 0.17179712 0.1764809  0.17635567\n",
            " 0.183469   0.17361176 0.17554285 0.17690577 0.17785861 0.17857647\n",
            " 0.17917983 0.17973602 0.18027739 0.18081765]\n",
            "9 day output [[0.18136166]]\n",
            "10 day input [0.08939261 0.08771446 0.09297433 0.09790858 0.09056982 0.09380088\n",
            " 0.09665623 0.11015654 0.11937383 0.11243582 0.11974953 0.11291171\n",
            " 0.11028178 0.11063244 0.11774577 0.11611772 0.12145272 0.11739512\n",
            " 0.11448967 0.10429555 0.10537257 0.10659987 0.09986224 0.10289292\n",
            " 0.10161553 0.09635567 0.09785848 0.11068253 0.11769568 0.11211021\n",
            " 0.11529117 0.10958046 0.10434565 0.1092799  0.11458986 0.11559173\n",
            " 0.12275517 0.12062617 0.12663745 0.13134627 0.12771446 0.13046963\n",
            " 0.13377583 0.12884158 0.12726362 0.13507827 0.13906074 0.14542267\n",
            " 0.14860363 0.1472511  0.14256731 0.14482154 0.13823419 0.13515341\n",
            " 0.13340013 0.14707577 0.14619912 0.14624922 0.14935504 0.15226049\n",
            " 0.14980589 0.14572323 0.14649969 0.14259236 0.14256731 0.15421415\n",
            " 0.15739512 0.15716969 0.15453976 0.15180964 0.14765185 0.16713838\n",
            " 0.16696306 0.16262993 0.16710081 0.16758923 0.16463369 0.16338134\n",
            " 0.16338134 0.16493425 0.17084534 0.17112085 0.16871634 0.16210394\n",
            " 0.16280526 0.16568566 0.17179712 0.1764809  0.17635567 0.183469\n",
            " 0.17361176 0.17554285 0.17690577 0.17785861 0.17857647 0.17917983\n",
            " 0.17973602 0.18027739 0.18081765 0.18136166]\n",
            "10 day output [[0.18191111]]\n",
            "11 day input [0.08771446 0.09297433 0.09790858 0.09056982 0.09380088 0.09665623\n",
            " 0.11015654 0.11937383 0.11243582 0.11974953 0.11291171 0.11028178\n",
            " 0.11063244 0.11774577 0.11611772 0.12145272 0.11739512 0.11448967\n",
            " 0.10429555 0.10537257 0.10659987 0.09986224 0.10289292 0.10161553\n",
            " 0.09635567 0.09785848 0.11068253 0.11769568 0.11211021 0.11529117\n",
            " 0.10958046 0.10434565 0.1092799  0.11458986 0.11559173 0.12275517\n",
            " 0.12062617 0.12663745 0.13134627 0.12771446 0.13046963 0.13377583\n",
            " 0.12884158 0.12726362 0.13507827 0.13906074 0.14542267 0.14860363\n",
            " 0.1472511  0.14256731 0.14482154 0.13823419 0.13515341 0.13340013\n",
            " 0.14707577 0.14619912 0.14624922 0.14935504 0.15226049 0.14980589\n",
            " 0.14572323 0.14649969 0.14259236 0.14256731 0.15421415 0.15739512\n",
            " 0.15716969 0.15453976 0.15180964 0.14765185 0.16713838 0.16696306\n",
            " 0.16262993 0.16710081 0.16758923 0.16463369 0.16338134 0.16338134\n",
            " 0.16493425 0.17084534 0.17112085 0.16871634 0.16210394 0.16280526\n",
            " 0.16568566 0.17179712 0.1764809  0.17635567 0.183469   0.17361176\n",
            " 0.17554285 0.17690577 0.17785861 0.17857647 0.17917983 0.17973602\n",
            " 0.18027739 0.18081765 0.18136166 0.18191111]\n",
            "11 day output [[0.18246639]]\n",
            "12 day input [0.09297433 0.09790858 0.09056982 0.09380088 0.09665623 0.11015654\n",
            " 0.11937383 0.11243582 0.11974953 0.11291171 0.11028178 0.11063244\n",
            " 0.11774577 0.11611772 0.12145272 0.11739512 0.11448967 0.10429555\n",
            " 0.10537257 0.10659987 0.09986224 0.10289292 0.10161553 0.09635567\n",
            " 0.09785848 0.11068253 0.11769568 0.11211021 0.11529117 0.10958046\n",
            " 0.10434565 0.1092799  0.11458986 0.11559173 0.12275517 0.12062617\n",
            " 0.12663745 0.13134627 0.12771446 0.13046963 0.13377583 0.12884158\n",
            " 0.12726362 0.13507827 0.13906074 0.14542267 0.14860363 0.1472511\n",
            " 0.14256731 0.14482154 0.13823419 0.13515341 0.13340013 0.14707577\n",
            " 0.14619912 0.14624922 0.14935504 0.15226049 0.14980589 0.14572323\n",
            " 0.14649969 0.14259236 0.14256731 0.15421415 0.15739512 0.15716969\n",
            " 0.15453976 0.15180964 0.14765185 0.16713838 0.16696306 0.16262993\n",
            " 0.16710081 0.16758923 0.16463369 0.16338134 0.16338134 0.16493425\n",
            " 0.17084534 0.17112085 0.16871634 0.16210394 0.16280526 0.16568566\n",
            " 0.17179712 0.1764809  0.17635567 0.183469   0.17361176 0.17554285\n",
            " 0.17690577 0.17785861 0.17857647 0.17917983 0.17973602 0.18027739\n",
            " 0.18081765 0.18136166 0.18191111 0.18246639]\n",
            "12 day output [[0.18302758]]\n",
            "13 day input [0.09790858 0.09056982 0.09380088 0.09665623 0.11015654 0.11937383\n",
            " 0.11243582 0.11974953 0.11291171 0.11028178 0.11063244 0.11774577\n",
            " 0.11611772 0.12145272 0.11739512 0.11448967 0.10429555 0.10537257\n",
            " 0.10659987 0.09986224 0.10289292 0.10161553 0.09635567 0.09785848\n",
            " 0.11068253 0.11769568 0.11211021 0.11529117 0.10958046 0.10434565\n",
            " 0.1092799  0.11458986 0.11559173 0.12275517 0.12062617 0.12663745\n",
            " 0.13134627 0.12771446 0.13046963 0.13377583 0.12884158 0.12726362\n",
            " 0.13507827 0.13906074 0.14542267 0.14860363 0.1472511  0.14256731\n",
            " 0.14482154 0.13823419 0.13515341 0.13340013 0.14707577 0.14619912\n",
            " 0.14624922 0.14935504 0.15226049 0.14980589 0.14572323 0.14649969\n",
            " 0.14259236 0.14256731 0.15421415 0.15739512 0.15716969 0.15453976\n",
            " 0.15180964 0.14765185 0.16713838 0.16696306 0.16262993 0.16710081\n",
            " 0.16758923 0.16463369 0.16338134 0.16338134 0.16493425 0.17084534\n",
            " 0.17112085 0.16871634 0.16210394 0.16280526 0.16568566 0.17179712\n",
            " 0.1764809  0.17635567 0.183469   0.17361176 0.17554285 0.17690577\n",
            " 0.17785861 0.17857647 0.17917983 0.17973602 0.18027739 0.18081765\n",
            " 0.18136166 0.18191111 0.18246639 0.18302758]\n",
            "13 day output [[0.18359464]]\n",
            "14 day input [0.09056982 0.09380088 0.09665623 0.11015654 0.11937383 0.11243582\n",
            " 0.11974953 0.11291171 0.11028178 0.11063244 0.11774577 0.11611772\n",
            " 0.12145272 0.11739512 0.11448967 0.10429555 0.10537257 0.10659987\n",
            " 0.09986224 0.10289292 0.10161553 0.09635567 0.09785848 0.11068253\n",
            " 0.11769568 0.11211021 0.11529117 0.10958046 0.10434565 0.1092799\n",
            " 0.11458986 0.11559173 0.12275517 0.12062617 0.12663745 0.13134627\n",
            " 0.12771446 0.13046963 0.13377583 0.12884158 0.12726362 0.13507827\n",
            " 0.13906074 0.14542267 0.14860363 0.1472511  0.14256731 0.14482154\n",
            " 0.13823419 0.13515341 0.13340013 0.14707577 0.14619912 0.14624922\n",
            " 0.14935504 0.15226049 0.14980589 0.14572323 0.14649969 0.14259236\n",
            " 0.14256731 0.15421415 0.15739512 0.15716969 0.15453976 0.15180964\n",
            " 0.14765185 0.16713838 0.16696306 0.16262993 0.16710081 0.16758923\n",
            " 0.16463369 0.16338134 0.16338134 0.16493425 0.17084534 0.17112085\n",
            " 0.16871634 0.16210394 0.16280526 0.16568566 0.17179712 0.1764809\n",
            " 0.17635567 0.183469   0.17361176 0.17554285 0.17690577 0.17785861\n",
            " 0.17857647 0.17917983 0.17973602 0.18027739 0.18081765 0.18136166\n",
            " 0.18191111 0.18246639 0.18302758 0.18359464]\n",
            "14 day output [[0.1841674]]\n",
            "15 day input [0.09380088 0.09665623 0.11015654 0.11937383 0.11243582 0.11974953\n",
            " 0.11291171 0.11028178 0.11063244 0.11774577 0.11611772 0.12145272\n",
            " 0.11739512 0.11448967 0.10429555 0.10537257 0.10659987 0.09986224\n",
            " 0.10289292 0.10161553 0.09635567 0.09785848 0.11068253 0.11769568\n",
            " 0.11211021 0.11529117 0.10958046 0.10434565 0.1092799  0.11458986\n",
            " 0.11559173 0.12275517 0.12062617 0.12663745 0.13134627 0.12771446\n",
            " 0.13046963 0.13377583 0.12884158 0.12726362 0.13507827 0.13906074\n",
            " 0.14542267 0.14860363 0.1472511  0.14256731 0.14482154 0.13823419\n",
            " 0.13515341 0.13340013 0.14707577 0.14619912 0.14624922 0.14935504\n",
            " 0.15226049 0.14980589 0.14572323 0.14649969 0.14259236 0.14256731\n",
            " 0.15421415 0.15739512 0.15716969 0.15453976 0.15180964 0.14765185\n",
            " 0.16713838 0.16696306 0.16262993 0.16710081 0.16758923 0.16463369\n",
            " 0.16338134 0.16338134 0.16493425 0.17084534 0.17112085 0.16871634\n",
            " 0.16210394 0.16280526 0.16568566 0.17179712 0.1764809  0.17635567\n",
            " 0.183469   0.17361176 0.17554285 0.17690577 0.17785861 0.17857647\n",
            " 0.17917983 0.17973602 0.18027739 0.18081765 0.18136166 0.18191111\n",
            " 0.18246639 0.18302758 0.18359464 0.1841674 ]\n",
            "15 day output [[0.18474557]]\n",
            "16 day input [0.09665623 0.11015654 0.11937383 0.11243582 0.11974953 0.11291171\n",
            " 0.11028178 0.11063244 0.11774577 0.11611772 0.12145272 0.11739512\n",
            " 0.11448967 0.10429555 0.10537257 0.10659987 0.09986224 0.10289292\n",
            " 0.10161553 0.09635567 0.09785848 0.11068253 0.11769568 0.11211021\n",
            " 0.11529117 0.10958046 0.10434565 0.1092799  0.11458986 0.11559173\n",
            " 0.12275517 0.12062617 0.12663745 0.13134627 0.12771446 0.13046963\n",
            " 0.13377583 0.12884158 0.12726362 0.13507827 0.13906074 0.14542267\n",
            " 0.14860363 0.1472511  0.14256731 0.14482154 0.13823419 0.13515341\n",
            " 0.13340013 0.14707577 0.14619912 0.14624922 0.14935504 0.15226049\n",
            " 0.14980589 0.14572323 0.14649969 0.14259236 0.14256731 0.15421415\n",
            " 0.15739512 0.15716969 0.15453976 0.15180964 0.14765185 0.16713838\n",
            " 0.16696306 0.16262993 0.16710081 0.16758923 0.16463369 0.16338134\n",
            " 0.16338134 0.16493425 0.17084534 0.17112085 0.16871634 0.16210394\n",
            " 0.16280526 0.16568566 0.17179712 0.1764809  0.17635567 0.183469\n",
            " 0.17361176 0.17554285 0.17690577 0.17785861 0.17857647 0.17917983\n",
            " 0.17973602 0.18027739 0.18081765 0.18136166 0.18191111 0.18246639\n",
            " 0.18302758 0.18359464 0.1841674  0.18474557]\n",
            "16 day output [[0.18532883]]\n",
            "17 day input [0.11015654 0.11937383 0.11243582 0.11974953 0.11291171 0.11028178\n",
            " 0.11063244 0.11774577 0.11611772 0.12145272 0.11739512 0.11448967\n",
            " 0.10429555 0.10537257 0.10659987 0.09986224 0.10289292 0.10161553\n",
            " 0.09635567 0.09785848 0.11068253 0.11769568 0.11211021 0.11529117\n",
            " 0.10958046 0.10434565 0.1092799  0.11458986 0.11559173 0.12275517\n",
            " 0.12062617 0.12663745 0.13134627 0.12771446 0.13046963 0.13377583\n",
            " 0.12884158 0.12726362 0.13507827 0.13906074 0.14542267 0.14860363\n",
            " 0.1472511  0.14256731 0.14482154 0.13823419 0.13515341 0.13340013\n",
            " 0.14707577 0.14619912 0.14624922 0.14935504 0.15226049 0.14980589\n",
            " 0.14572323 0.14649969 0.14259236 0.14256731 0.15421415 0.15739512\n",
            " 0.15716969 0.15453976 0.15180964 0.14765185 0.16713838 0.16696306\n",
            " 0.16262993 0.16710081 0.16758923 0.16463369 0.16338134 0.16338134\n",
            " 0.16493425 0.17084534 0.17112085 0.16871634 0.16210394 0.16280526\n",
            " 0.16568566 0.17179712 0.1764809  0.17635567 0.183469   0.17361176\n",
            " 0.17554285 0.17690577 0.17785861 0.17857647 0.17917983 0.17973602\n",
            " 0.18027739 0.18081765 0.18136166 0.18191111 0.18246639 0.18302758\n",
            " 0.18359464 0.1841674  0.18474557 0.18532883]\n",
            "17 day output [[0.18591686]]\n",
            "18 day input [0.11937383 0.11243582 0.11974953 0.11291171 0.11028178 0.11063244\n",
            " 0.11774577 0.11611772 0.12145272 0.11739512 0.11448967 0.10429555\n",
            " 0.10537257 0.10659987 0.09986224 0.10289292 0.10161553 0.09635567\n",
            " 0.09785848 0.11068253 0.11769568 0.11211021 0.11529117 0.10958046\n",
            " 0.10434565 0.1092799  0.11458986 0.11559173 0.12275517 0.12062617\n",
            " 0.12663745 0.13134627 0.12771446 0.13046963 0.13377583 0.12884158\n",
            " 0.12726362 0.13507827 0.13906074 0.14542267 0.14860363 0.1472511\n",
            " 0.14256731 0.14482154 0.13823419 0.13515341 0.13340013 0.14707577\n",
            " 0.14619912 0.14624922 0.14935504 0.15226049 0.14980589 0.14572323\n",
            " 0.14649969 0.14259236 0.14256731 0.15421415 0.15739512 0.15716969\n",
            " 0.15453976 0.15180964 0.14765185 0.16713838 0.16696306 0.16262993\n",
            " 0.16710081 0.16758923 0.16463369 0.16338134 0.16338134 0.16493425\n",
            " 0.17084534 0.17112085 0.16871634 0.16210394 0.16280526 0.16568566\n",
            " 0.17179712 0.1764809  0.17635567 0.183469   0.17361176 0.17554285\n",
            " 0.17690577 0.17785861 0.17857647 0.17917983 0.17973602 0.18027739\n",
            " 0.18081765 0.18136166 0.18191111 0.18246639 0.18302758 0.18359464\n",
            " 0.1841674  0.18474557 0.18532883 0.18591686]\n",
            "18 day output [[0.18650918]]\n",
            "19 day input [0.11243582 0.11974953 0.11291171 0.11028178 0.11063244 0.11774577\n",
            " 0.11611772 0.12145272 0.11739512 0.11448967 0.10429555 0.10537257\n",
            " 0.10659987 0.09986224 0.10289292 0.10161553 0.09635567 0.09785848\n",
            " 0.11068253 0.11769568 0.11211021 0.11529117 0.10958046 0.10434565\n",
            " 0.1092799  0.11458986 0.11559173 0.12275517 0.12062617 0.12663745\n",
            " 0.13134627 0.12771446 0.13046963 0.13377583 0.12884158 0.12726362\n",
            " 0.13507827 0.13906074 0.14542267 0.14860363 0.1472511  0.14256731\n",
            " 0.14482154 0.13823419 0.13515341 0.13340013 0.14707577 0.14619912\n",
            " 0.14624922 0.14935504 0.15226049 0.14980589 0.14572323 0.14649969\n",
            " 0.14259236 0.14256731 0.15421415 0.15739512 0.15716969 0.15453976\n",
            " 0.15180964 0.14765185 0.16713838 0.16696306 0.16262993 0.16710081\n",
            " 0.16758923 0.16463369 0.16338134 0.16338134 0.16493425 0.17084534\n",
            " 0.17112085 0.16871634 0.16210394 0.16280526 0.16568566 0.17179712\n",
            " 0.1764809  0.17635567 0.183469   0.17361176 0.17554285 0.17690577\n",
            " 0.17785861 0.17857647 0.17917983 0.17973602 0.18027739 0.18081765\n",
            " 0.18136166 0.18191111 0.18246639 0.18302758 0.18359464 0.1841674\n",
            " 0.18474557 0.18532883 0.18591686 0.18650918]\n",
            "19 day output [[0.18710546]]\n",
            "20 day input [0.11974953 0.11291171 0.11028178 0.11063244 0.11774577 0.11611772\n",
            " 0.12145272 0.11739512 0.11448967 0.10429555 0.10537257 0.10659987\n",
            " 0.09986224 0.10289292 0.10161553 0.09635567 0.09785848 0.11068253\n",
            " 0.11769568 0.11211021 0.11529117 0.10958046 0.10434565 0.1092799\n",
            " 0.11458986 0.11559173 0.12275517 0.12062617 0.12663745 0.13134627\n",
            " 0.12771446 0.13046963 0.13377583 0.12884158 0.12726362 0.13507827\n",
            " 0.13906074 0.14542267 0.14860363 0.1472511  0.14256731 0.14482154\n",
            " 0.13823419 0.13515341 0.13340013 0.14707577 0.14619912 0.14624922\n",
            " 0.14935504 0.15226049 0.14980589 0.14572323 0.14649969 0.14259236\n",
            " 0.14256731 0.15421415 0.15739512 0.15716969 0.15453976 0.15180964\n",
            " 0.14765185 0.16713838 0.16696306 0.16262993 0.16710081 0.16758923\n",
            " 0.16463369 0.16338134 0.16338134 0.16493425 0.17084534 0.17112085\n",
            " 0.16871634 0.16210394 0.16280526 0.16568566 0.17179712 0.1764809\n",
            " 0.17635567 0.183469   0.17361176 0.17554285 0.17690577 0.17785861\n",
            " 0.17857647 0.17917983 0.17973602 0.18027739 0.18081765 0.18136166\n",
            " 0.18191111 0.18246639 0.18302758 0.18359464 0.1841674  0.18474557\n",
            " 0.18532883 0.18591686 0.18650918 0.18710546]\n",
            "20 day output [[0.18770534]]\n",
            "21 day input [0.11291171 0.11028178 0.11063244 0.11774577 0.11611772 0.12145272\n",
            " 0.11739512 0.11448967 0.10429555 0.10537257 0.10659987 0.09986224\n",
            " 0.10289292 0.10161553 0.09635567 0.09785848 0.11068253 0.11769568\n",
            " 0.11211021 0.11529117 0.10958046 0.10434565 0.1092799  0.11458986\n",
            " 0.11559173 0.12275517 0.12062617 0.12663745 0.13134627 0.12771446\n",
            " 0.13046963 0.13377583 0.12884158 0.12726362 0.13507827 0.13906074\n",
            " 0.14542267 0.14860363 0.1472511  0.14256731 0.14482154 0.13823419\n",
            " 0.13515341 0.13340013 0.14707577 0.14619912 0.14624922 0.14935504\n",
            " 0.15226049 0.14980589 0.14572323 0.14649969 0.14259236 0.14256731\n",
            " 0.15421415 0.15739512 0.15716969 0.15453976 0.15180964 0.14765185\n",
            " 0.16713838 0.16696306 0.16262993 0.16710081 0.16758923 0.16463369\n",
            " 0.16338134 0.16338134 0.16493425 0.17084534 0.17112085 0.16871634\n",
            " 0.16210394 0.16280526 0.16568566 0.17179712 0.1764809  0.17635567\n",
            " 0.183469   0.17361176 0.17554285 0.17690577 0.17785861 0.17857647\n",
            " 0.17917983 0.17973602 0.18027739 0.18081765 0.18136166 0.18191111\n",
            " 0.18246639 0.18302758 0.18359464 0.1841674  0.18474557 0.18532883\n",
            " 0.18591686 0.18650918 0.18710546 0.18770534]\n",
            "21 day output [[0.18830848]]\n",
            "22 day input [0.11028178 0.11063244 0.11774577 0.11611772 0.12145272 0.11739512\n",
            " 0.11448967 0.10429555 0.10537257 0.10659987 0.09986224 0.10289292\n",
            " 0.10161553 0.09635567 0.09785848 0.11068253 0.11769568 0.11211021\n",
            " 0.11529117 0.10958046 0.10434565 0.1092799  0.11458986 0.11559173\n",
            " 0.12275517 0.12062617 0.12663745 0.13134627 0.12771446 0.13046963\n",
            " 0.13377583 0.12884158 0.12726362 0.13507827 0.13906074 0.14542267\n",
            " 0.14860363 0.1472511  0.14256731 0.14482154 0.13823419 0.13515341\n",
            " 0.13340013 0.14707577 0.14619912 0.14624922 0.14935504 0.15226049\n",
            " 0.14980589 0.14572323 0.14649969 0.14259236 0.14256731 0.15421415\n",
            " 0.15739512 0.15716969 0.15453976 0.15180964 0.14765185 0.16713838\n",
            " 0.16696306 0.16262993 0.16710081 0.16758923 0.16463369 0.16338134\n",
            " 0.16338134 0.16493425 0.17084534 0.17112085 0.16871634 0.16210394\n",
            " 0.16280526 0.16568566 0.17179712 0.1764809  0.17635567 0.183469\n",
            " 0.17361176 0.17554285 0.17690577 0.17785861 0.17857647 0.17917983\n",
            " 0.17973602 0.18027739 0.18081765 0.18136166 0.18191111 0.18246639\n",
            " 0.18302758 0.18359464 0.1841674  0.18474557 0.18532883 0.18591686\n",
            " 0.18650918 0.18710546 0.18770534 0.18830848]\n",
            "22 day output [[0.18891473]]\n",
            "23 day input [0.11063244 0.11774577 0.11611772 0.12145272 0.11739512 0.11448967\n",
            " 0.10429555 0.10537257 0.10659987 0.09986224 0.10289292 0.10161553\n",
            " 0.09635567 0.09785848 0.11068253 0.11769568 0.11211021 0.11529117\n",
            " 0.10958046 0.10434565 0.1092799  0.11458986 0.11559173 0.12275517\n",
            " 0.12062617 0.12663745 0.13134627 0.12771446 0.13046963 0.13377583\n",
            " 0.12884158 0.12726362 0.13507827 0.13906074 0.14542267 0.14860363\n",
            " 0.1472511  0.14256731 0.14482154 0.13823419 0.13515341 0.13340013\n",
            " 0.14707577 0.14619912 0.14624922 0.14935504 0.15226049 0.14980589\n",
            " 0.14572323 0.14649969 0.14259236 0.14256731 0.15421415 0.15739512\n",
            " 0.15716969 0.15453976 0.15180964 0.14765185 0.16713838 0.16696306\n",
            " 0.16262993 0.16710081 0.16758923 0.16463369 0.16338134 0.16338134\n",
            " 0.16493425 0.17084534 0.17112085 0.16871634 0.16210394 0.16280526\n",
            " 0.16568566 0.17179712 0.1764809  0.17635567 0.183469   0.17361176\n",
            " 0.17554285 0.17690577 0.17785861 0.17857647 0.17917983 0.17973602\n",
            " 0.18027739 0.18081765 0.18136166 0.18191111 0.18246639 0.18302758\n",
            " 0.18359464 0.1841674  0.18474557 0.18532883 0.18591686 0.18650918\n",
            " 0.18710546 0.18770534 0.18830848 0.18891473]\n",
            "23 day output [[0.18952388]]\n",
            "24 day input [0.11774577 0.11611772 0.12145272 0.11739512 0.11448967 0.10429555\n",
            " 0.10537257 0.10659987 0.09986224 0.10289292 0.10161553 0.09635567\n",
            " 0.09785848 0.11068253 0.11769568 0.11211021 0.11529117 0.10958046\n",
            " 0.10434565 0.1092799  0.11458986 0.11559173 0.12275517 0.12062617\n",
            " 0.12663745 0.13134627 0.12771446 0.13046963 0.13377583 0.12884158\n",
            " 0.12726362 0.13507827 0.13906074 0.14542267 0.14860363 0.1472511\n",
            " 0.14256731 0.14482154 0.13823419 0.13515341 0.13340013 0.14707577\n",
            " 0.14619912 0.14624922 0.14935504 0.15226049 0.14980589 0.14572323\n",
            " 0.14649969 0.14259236 0.14256731 0.15421415 0.15739512 0.15716969\n",
            " 0.15453976 0.15180964 0.14765185 0.16713838 0.16696306 0.16262993\n",
            " 0.16710081 0.16758923 0.16463369 0.16338134 0.16338134 0.16493425\n",
            " 0.17084534 0.17112085 0.16871634 0.16210394 0.16280526 0.16568566\n",
            " 0.17179712 0.1764809  0.17635567 0.183469   0.17361176 0.17554285\n",
            " 0.17690577 0.17785861 0.17857647 0.17917983 0.17973602 0.18027739\n",
            " 0.18081765 0.18136166 0.18191111 0.18246639 0.18302758 0.18359464\n",
            " 0.1841674  0.18474557 0.18532883 0.18591686 0.18650918 0.18710546\n",
            " 0.18770534 0.18830848 0.18891473 0.18952388]\n",
            "24 day output [[0.19013587]]\n",
            "25 day input [0.11611772 0.12145272 0.11739512 0.11448967 0.10429555 0.10537257\n",
            " 0.10659987 0.09986224 0.10289292 0.10161553 0.09635567 0.09785848\n",
            " 0.11068253 0.11769568 0.11211021 0.11529117 0.10958046 0.10434565\n",
            " 0.1092799  0.11458986 0.11559173 0.12275517 0.12062617 0.12663745\n",
            " 0.13134627 0.12771446 0.13046963 0.13377583 0.12884158 0.12726362\n",
            " 0.13507827 0.13906074 0.14542267 0.14860363 0.1472511  0.14256731\n",
            " 0.14482154 0.13823419 0.13515341 0.13340013 0.14707577 0.14619912\n",
            " 0.14624922 0.14935504 0.15226049 0.14980589 0.14572323 0.14649969\n",
            " 0.14259236 0.14256731 0.15421415 0.15739512 0.15716969 0.15453976\n",
            " 0.15180964 0.14765185 0.16713838 0.16696306 0.16262993 0.16710081\n",
            " 0.16758923 0.16463369 0.16338134 0.16338134 0.16493425 0.17084534\n",
            " 0.17112085 0.16871634 0.16210394 0.16280526 0.16568566 0.17179712\n",
            " 0.1764809  0.17635567 0.183469   0.17361176 0.17554285 0.17690577\n",
            " 0.17785861 0.17857647 0.17917983 0.17973602 0.18027739 0.18081765\n",
            " 0.18136166 0.18191111 0.18246639 0.18302758 0.18359464 0.1841674\n",
            " 0.18474557 0.18532883 0.18591686 0.18650918 0.18710546 0.18770534\n",
            " 0.18830848 0.18891473 0.18952388 0.19013587]\n",
            "25 day output [[0.19075061]]\n",
            "26 day input [0.12145272 0.11739512 0.11448967 0.10429555 0.10537257 0.10659987\n",
            " 0.09986224 0.10289292 0.10161553 0.09635567 0.09785848 0.11068253\n",
            " 0.11769568 0.11211021 0.11529117 0.10958046 0.10434565 0.1092799\n",
            " 0.11458986 0.11559173 0.12275517 0.12062617 0.12663745 0.13134627\n",
            " 0.12771446 0.13046963 0.13377583 0.12884158 0.12726362 0.13507827\n",
            " 0.13906074 0.14542267 0.14860363 0.1472511  0.14256731 0.14482154\n",
            " 0.13823419 0.13515341 0.13340013 0.14707577 0.14619912 0.14624922\n",
            " 0.14935504 0.15226049 0.14980589 0.14572323 0.14649969 0.14259236\n",
            " 0.14256731 0.15421415 0.15739512 0.15716969 0.15453976 0.15180964\n",
            " 0.14765185 0.16713838 0.16696306 0.16262993 0.16710081 0.16758923\n",
            " 0.16463369 0.16338134 0.16338134 0.16493425 0.17084534 0.17112085\n",
            " 0.16871634 0.16210394 0.16280526 0.16568566 0.17179712 0.1764809\n",
            " 0.17635567 0.183469   0.17361176 0.17554285 0.17690577 0.17785861\n",
            " 0.17857647 0.17917983 0.17973602 0.18027739 0.18081765 0.18136166\n",
            " 0.18191111 0.18246639 0.18302758 0.18359464 0.1841674  0.18474557\n",
            " 0.18532883 0.18591686 0.18650918 0.18710546 0.18770534 0.18830848\n",
            " 0.18891473 0.18952388 0.19013587 0.19075061]\n",
            "26 day output [[0.19136818]]\n",
            "27 day input [0.11739512 0.11448967 0.10429555 0.10537257 0.10659987 0.09986224\n",
            " 0.10289292 0.10161553 0.09635567 0.09785848 0.11068253 0.11769568\n",
            " 0.11211021 0.11529117 0.10958046 0.10434565 0.1092799  0.11458986\n",
            " 0.11559173 0.12275517 0.12062617 0.12663745 0.13134627 0.12771446\n",
            " 0.13046963 0.13377583 0.12884158 0.12726362 0.13507827 0.13906074\n",
            " 0.14542267 0.14860363 0.1472511  0.14256731 0.14482154 0.13823419\n",
            " 0.13515341 0.13340013 0.14707577 0.14619912 0.14624922 0.14935504\n",
            " 0.15226049 0.14980589 0.14572323 0.14649969 0.14259236 0.14256731\n",
            " 0.15421415 0.15739512 0.15716969 0.15453976 0.15180964 0.14765185\n",
            " 0.16713838 0.16696306 0.16262993 0.16710081 0.16758923 0.16463369\n",
            " 0.16338134 0.16338134 0.16493425 0.17084534 0.17112085 0.16871634\n",
            " 0.16210394 0.16280526 0.16568566 0.17179712 0.1764809  0.17635567\n",
            " 0.183469   0.17361176 0.17554285 0.17690577 0.17785861 0.17857647\n",
            " 0.17917983 0.17973602 0.18027739 0.18081765 0.18136166 0.18191111\n",
            " 0.18246639 0.18302758 0.18359464 0.1841674  0.18474557 0.18532883\n",
            " 0.18591686 0.18650918 0.18710546 0.18770534 0.18830848 0.18891473\n",
            " 0.18952388 0.19013587 0.19075061 0.19136818]\n",
            "27 day output [[0.1919886]]\n",
            "28 day input [0.11448967 0.10429555 0.10537257 0.10659987 0.09986224 0.10289292\n",
            " 0.10161553 0.09635567 0.09785848 0.11068253 0.11769568 0.11211021\n",
            " 0.11529117 0.10958046 0.10434565 0.1092799  0.11458986 0.11559173\n",
            " 0.12275517 0.12062617 0.12663745 0.13134627 0.12771446 0.13046963\n",
            " 0.13377583 0.12884158 0.12726362 0.13507827 0.13906074 0.14542267\n",
            " 0.14860363 0.1472511  0.14256731 0.14482154 0.13823419 0.13515341\n",
            " 0.13340013 0.14707577 0.14619912 0.14624922 0.14935504 0.15226049\n",
            " 0.14980589 0.14572323 0.14649969 0.14259236 0.14256731 0.15421415\n",
            " 0.15739512 0.15716969 0.15453976 0.15180964 0.14765185 0.16713838\n",
            " 0.16696306 0.16262993 0.16710081 0.16758923 0.16463369 0.16338134\n",
            " 0.16338134 0.16493425 0.17084534 0.17112085 0.16871634 0.16210394\n",
            " 0.16280526 0.16568566 0.17179712 0.1764809  0.17635567 0.183469\n",
            " 0.17361176 0.17554285 0.17690577 0.17785861 0.17857647 0.17917983\n",
            " 0.17973602 0.18027739 0.18081765 0.18136166 0.18191111 0.18246639\n",
            " 0.18302758 0.18359464 0.1841674  0.18474557 0.18532883 0.18591686\n",
            " 0.18650918 0.18710546 0.18770534 0.18830848 0.18891473 0.18952388\n",
            " 0.19013587 0.19075061 0.19136818 0.1919886 ]\n",
            "28 day output [[0.19261195]]\n",
            "29 day input [0.10429555 0.10537257 0.10659987 0.09986224 0.10289292 0.10161553\n",
            " 0.09635567 0.09785848 0.11068253 0.11769568 0.11211021 0.11529117\n",
            " 0.10958046 0.10434565 0.1092799  0.11458986 0.11559173 0.12275517\n",
            " 0.12062617 0.12663745 0.13134627 0.12771446 0.13046963 0.13377583\n",
            " 0.12884158 0.12726362 0.13507827 0.13906074 0.14542267 0.14860363\n",
            " 0.1472511  0.14256731 0.14482154 0.13823419 0.13515341 0.13340013\n",
            " 0.14707577 0.14619912 0.14624922 0.14935504 0.15226049 0.14980589\n",
            " 0.14572323 0.14649969 0.14259236 0.14256731 0.15421415 0.15739512\n",
            " 0.15716969 0.15453976 0.15180964 0.14765185 0.16713838 0.16696306\n",
            " 0.16262993 0.16710081 0.16758923 0.16463369 0.16338134 0.16338134\n",
            " 0.16493425 0.17084534 0.17112085 0.16871634 0.16210394 0.16280526\n",
            " 0.16568566 0.17179712 0.1764809  0.17635567 0.183469   0.17361176\n",
            " 0.17554285 0.17690577 0.17785861 0.17857647 0.17917983 0.17973602\n",
            " 0.18027739 0.18081765 0.18136166 0.18191111 0.18246639 0.18302758\n",
            " 0.18359464 0.1841674  0.18474557 0.18532883 0.18591686 0.18650918\n",
            " 0.18710546 0.18770534 0.18830848 0.18891473 0.18952388 0.19013587\n",
            " 0.19075061 0.19136818 0.1919886  0.19261195]\n",
            "29 day output [[0.19323833]]\n"
          ]
        }
      ]
    },
    {
      "cell_type": "code",
      "source": [
        "day_new = np.arange(1, 101)\n",
        "day_pred = np.arange(101, 131)"
      ],
      "metadata": {
        "id": "jFNN1MlusPEd"
      },
      "execution_count": null,
      "outputs": []
    },
    {
      "cell_type": "code",
      "source": [
        "len(df1)"
      ],
      "metadata": {
        "colab": {
          "base_uri": "https://localhost:8080/"
        },
        "id": "8AEMfe_hs0Oz",
        "outputId": "a40ad4da-4b42-402f-fb3b-f7c8f48e795f"
      },
      "execution_count": null,
      "outputs": [
        {
          "output_type": "execute_result",
          "data": {
            "text/plain": [
              "1258"
            ]
          },
          "metadata": {},
          "execution_count": 60
        }
      ]
    },
    {
      "cell_type": "code",
      "source": [
        "df3 = df1.tolist()\n",
        "df3.extend(lst_output)"
      ],
      "metadata": {
        "id": "8EdNnK4ws1VX"
      },
      "execution_count": null,
      "outputs": []
    },
    {
      "cell_type": "code",
      "source": [
        "plt.plot(day_new, scaler.inverse_transform(df1[1158:]))\n",
        "plt.plot(day_pred, scaler.inverse_transform(lst_output))"
      ],
      "metadata": {
        "colab": {
          "base_uri": "https://localhost:8080/",
          "height": 447
        },
        "id": "UPmPjF8rs7C2",
        "outputId": "66a1f8e3-4839-49ad-f310-bbdcaa423d57"
      },
      "execution_count": null,
      "outputs": [
        {
          "output_type": "execute_result",
          "data": {
            "text/plain": [
              "[<matplotlib.lines.Line2D at 0x7fc96e2aaa70>]"
            ]
          },
          "metadata": {},
          "execution_count": 63
        },
        {
          "output_type": "display_data",
          "data": {
            "text/plain": [
              "<Figure size 640x480 with 1 Axes>"
            ],
            "image/png": "[encoded data removed]"
          },
          "metadata": {}
        }
      ]
    },
    {
      "cell_type": "code",
      "source": [
        "df3 = df1.tolist()\n",
        "df3.extend(lst_output)\n",
        "plt.plot(df3[1200:])  "
      ],
      "metadata": {
        "colab": {
          "base_uri": "https://localhost:8080/",
          "height": 447
        },
        "id": "gOwtzdoutJFS",
        "outputId": "86c839fa-0fc6-4639-a322-ac961d069fe1"
      },
      "execution_count": null,
      "outputs": [
        {
          "output_type": "execute_result",
          "data": {
            "text/plain": [
              "[<matplotlib.lines.Line2D at 0x7fc96dac1d80>]"
            ]
          },
          "metadata": {},
          "execution_count": 65
        },
        {
          "output_type": "display_data",
          "data": {
            "text/plain": [
              "<Figure size 640x480 with 1 Axes>"
            ],
            "image/png": "[encoded data removed]"
          },
          "metadata": {}
        }
      ]
    },
    {
      "cell_type": "code",
      "source": [],
      "metadata": {
        "id": "R76wbY9qtiZA"
      },
      "execution_count": null,
      "outputs": []
    }
  ]
}