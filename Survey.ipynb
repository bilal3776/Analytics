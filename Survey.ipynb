{
 "cells": [
  {
   "cell_type": "code",
   "execution_count": 5,
   "metadata": {},
   "outputs": [],
   "source": [
    "import pandas as pd\n",
    "import numpy as np\n",
    "import matplotlib.pyplot as plt\n",
    "import seaborn as sns\n",
    "import streamlit as st"
   ]
  },
  {
   "cell_type": "code",
   "execution_count": 6,
   "metadata": {},
   "outputs": [],
   "source": [
    "survey = pd.read_csv(r'C:\\Users\\Admin\\Downloads\\Survey Dataset - Technical Interview.csv')"
   ]
  },
  {
   "cell_type": "code",
   "execution_count": 7,
   "metadata": {},
   "outputs": [
    {
     "data": {
      "text/plain": [
       "response_id         6867\n",
       "collection_date     6867\n",
       "urban_rural         6867\n",
       "education           6867\n",
       "income              6867\n",
       "Vote_Now            6867\n",
       "Past_Vote           6867\n",
       "CM_satisfaction     6867\n",
       "MLA_satisfaction    6867\n",
       "age                 6867\n",
       "gender              6867\n",
       "assembly_no         6867\n",
       "category            6867\n",
       "weight              6867\n",
       "dtype: int64"
      ]
     },
     "execution_count": 7,
     "metadata": {},
     "output_type": "execute_result"
    }
   ],
   "source": [
    "survey.count()"
   ]
  },
  {
   "cell_type": "code",
   "execution_count": 8,
   "metadata": {},
   "outputs": [
    {
     "data": {
      "text/plain": [
       "collection_date\n",
       "5-24-2017    1479\n",
       "5-25-2017     998\n",
       "5-26-2017     598\n",
       "5-27-2017     665\n",
       "5-28-2017     761\n",
       "5-29-2017     620\n",
       "5-30-2017     582\n",
       "5-31-2017     557\n",
       "6-1-2017      607\n",
       "Name: response_id, dtype: int64"
      ]
     },
     "execution_count": 8,
     "metadata": {},
     "output_type": "execute_result"
    }
   ],
   "source": [
    "#how many collections were collected on each day\n",
    "survey.groupby('collection_date')['response_id'].count()"
   ]
  },
  {
   "cell_type": "code",
   "execution_count": 9,
   "metadata": {},
   "outputs": [
    {
     "data": {
      "text/plain": [
       "dtype('O')"
      ]
     },
     "execution_count": 9,
     "metadata": {},
     "output_type": "execute_result"
    }
   ],
   "source": [
    "#Question 3 - What proportion of the total respondents were aged less than 45?sa\n",
    "survey['age'].dtype"
   ]
  },
  {
   "cell_type": "code",
   "execution_count": 10,
   "metadata": {},
   "outputs": [
    {
     "data": {
      "text/plain": [
       "array(['26', '34', '25', '36', '22', '38', '23', '42', '51', '29', '24',\n",
       "       '30', '39', '37', '19', '44', '53', '32', '21', '18', '20', '27',\n",
       "       '48', '28', '45', '74', '35', '31', '70', '40', '49', '46', '43',\n",
       "       '41', '33', '58', '24ko', '56', '50', '55', '54', '62', '60', '59',\n",
       "       '47', '61', '52', '66', '57', '67', '65', '71', '63', '64', '68',\n",
       "       '69', '99', '72', '75', '76'], dtype=object)"
      ]
     },
     "execution_count": 10,
     "metadata": {},
     "output_type": "execute_result"
    }
   ],
   "source": [
    "survey['age'].unique()"
   ]
  },
  {
   "cell_type": "code",
   "execution_count": 11,
   "metadata": {},
   "outputs": [],
   "source": [
    "survey['age'].replace({'24ko':24}, inplace=True)"
   ]
  },
  {
   "cell_type": "code",
   "execution_count": 12,
   "metadata": {},
   "outputs": [
    {
     "data": {
      "text/plain": [
       "array(['26', '34', '25', '36', '22', '38', '23', '42', '51', '29', '24',\n",
       "       '30', '39', '37', '19', '44', '53', '32', '21', '18', '20', '27',\n",
       "       '48', '28', '45', '74', '35', '31', '70', '40', '49', '46', '43',\n",
       "       '41', '33', '58', 24, '56', '50', '55', '54', '62', '60', '59',\n",
       "       '47', '61', '52', '66', '57', '67', '65', '71', '63', '64', '68',\n",
       "       '69', '99', '72', '75', '76'], dtype=object)"
      ]
     },
     "execution_count": 12,
     "metadata": {},
     "output_type": "execute_result"
    }
   ],
   "source": [
    "survey['age'].unique()"
   ]
  },
  {
   "cell_type": "code",
   "execution_count": 13,
   "metadata": {},
   "outputs": [],
   "source": [
    "survey['age'] = survey['age'].astype('int')"
   ]
  },
  {
   "cell_type": "code",
   "execution_count": 14,
   "metadata": {},
   "outputs": [
    {
     "data": {
      "text/plain": [
       "dtype('int32')"
      ]
     },
     "execution_count": 14,
     "metadata": {},
     "output_type": "execute_result"
    }
   ],
   "source": [
    "survey['age'].dtype"
   ]
  },
  {
   "cell_type": "code",
   "execution_count": 15,
   "metadata": {},
   "outputs": [
    {
     "data": {
      "text/plain": [
       "response_id         6399\n",
       "collection_date     6399\n",
       "urban_rural         6399\n",
       "education           6399\n",
       "income              6399\n",
       "Vote_Now            6399\n",
       "Past_Vote           6399\n",
       "CM_satisfaction     6399\n",
       "MLA_satisfaction    6399\n",
       "age                 6399\n",
       "gender              6399\n",
       "assembly_no         6399\n",
       "category            6399\n",
       "weight              6399\n",
       "dtype: int64"
      ]
     },
     "execution_count": 15,
     "metadata": {},
     "output_type": "execute_result"
    }
   ],
   "source": [
    "survey[survey['age']<45].count()"
   ]
  },
  {
   "cell_type": "code",
   "execution_count": 16,
   "metadata": {},
   "outputs": [
    {
     "data": {
      "text/plain": [
       "93.18479685452162"
      ]
     },
     "execution_count": 16,
     "metadata": {},
     "output_type": "execute_result"
    }
   ],
   "source": [
    "#now for finding out proportion we have to divide the total number of the people to total number of the age group less than 45\n",
    "6399/6867*100"
   ]
  },
  {
   "cell_type": "code",
   "execution_count": 21,
   "metadata": {},
   "outputs": [],
   "source": [
    "#Question 4 - Create a new column in the dataframe “age_group”.\n",
    "#  This column should contain the age group the respondent belongs to.\n",
    "#  The age groups are 18-25, 25-40, 40-55 and 55+. The dataframe should look like this after the column creation.\n",
    "#survey['age_group'] = survey[]\n",
    "survey.groupby('age')['age'].sum()\n",
    "\n",
    "#lets create a copy of our data so we can do manipulations in that\n",
    "df= survey.copy()"
   ]
  },
  {
   "cell_type": "code",
   "execution_count": 23,
   "metadata": {},
   "outputs": [],
   "source": [
    "#we add new column by using insert formula- df.insert(new column position, new col name, colname)\n",
    "df.insert(10, 'age_group', survey.age)"
   ]
  },
  {
   "cell_type": "code",
   "execution_count": 36,
   "metadata": {},
   "outputs": [
    {
     "data": {
      "text/html": [
       "<div>\n",
       "<style scoped>\n",
       "    .dataframe tbody tr th:only-of-type {\n",
       "        vertical-align: middle;\n",
       "    }\n",
       "\n",
       "    .dataframe tbody tr th {\n",
       "        vertical-align: top;\n",
       "    }\n",
       "\n",
       "    .dataframe thead th {\n",
       "        text-align: right;\n",
       "    }\n",
       "</style>\n",
       "<table border=\"1\" class=\"dataframe\">\n",
       "  <thead>\n",
       "    <tr style=\"text-align: right;\">\n",
       "      <th></th>\n",
       "      <th>response_id</th>\n",
       "      <th>collection_date</th>\n",
       "      <th>urban_rural</th>\n",
       "      <th>education</th>\n",
       "      <th>income</th>\n",
       "      <th>Vote_Now</th>\n",
       "      <th>Past_Vote</th>\n",
       "      <th>CM_satisfaction</th>\n",
       "      <th>MLA_satisfaction</th>\n",
       "      <th>age</th>\n",
       "      <th>age_group</th>\n",
       "      <th>gender</th>\n",
       "      <th>assembly_no</th>\n",
       "      <th>category</th>\n",
       "      <th>weight</th>\n",
       "    </tr>\n",
       "  </thead>\n",
       "  <tbody>\n",
       "    <tr>\n",
       "      <th>0</th>\n",
       "      <td>1</td>\n",
       "      <td>5-24-2017</td>\n",
       "      <td>Rural</td>\n",
       "      <td>12th Pass</td>\n",
       "      <td>₹ 30,000 - ₹ 50,000</td>\n",
       "      <td>BJP</td>\n",
       "      <td>BJP</td>\n",
       "      <td>Fully Dissatisfied</td>\n",
       "      <td>Fully Dissatisfied</td>\n",
       "      <td>26</td>\n",
       "      <td>26</td>\n",
       "      <td>Male</td>\n",
       "      <td>211</td>\n",
       "      <td>Gen</td>\n",
       "      <td>0.346969</td>\n",
       "    </tr>\n",
       "  </tbody>\n",
       "</table>\n",
       "</div>"
      ],
      "text/plain": [
       "   response_id collection_date urban_rural  education               income  \\\n",
       "0            1       5-24-2017       Rural  12th Pass  ₹ 30,000 - ₹ 50,000   \n",
       "\n",
       "  Vote_Now Past_Vote     CM_satisfaction    MLA_satisfaction  age  age_group  \\\n",
       "0      BJP       BJP  Fully Dissatisfied  Fully Dissatisfied   26         26   \n",
       "\n",
       "  gender  assembly_no category    weight  \n",
       "0   Male          211      Gen  0.346969  "
      ]
     },
     "execution_count": 36,
     "metadata": {},
     "output_type": "execute_result"
    }
   ],
   "source": [
    "df1 = df[(df['age_group']>=18) & (df['age_group']<25)]\n",
    "df.head(1)"
   ]
  },
  {
   "cell_type": "code",
   "execution_count": 37,
   "metadata": {},
   "outputs": [
    {
     "data": {
      "text/plain": [
       "array([22, 23, 24, 19, 21, 18, 20])"
      ]
     },
     "execution_count": 37,
     "metadata": {},
     "output_type": "execute_result"
    }
   ],
   "source": [
    "df1.age_group.unique()"
   ]
  },
  {
   "cell_type": "code",
   "execution_count": 38,
   "metadata": {},
   "outputs": [
    {
     "name": "stderr",
     "output_type": "stream",
     "text": [
      "C:\\Users\\Admin\\AppData\\Local\\Temp\\ipykernel_9864\\3063979790.py:1: SettingWithCopyWarning: \n",
      "A value is trying to be set on a copy of a slice from a DataFrame.\n",
      "Try using .loc[row_indexer,col_indexer] = value instead\n",
      "\n",
      "See the caveats in the documentation: https://pandas.pydata.org/pandas-docs/stable/user_guide/indexing.html#returning-a-view-versus-a-copy\n",
      "  df1['age_group'] = '18-25'\n"
     ]
    }
   ],
   "source": [
    "df1['age_group'] = '18-25'\n",
    "#it will create the range "
   ]
  },
  {
   "cell_type": "code",
   "execution_count": 40,
   "metadata": {},
   "outputs": [
    {
     "data": {
      "text/html": [
       "<div>\n",
       "<style scoped>\n",
       "    .dataframe tbody tr th:only-of-type {\n",
       "        vertical-align: middle;\n",
       "    }\n",
       "\n",
       "    .dataframe tbody tr th {\n",
       "        vertical-align: top;\n",
       "    }\n",
       "\n",
       "    .dataframe thead th {\n",
       "        text-align: right;\n",
       "    }\n",
       "</style>\n",
       "<table border=\"1\" class=\"dataframe\">\n",
       "  <thead>\n",
       "    <tr style=\"text-align: right;\">\n",
       "      <th></th>\n",
       "      <th>response_id</th>\n",
       "      <th>collection_date</th>\n",
       "      <th>urban_rural</th>\n",
       "      <th>education</th>\n",
       "      <th>income</th>\n",
       "      <th>Vote_Now</th>\n",
       "      <th>Past_Vote</th>\n",
       "      <th>CM_satisfaction</th>\n",
       "      <th>MLA_satisfaction</th>\n",
       "      <th>age</th>\n",
       "      <th>age_group</th>\n",
       "      <th>gender</th>\n",
       "      <th>assembly_no</th>\n",
       "      <th>category</th>\n",
       "      <th>weight</th>\n",
       "    </tr>\n",
       "  </thead>\n",
       "  <tbody>\n",
       "    <tr>\n",
       "      <th>4</th>\n",
       "      <td>5</td>\n",
       "      <td>5-24-2017</td>\n",
       "      <td>Rural</td>\n",
       "      <td>Graduate</td>\n",
       "      <td>₹ 50,000 - ₹ 80,000</td>\n",
       "      <td>JD(U)</td>\n",
       "      <td>Did not vote</td>\n",
       "      <td>Fully Satisfied</td>\n",
       "      <td>Fully Satisfied</td>\n",
       "      <td>22</td>\n",
       "      <td>18-25</td>\n",
       "      <td>Male</td>\n",
       "      <td>176</td>\n",
       "      <td>BC</td>\n",
       "      <td>0.333505</td>\n",
       "    </tr>\n",
       "    <tr>\n",
       "      <th>8</th>\n",
       "      <td>9</td>\n",
       "      <td>5-24-2017</td>\n",
       "      <td>Urban</td>\n",
       "      <td>12th Pass</td>\n",
       "      <td>BPL/Below ₹ 5,000</td>\n",
       "      <td>BJP</td>\n",
       "      <td>BJP</td>\n",
       "      <td>Fully Satisfied</td>\n",
       "      <td>Fully Dissatisfied</td>\n",
       "      <td>23</td>\n",
       "      <td>18-25</td>\n",
       "      <td>Male</td>\n",
       "      <td>181</td>\n",
       "      <td>Gen</td>\n",
       "      <td>0.226477</td>\n",
       "    </tr>\n",
       "  </tbody>\n",
       "</table>\n",
       "</div>"
      ],
      "text/plain": [
       "   response_id collection_date urban_rural  education               income  \\\n",
       "4            5       5-24-2017       Rural   Graduate  ₹ 50,000 - ₹ 80,000   \n",
       "8            9       5-24-2017       Urban  12th Pass    BPL/Below ₹ 5,000   \n",
       "\n",
       "  Vote_Now     Past_Vote  CM_satisfaction    MLA_satisfaction  age age_group  \\\n",
       "4    JD(U)  Did not vote  Fully Satisfied     Fully Satisfied   22     18-25   \n",
       "8      BJP           BJP  Fully Satisfied  Fully Dissatisfied   23     18-25   \n",
       "\n",
       "  gender  assembly_no category    weight  \n",
       "4   Male          176       BC  0.333505  \n",
       "8   Male          181      Gen  0.226477  "
      ]
     },
     "execution_count": 40,
     "metadata": {},
     "output_type": "execute_result"
    }
   ],
   "source": [
    "df1.head(2)"
   ]
  },
  {
   "cell_type": "code",
   "execution_count": 42,
   "metadata": {},
   "outputs": [],
   "source": [
    "df2 = df[(df['age_group']>=25) & (df['age_group']<40)]"
   ]
  },
  {
   "cell_type": "code",
   "execution_count": 43,
   "metadata": {},
   "outputs": [
    {
     "name": "stderr",
     "output_type": "stream",
     "text": [
      "C:\\Users\\Admin\\AppData\\Local\\Temp\\ipykernel_9864\\4099768145.py:1: SettingWithCopyWarning: \n",
      "A value is trying to be set on a copy of a slice from a DataFrame.\n",
      "Try using .loc[row_indexer,col_indexer] = value instead\n",
      "\n",
      "See the caveats in the documentation: https://pandas.pydata.org/pandas-docs/stable/user_guide/indexing.html#returning-a-view-versus-a-copy\n",
      "  df2['age_group'] = 25-40\n"
     ]
    }
   ],
   "source": [
    "df2['age_group'] = 25-40"
   ]
  },
  {
   "cell_type": "code",
   "execution_count": 57,
   "metadata": {},
   "outputs": [
    {
     "data": {
      "text/plain": [
       "array([-15], dtype=int64)"
      ]
     },
     "execution_count": 57,
     "metadata": {},
     "output_type": "execute_result"
    }
   ],
   "source": [
    "df3 = df[(df['age_group']>=40) & (df['age_group']< 55)]\n",
    "df['age_group'].unique()"
   ]
  },
  {
   "cell_type": "code",
   "execution_count": 47,
   "metadata": {},
   "outputs": [
    {
     "name": "stderr",
     "output_type": "stream",
     "text": [
      "C:\\Users\\Admin\\AppData\\Local\\Temp\\ipykernel_9864\\518879692.py:1: SettingWithCopyWarning: \n",
      "A value is trying to be set on a copy of a slice from a DataFrame.\n",
      "Try using .loc[row_indexer,col_indexer] = value instead\n",
      "\n",
      "See the caveats in the documentation: https://pandas.pydata.org/pandas-docs/stable/user_guide/indexing.html#returning-a-view-versus-a-copy\n",
      "  df3['age_group'] = 40-55\n"
     ]
    }
   ],
   "source": [
    "df3['age_group'] = 40-55"
   ]
  },
  {
   "cell_type": "code",
   "execution_count": 56,
   "metadata": {},
   "outputs": [
    {
     "data": {
      "text/plain": [
       "array([], dtype=int64)"
      ]
     },
     "execution_count": 56,
     "metadata": {},
     "output_type": "execute_result"
    }
   ],
   "source": [
    "df4= df[(df['age_group']>=55)]    \n",
    "df4['age_group'].unique()"
   ]
  },
  {
   "cell_type": "code",
   "execution_count": 53,
   "metadata": {},
   "outputs": [
    {
     "ename": "TypeError",
     "evalue": "list indices must be integers or slices, not str",
     "output_type": "error",
     "traceback": [
      "\u001b[1;31m---------------------------------------------------------------------------\u001b[0m",
      "\u001b[1;31mTypeError\u001b[0m                                 Traceback (most recent call last)",
      "Cell \u001b[1;32mIn [53], line 1\u001b[0m\n\u001b[1;32m----> 1\u001b[0m \u001b[43mdf4\u001b[49m\u001b[43m[\u001b[49m\u001b[38;5;124;43m'\u001b[39;49m\u001b[38;5;124;43mage_group\u001b[39;49m\u001b[38;5;124;43m'\u001b[39;49m\u001b[43m]\u001b[49m \u001b[38;5;241m=\u001b[39m \u001b[38;5;241m55\u001b[39m\n",
      "\u001b[1;31mTypeError\u001b[0m: list indices must be integers or slices, not str"
     ]
    }
   ],
   "source": [
    "df4['age_group'] = 55"
   ]
  },
  {
   "cell_type": "code",
   "execution_count": 62,
   "metadata": {},
   "outputs": [
    {
     "data": {
      "text/plain": [
       "array(['18-25', -15], dtype=object)"
      ]
     },
     "execution_count": 62,
     "metadata": {},
     "output_type": "execute_result"
    }
   ],
   "source": [
    "#then we will combine all the four columns to create our new dataframe age groups\n",
    "df6= pd.concat([df1,df2,df3])\n",
    "df6['age_group'].unique()\n",
    "\n",
    "# need to do it again"
   ]
  },
  {
   "cell_type": "code",
   "execution_count": 64,
   "metadata": {},
   "outputs": [],
   "source": [
    "#how many sample were collected \n"
   ]
  },
  {
   "cell_type": "code",
   "execution_count": 66,
   "metadata": {},
   "outputs": [
    {
     "data": {
      "text/html": [
       "<div>\n",
       "<style scoped>\n",
       "    .dataframe tbody tr th:only-of-type {\n",
       "        vertical-align: middle;\n",
       "    }\n",
       "\n",
       "    .dataframe tbody tr th {\n",
       "        vertical-align: top;\n",
       "    }\n",
       "\n",
       "    .dataframe thead th {\n",
       "        text-align: right;\n",
       "    }\n",
       "</style>\n",
       "<table border=\"1\" class=\"dataframe\">\n",
       "  <thead>\n",
       "    <tr style=\"text-align: right;\">\n",
       "      <th></th>\n",
       "      <th>response_id</th>\n",
       "      <th>collection_date</th>\n",
       "      <th>urban_rural</th>\n",
       "      <th>education</th>\n",
       "      <th>income</th>\n",
       "      <th>Vote_Now</th>\n",
       "      <th>Past_Vote</th>\n",
       "      <th>CM_satisfaction</th>\n",
       "      <th>MLA_satisfaction</th>\n",
       "      <th>age</th>\n",
       "      <th>age_group</th>\n",
       "      <th>gender</th>\n",
       "      <th>assembly_no</th>\n",
       "      <th>category</th>\n",
       "      <th>weight</th>\n",
       "    </tr>\n",
       "  </thead>\n",
       "  <tbody>\n",
       "    <tr>\n",
       "      <th>0</th>\n",
       "      <td>1</td>\n",
       "      <td>5-24-2017</td>\n",
       "      <td>Rural</td>\n",
       "      <td>12th Pass</td>\n",
       "      <td>₹ 30,000 - ₹ 50,000</td>\n",
       "      <td>BJP</td>\n",
       "      <td>BJP</td>\n",
       "      <td>Fully Dissatisfied</td>\n",
       "      <td>Fully Dissatisfied</td>\n",
       "      <td>26</td>\n",
       "      <td>-15</td>\n",
       "      <td>Male</td>\n",
       "      <td>211</td>\n",
       "      <td>Gen</td>\n",
       "      <td>0.346969</td>\n",
       "    </tr>\n",
       "  </tbody>\n",
       "</table>\n",
       "</div>"
      ],
      "text/plain": [
       "   response_id collection_date urban_rural  education               income  \\\n",
       "0            1       5-24-2017       Rural  12th Pass  ₹ 30,000 - ₹ 50,000   \n",
       "\n",
       "  Vote_Now Past_Vote     CM_satisfaction    MLA_satisfaction  age  age_group  \\\n",
       "0      BJP       BJP  Fully Dissatisfied  Fully Dissatisfied   26        -15   \n",
       "\n",
       "  gender  assembly_no category    weight  \n",
       "0   Male          211      Gen  0.346969  "
      ]
     },
     "execution_count": 66,
     "metadata": {},
     "output_type": "execute_result"
    }
   ],
   "source": [
    "df.head(1)"
   ]
  },
  {
   "cell_type": "code",
   "execution_count": null,
   "metadata": {},
   "outputs": [],
   "source": []
  },
  {
   "cell_type": "code",
   "execution_count": null,
   "metadata": {},
   "outputs": [],
   "source": []
  }
 ],
 "metadata": {
  "kernelspec": {
   "display_name": "Python 3.10.4 64-bit",
   "language": "python",
   "name": "python3"
  },
  "language_info": {
   "codemirror_mode": {
    "name": "ipython",
    "version": 3
   },
   "file_extension": ".py",
   "mimetype": "text/x-python",
   "name": "python",
   "nbconvert_exporter": "python",
   "pygments_lexer": "ipython3",
   "version": "3.10.4"
  },
  "orig_nbformat": 4,
  "vscode": {
   "interpreter": {
    "hash": "a42ccb73e7d9bfdf27e036f1d2b8b681e55fc0743cc5586bc2474d4a60f4b886"
   }
  }
 },
 "nbformat": 4,
 "nbformat_minor": 2
}
